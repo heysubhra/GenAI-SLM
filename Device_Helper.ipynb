{
  "cells": [
    {
      "cell_type": "markdown",
      "metadata": {
        "id": "7A0IFOPl5s0f"
      },
      "source": [
        "# Device Helper: Graph RAG"
      ]
    },
    {
      "cell_type": "markdown",
      "metadata": {
        "id": "w7j73-4B5Grl"
      },
      "source": [
        "Reference: https://colab.research.google.com/drive/1_AK-CHELz0fLAc2RCPvPgD-R7-NGyrGu#scrollTo=bGBJEDKKjRu9\n"
      ]
    },
    {
      "cell_type": "code",
      "execution_count": 1,
      "metadata": {
        "id": "SxUbBYBBfuli",
        "colab": {
          "base_uri": "https://localhost:8080/"
        },
        "outputId": "86b3e72d-9e32-4404-c1d4-fdfb40b58884"
      },
      "outputs": [
        {
          "output_type": "stream",
          "name": "stdout",
          "text": [
            "Collecting kuzu\n",
            "  Downloading kuzu-0.9.0-cp311-cp311-manylinux_2_27_x86_64.manylinux_2_28_x86_64.whl.metadata (5.1 kB)\n",
            "Requirement already satisfied: scipy in /usr/local/lib/python3.11/dist-packages (1.14.1)\n",
            "Requirement already satisfied: networkx in /usr/local/lib/python3.11/dist-packages (3.4.2)\n",
            "Requirement already satisfied: pandas in /usr/local/lib/python3.11/dist-packages (2.2.2)\n",
            "Requirement already satisfied: numpy<2.3,>=1.23.5 in /usr/local/lib/python3.11/dist-packages (from scipy) (2.0.2)\n",
            "Requirement already satisfied: python-dateutil>=2.8.2 in /usr/local/lib/python3.11/dist-packages (from pandas) (2.8.2)\n",
            "Requirement already satisfied: pytz>=2020.1 in /usr/local/lib/python3.11/dist-packages (from pandas) (2025.2)\n",
            "Requirement already satisfied: tzdata>=2022.7 in /usr/local/lib/python3.11/dist-packages (from pandas) (2025.2)\n",
            "Requirement already satisfied: six>=1.5 in /usr/local/lib/python3.11/dist-packages (from python-dateutil>=2.8.2->pandas) (1.17.0)\n",
            "Downloading kuzu-0.9.0-cp311-cp311-manylinux_2_27_x86_64.manylinux_2_28_x86_64.whl (6.9 MB)\n",
            "\u001b[2K   \u001b[90m━━━━━━━━━━━━━━━━━━━━━━━━━━━━━━━━━━━━━━━━\u001b[0m \u001b[32m6.9/6.9 MB\u001b[0m \u001b[31m15.4 MB/s\u001b[0m eta \u001b[36m0:00:00\u001b[0m\n",
            "\u001b[?25hInstalling collected packages: kuzu\n",
            "Successfully installed kuzu-0.9.0\n",
            "Requirement already satisfied: matplotlib in /usr/local/lib/python3.11/dist-packages (3.10.0)\n",
            "Requirement already satisfied: ipywidgets in /usr/local/lib/python3.11/dist-packages (7.7.1)\n",
            "Collecting yfiles-jupyter-graphs\n",
            "  Downloading yfiles_jupyter_graphs-1.10.3-py3-none-any.whl.metadata (20 kB)\n",
            "Requirement already satisfied: contourpy>=1.0.1 in /usr/local/lib/python3.11/dist-packages (from matplotlib) (1.3.2)\n",
            "Requirement already satisfied: cycler>=0.10 in /usr/local/lib/python3.11/dist-packages (from matplotlib) (0.12.1)\n",
            "Requirement already satisfied: fonttools>=4.22.0 in /usr/local/lib/python3.11/dist-packages (from matplotlib) (4.57.0)\n",
            "Requirement already satisfied: kiwisolver>=1.3.1 in /usr/local/lib/python3.11/dist-packages (from matplotlib) (1.4.8)\n",
            "Requirement already satisfied: numpy>=1.23 in /usr/local/lib/python3.11/dist-packages (from matplotlib) (2.0.2)\n",
            "Requirement already satisfied: packaging>=20.0 in /usr/local/lib/python3.11/dist-packages (from matplotlib) (24.2)\n",
            "Requirement already satisfied: pillow>=8 in /usr/local/lib/python3.11/dist-packages (from matplotlib) (11.1.0)\n",
            "Requirement already satisfied: pyparsing>=2.3.1 in /usr/local/lib/python3.11/dist-packages (from matplotlib) (3.2.3)\n",
            "Requirement already satisfied: python-dateutil>=2.7 in /usr/local/lib/python3.11/dist-packages (from matplotlib) (2.8.2)\n",
            "Requirement already satisfied: ipykernel>=4.5.1 in /usr/local/lib/python3.11/dist-packages (from ipywidgets) (6.17.1)\n",
            "Requirement already satisfied: ipython-genutils~=0.2.0 in /usr/local/lib/python3.11/dist-packages (from ipywidgets) (0.2.0)\n",
            "Requirement already satisfied: traitlets>=4.3.1 in /usr/local/lib/python3.11/dist-packages (from ipywidgets) (5.7.1)\n",
            "Requirement already satisfied: widgetsnbextension~=3.6.0 in /usr/local/lib/python3.11/dist-packages (from ipywidgets) (3.6.10)\n",
            "Requirement already satisfied: ipython>=4.0.0 in /usr/local/lib/python3.11/dist-packages (from ipywidgets) (7.34.0)\n",
            "Requirement already satisfied: jupyterlab-widgets>=1.0.0 in /usr/local/lib/python3.11/dist-packages (from ipywidgets) (3.0.14)\n",
            "Requirement already satisfied: debugpy>=1.0 in /usr/local/lib/python3.11/dist-packages (from ipykernel>=4.5.1->ipywidgets) (1.8.0)\n",
            "Requirement already satisfied: jupyter-client>=6.1.12 in /usr/local/lib/python3.11/dist-packages (from ipykernel>=4.5.1->ipywidgets) (6.1.12)\n",
            "Requirement already satisfied: matplotlib-inline>=0.1 in /usr/local/lib/python3.11/dist-packages (from ipykernel>=4.5.1->ipywidgets) (0.1.7)\n",
            "Requirement already satisfied: nest-asyncio in /usr/local/lib/python3.11/dist-packages (from ipykernel>=4.5.1->ipywidgets) (1.6.0)\n",
            "Requirement already satisfied: psutil in /usr/local/lib/python3.11/dist-packages (from ipykernel>=4.5.1->ipywidgets) (5.9.5)\n",
            "Requirement already satisfied: pyzmq>=17 in /usr/local/lib/python3.11/dist-packages (from ipykernel>=4.5.1->ipywidgets) (24.0.1)\n",
            "Requirement already satisfied: tornado>=6.1 in /usr/local/lib/python3.11/dist-packages (from ipykernel>=4.5.1->ipywidgets) (6.4.2)\n",
            "Requirement already satisfied: setuptools>=18.5 in /usr/local/lib/python3.11/dist-packages (from ipython>=4.0.0->ipywidgets) (75.2.0)\n",
            "Collecting jedi>=0.16 (from ipython>=4.0.0->ipywidgets)\n",
            "  Downloading jedi-0.19.2-py2.py3-none-any.whl.metadata (22 kB)\n",
            "Requirement already satisfied: decorator in /usr/local/lib/python3.11/dist-packages (from ipython>=4.0.0->ipywidgets) (4.4.2)\n",
            "Requirement already satisfied: pickleshare in /usr/local/lib/python3.11/dist-packages (from ipython>=4.0.0->ipywidgets) (0.7.5)\n",
            "Requirement already satisfied: prompt-toolkit!=3.0.0,!=3.0.1,<3.1.0,>=2.0.0 in /usr/local/lib/python3.11/dist-packages (from ipython>=4.0.0->ipywidgets) (3.0.51)\n",
            "Requirement already satisfied: pygments in /usr/local/lib/python3.11/dist-packages (from ipython>=4.0.0->ipywidgets) (2.18.0)\n",
            "Requirement already satisfied: backcall in /usr/local/lib/python3.11/dist-packages (from ipython>=4.0.0->ipywidgets) (0.2.0)\n",
            "Requirement already satisfied: pexpect>4.3 in /usr/local/lib/python3.11/dist-packages (from ipython>=4.0.0->ipywidgets) (4.9.0)\n",
            "Requirement already satisfied: six>=1.5 in /usr/local/lib/python3.11/dist-packages (from python-dateutil>=2.7->matplotlib) (1.17.0)\n",
            "Requirement already satisfied: notebook>=4.4.1 in /usr/local/lib/python3.11/dist-packages (from widgetsnbextension~=3.6.0->ipywidgets) (6.5.7)\n",
            "Requirement already satisfied: parso<0.9.0,>=0.8.4 in /usr/local/lib/python3.11/dist-packages (from jedi>=0.16->ipython>=4.0.0->ipywidgets) (0.8.4)\n",
            "Requirement already satisfied: jupyter-core>=4.6.0 in /usr/local/lib/python3.11/dist-packages (from jupyter-client>=6.1.12->ipykernel>=4.5.1->ipywidgets) (5.7.2)\n",
            "Requirement already satisfied: jinja2 in /usr/local/lib/python3.11/dist-packages (from notebook>=4.4.1->widgetsnbextension~=3.6.0->ipywidgets) (3.1.6)\n",
            "Requirement already satisfied: argon2-cffi in /usr/local/lib/python3.11/dist-packages (from notebook>=4.4.1->widgetsnbextension~=3.6.0->ipywidgets) (23.1.0)\n",
            "Requirement already satisfied: nbformat in /usr/local/lib/python3.11/dist-packages (from notebook>=4.4.1->widgetsnbextension~=3.6.0->ipywidgets) (5.10.4)\n",
            "Requirement already satisfied: nbconvert>=5 in /usr/local/lib/python3.11/dist-packages (from notebook>=4.4.1->widgetsnbextension~=3.6.0->ipywidgets) (7.16.6)\n",
            "Requirement already satisfied: Send2Trash>=1.8.0 in /usr/local/lib/python3.11/dist-packages (from notebook>=4.4.1->widgetsnbextension~=3.6.0->ipywidgets) (1.8.3)\n",
            "Requirement already satisfied: terminado>=0.8.3 in /usr/local/lib/python3.11/dist-packages (from notebook>=4.4.1->widgetsnbextension~=3.6.0->ipywidgets) (0.18.1)\n",
            "Requirement already satisfied: prometheus-client in /usr/local/lib/python3.11/dist-packages (from notebook>=4.4.1->widgetsnbextension~=3.6.0->ipywidgets) (0.21.1)\n",
            "Requirement already satisfied: nbclassic>=0.4.7 in /usr/local/lib/python3.11/dist-packages (from notebook>=4.4.1->widgetsnbextension~=3.6.0->ipywidgets) (1.2.0)\n",
            "Requirement already satisfied: ptyprocess>=0.5 in /usr/local/lib/python3.11/dist-packages (from pexpect>4.3->ipython>=4.0.0->ipywidgets) (0.7.0)\n",
            "Requirement already satisfied: wcwidth in /usr/local/lib/python3.11/dist-packages (from prompt-toolkit!=3.0.0,!=3.0.1,<3.1.0,>=2.0.0->ipython>=4.0.0->ipywidgets) (0.2.13)\n",
            "Requirement already satisfied: platformdirs>=2.5 in /usr/local/lib/python3.11/dist-packages (from jupyter-core>=4.6.0->jupyter-client>=6.1.12->ipykernel>=4.5.1->ipywidgets) (4.3.7)\n",
            "Requirement already satisfied: notebook-shim>=0.2.3 in /usr/local/lib/python3.11/dist-packages (from nbclassic>=0.4.7->notebook>=4.4.1->widgetsnbextension~=3.6.0->ipywidgets) (0.2.4)\n",
            "Requirement already satisfied: beautifulsoup4 in /usr/local/lib/python3.11/dist-packages (from nbconvert>=5->notebook>=4.4.1->widgetsnbextension~=3.6.0->ipywidgets) (4.13.4)\n",
            "Requirement already satisfied: bleach!=5.0.0 in /usr/local/lib/python3.11/dist-packages (from bleach[css]!=5.0.0->nbconvert>=5->notebook>=4.4.1->widgetsnbextension~=3.6.0->ipywidgets) (6.2.0)\n",
            "Requirement already satisfied: defusedxml in /usr/local/lib/python3.11/dist-packages (from nbconvert>=5->notebook>=4.4.1->widgetsnbextension~=3.6.0->ipywidgets) (0.7.1)\n",
            "Requirement already satisfied: jupyterlab-pygments in /usr/local/lib/python3.11/dist-packages (from nbconvert>=5->notebook>=4.4.1->widgetsnbextension~=3.6.0->ipywidgets) (0.3.0)\n",
            "Requirement already satisfied: markupsafe>=2.0 in /usr/local/lib/python3.11/dist-packages (from nbconvert>=5->notebook>=4.4.1->widgetsnbextension~=3.6.0->ipywidgets) (3.0.2)\n",
            "Requirement already satisfied: mistune<4,>=2.0.3 in /usr/local/lib/python3.11/dist-packages (from nbconvert>=5->notebook>=4.4.1->widgetsnbextension~=3.6.0->ipywidgets) (3.1.3)\n",
            "Requirement already satisfied: nbclient>=0.5.0 in /usr/local/lib/python3.11/dist-packages (from nbconvert>=5->notebook>=4.4.1->widgetsnbextension~=3.6.0->ipywidgets) (0.10.2)\n",
            "Requirement already satisfied: pandocfilters>=1.4.1 in /usr/local/lib/python3.11/dist-packages (from nbconvert>=5->notebook>=4.4.1->widgetsnbextension~=3.6.0->ipywidgets) (1.5.1)\n",
            "Requirement already satisfied: fastjsonschema>=2.15 in /usr/local/lib/python3.11/dist-packages (from nbformat->notebook>=4.4.1->widgetsnbextension~=3.6.0->ipywidgets) (2.21.1)\n",
            "Requirement already satisfied: jsonschema>=2.6 in /usr/local/lib/python3.11/dist-packages (from nbformat->notebook>=4.4.1->widgetsnbextension~=3.6.0->ipywidgets) (4.23.0)\n",
            "Requirement already satisfied: argon2-cffi-bindings in /usr/local/lib/python3.11/dist-packages (from argon2-cffi->notebook>=4.4.1->widgetsnbextension~=3.6.0->ipywidgets) (21.2.0)\n",
            "Requirement already satisfied: webencodings in /usr/local/lib/python3.11/dist-packages (from bleach!=5.0.0->bleach[css]!=5.0.0->nbconvert>=5->notebook>=4.4.1->widgetsnbextension~=3.6.0->ipywidgets) (0.5.1)\n",
            "Requirement already satisfied: tinycss2<1.5,>=1.1.0 in /usr/local/lib/python3.11/dist-packages (from bleach[css]!=5.0.0->nbconvert>=5->notebook>=4.4.1->widgetsnbextension~=3.6.0->ipywidgets) (1.4.0)\n",
            "Requirement already satisfied: attrs>=22.2.0 in /usr/local/lib/python3.11/dist-packages (from jsonschema>=2.6->nbformat->notebook>=4.4.1->widgetsnbextension~=3.6.0->ipywidgets) (25.3.0)\n",
            "Requirement already satisfied: jsonschema-specifications>=2023.03.6 in /usr/local/lib/python3.11/dist-packages (from jsonschema>=2.6->nbformat->notebook>=4.4.1->widgetsnbextension~=3.6.0->ipywidgets) (2024.10.1)\n",
            "Requirement already satisfied: referencing>=0.28.4 in /usr/local/lib/python3.11/dist-packages (from jsonschema>=2.6->nbformat->notebook>=4.4.1->widgetsnbextension~=3.6.0->ipywidgets) (0.36.2)\n",
            "Requirement already satisfied: rpds-py>=0.7.1 in /usr/local/lib/python3.11/dist-packages (from jsonschema>=2.6->nbformat->notebook>=4.4.1->widgetsnbextension~=3.6.0->ipywidgets) (0.24.0)\n",
            "Requirement already satisfied: jupyter-server<3,>=1.8 in /usr/local/lib/python3.11/dist-packages (from notebook-shim>=0.2.3->nbclassic>=0.4.7->notebook>=4.4.1->widgetsnbextension~=3.6.0->ipywidgets) (1.16.0)\n",
            "Requirement already satisfied: cffi>=1.0.1 in /usr/local/lib/python3.11/dist-packages (from argon2-cffi-bindings->argon2-cffi->notebook>=4.4.1->widgetsnbextension~=3.6.0->ipywidgets) (1.17.1)\n",
            "Requirement already satisfied: soupsieve>1.2 in /usr/local/lib/python3.11/dist-packages (from beautifulsoup4->nbconvert>=5->notebook>=4.4.1->widgetsnbextension~=3.6.0->ipywidgets) (2.6)\n",
            "Requirement already satisfied: typing-extensions>=4.0.0 in /usr/local/lib/python3.11/dist-packages (from beautifulsoup4->nbconvert>=5->notebook>=4.4.1->widgetsnbextension~=3.6.0->ipywidgets) (4.13.2)\n",
            "Requirement already satisfied: pycparser in /usr/local/lib/python3.11/dist-packages (from cffi>=1.0.1->argon2-cffi-bindings->argon2-cffi->notebook>=4.4.1->widgetsnbextension~=3.6.0->ipywidgets) (2.22)\n",
            "Requirement already satisfied: anyio>=3.1.0 in /usr/local/lib/python3.11/dist-packages (from jupyter-server<3,>=1.8->notebook-shim>=0.2.3->nbclassic>=0.4.7->notebook>=4.4.1->widgetsnbextension~=3.6.0->ipywidgets) (4.9.0)\n",
            "Requirement already satisfied: websocket-client in /usr/local/lib/python3.11/dist-packages (from jupyter-server<3,>=1.8->notebook-shim>=0.2.3->nbclassic>=0.4.7->notebook>=4.4.1->widgetsnbextension~=3.6.0->ipywidgets) (1.8.0)\n",
            "Requirement already satisfied: idna>=2.8 in /usr/local/lib/python3.11/dist-packages (from anyio>=3.1.0->jupyter-server<3,>=1.8->notebook-shim>=0.2.3->nbclassic>=0.4.7->notebook>=4.4.1->widgetsnbextension~=3.6.0->ipywidgets) (3.10)\n",
            "Requirement already satisfied: sniffio>=1.1 in /usr/local/lib/python3.11/dist-packages (from anyio>=3.1.0->jupyter-server<3,>=1.8->notebook-shim>=0.2.3->nbclassic>=0.4.7->notebook>=4.4.1->widgetsnbextension~=3.6.0->ipywidgets) (1.3.1)\n",
            "Downloading yfiles_jupyter_graphs-1.10.3-py3-none-any.whl (15.7 MB)\n",
            "\u001b[2K   \u001b[90m━━━━━━━━━━━━━━━━━━━━━━━━━━━━━━━━━━━━━━━━\u001b[0m \u001b[32m15.7/15.7 MB\u001b[0m \u001b[31m23.8 MB/s\u001b[0m eta \u001b[36m0:00:00\u001b[0m\n",
            "\u001b[?25hDownloading jedi-0.19.2-py2.py3-none-any.whl (1.6 MB)\n",
            "\u001b[2K   \u001b[90m━━━━━━━━━━━━━━━━━━━━━━━━━━━━━━━━━━━━━━━━\u001b[0m \u001b[32m1.6/1.6 MB\u001b[0m \u001b[31m22.9 MB/s\u001b[0m eta \u001b[36m0:00:00\u001b[0m\n",
            "\u001b[?25hInstalling collected packages: jedi, yfiles-jupyter-graphs\n",
            "Successfully installed jedi-0.19.2 yfiles-jupyter-graphs-1.10.3\n"
          ]
        }
      ],
      "source": [
        "!pip install kuzu scipy networkx pandas\n",
        "!pip install matplotlib ipywidgets yfiles-jupyter-graphs"
      ]
    },
    {
      "cell_type": "markdown",
      "metadata": {
        "id": "8Xtgplz0K-H6"
      },
      "source": [
        "# Synthetic Data Generation"
      ]
    },
    {
      "cell_type": "markdown",
      "metadata": {
        "id": "7ZIhMTFtLBbR"
      },
      "source": [
        "### Generate the Graph\n",
        "\n",
        "**Graph without Node description**"
      ]
    },
    {
      "cell_type": "code",
      "execution_count": 2,
      "metadata": {
        "colab": {
          "base_uri": "https://localhost:8080/"
        },
        "id": "N7f5qroGk7rR",
        "outputId": "e47398f7-be46-4191-988c-b4928cafeb6c"
      },
      "outputs": [
        {
          "output_type": "stream",
          "name": "stdout",
          "text": [
            "--2025-04-24 10:43:45--  https://raw.githubusercontent.com/abhi1nandy2/EMNLP-2021-Findings/refs/heads/main/data/s10_50_questions.csv\n",
            "Resolving raw.githubusercontent.com (raw.githubusercontent.com)... 185.199.108.133, 185.199.109.133, 185.199.110.133, ...\n",
            "Connecting to raw.githubusercontent.com (raw.githubusercontent.com)|185.199.108.133|:443... connected.\n",
            "HTTP request sent, awaiting response... 200 OK\n",
            "Length: 25114 (25K) [text/plain]\n",
            "Saving to: ‘s10_50_questions.csv’\n",
            "\n",
            "s10_50_questions.cs 100%[===================>]  24.53K  --.-KB/s    in 0.001s  \n",
            "\n",
            "2025-04-24 10:43:45 (16.7 MB/s) - ‘s10_50_questions.csv’ saved [25114/25114]\n",
            "\n"
          ]
        }
      ],
      "source": [
        "# https://github.com/abhi1nandy2/EMNLP-2021-Findings/blob/main/data/s10_50_questions.csv\n",
        "# Create A graph Based from CSV\n",
        "\n",
        "! wget https://raw.githubusercontent.com/abhi1nandy2/EMNLP-2021-Findings/refs/heads/main/data/s10_50_questions.csv"
      ]
    },
    {
      "cell_type": "code",
      "execution_count": 3,
      "metadata": {
        "id": "12Bg9ajs29oN"
      },
      "outputs": [],
      "source": [
        "import kuzu\n",
        "import pandas as pd\n",
        "import networkx as nx"
      ]
    },
    {
      "cell_type": "code",
      "execution_count": 4,
      "metadata": {
        "colab": {
          "base_uri": "https://localhost:8080/",
          "height": 293
        },
        "id": "Ev0CV3VdaWmx",
        "outputId": "3b147a60-d27c-47bb-bb1b-6003d4fd1505"
      },
      "outputs": [
        {
          "output_type": "execute_result",
          "data": {
            "text/plain": [
              "   question_id                                           question  \\\n",
              "0          266  What are the advanced recording options availa...   \n",
              "1           37                        How can I turn on the GPS ?   \n",
              "2          575                How to apply custom themes for AOD?   \n",
              "3          518    How can I show notifications on always display?   \n",
              "4          481                 How can I use time zone converter?   \n",
              "\n",
              "                                        section_path  \\\n",
              "0           Apps>Samsung apps>Camera>Camera settings   \n",
              "1         Settings>Lock screen and security>Location   \n",
              "2  Getting started>Start using your device>Always...   \n",
              "3  Settings>Lock screen and security>Screen lock ...   \n",
              "4        Apps>Samsung apps>Clock>Time zone converter   \n",
              "\n",
              "                                        section_link  \\\n",
              "0  http://downloadcenter.samsung.com/content/PM/2...   \n",
              "1  http://downloadcenter.samsung.com/content/PM/2...   \n",
              "2  http://downloadcenter.samsung.com/content/PM/2...   \n",
              "3  http://downloadcenter.samsung.com/content/PM/2...   \n",
              "4  http://downloadcenter.samsung.com/content/PM/2...   \n",
              "\n",
              "                                              answer  \n",
              "0  Use the icons on the main camera screen and th...  \n",
              "1  Location services use a combination of GPS, mo...  \n",
              "2  Apply custom themes for Always On Display. Fro...  \n",
              "3  You can configure features that appear on the ...  \n",
              "4  Set a time in a city on your World clock list ...  "
            ],
            "text/html": [
              "\n",
              "  <div id=\"df-b0b0c2c1-da47-42ec-a195-2f487bbab354\" class=\"colab-df-container\">\n",
              "    <div>\n",
              "<style scoped>\n",
              "    .dataframe tbody tr th:only-of-type {\n",
              "        vertical-align: middle;\n",
              "    }\n",
              "\n",
              "    .dataframe tbody tr th {\n",
              "        vertical-align: top;\n",
              "    }\n",
              "\n",
              "    .dataframe thead th {\n",
              "        text-align: right;\n",
              "    }\n",
              "</style>\n",
              "<table border=\"1\" class=\"dataframe\">\n",
              "  <thead>\n",
              "    <tr style=\"text-align: right;\">\n",
              "      <th></th>\n",
              "      <th>question_id</th>\n",
              "      <th>question</th>\n",
              "      <th>section_path</th>\n",
              "      <th>section_link</th>\n",
              "      <th>answer</th>\n",
              "    </tr>\n",
              "  </thead>\n",
              "  <tbody>\n",
              "    <tr>\n",
              "      <th>0</th>\n",
              "      <td>266</td>\n",
              "      <td>What are the advanced recording options availa...</td>\n",
              "      <td>Apps&gt;Samsung apps&gt;Camera&gt;Camera settings</td>\n",
              "      <td>http://downloadcenter.samsung.com/content/PM/2...</td>\n",
              "      <td>Use the icons on the main camera screen and th...</td>\n",
              "    </tr>\n",
              "    <tr>\n",
              "      <th>1</th>\n",
              "      <td>37</td>\n",
              "      <td>How can I turn on the GPS ?</td>\n",
              "      <td>Settings&gt;Lock screen and security&gt;Location</td>\n",
              "      <td>http://downloadcenter.samsung.com/content/PM/2...</td>\n",
              "      <td>Location services use a combination of GPS, mo...</td>\n",
              "    </tr>\n",
              "    <tr>\n",
              "      <th>2</th>\n",
              "      <td>575</td>\n",
              "      <td>How to apply custom themes for AOD?</td>\n",
              "      <td>Getting started&gt;Start using your device&gt;Always...</td>\n",
              "      <td>http://downloadcenter.samsung.com/content/PM/2...</td>\n",
              "      <td>Apply custom themes for Always On Display. Fro...</td>\n",
              "    </tr>\n",
              "    <tr>\n",
              "      <th>3</th>\n",
              "      <td>518</td>\n",
              "      <td>How can I show notifications on always display?</td>\n",
              "      <td>Settings&gt;Lock screen and security&gt;Screen lock ...</td>\n",
              "      <td>http://downloadcenter.samsung.com/content/PM/2...</td>\n",
              "      <td>You can configure features that appear on the ...</td>\n",
              "    </tr>\n",
              "    <tr>\n",
              "      <th>4</th>\n",
              "      <td>481</td>\n",
              "      <td>How can I use time zone converter?</td>\n",
              "      <td>Apps&gt;Samsung apps&gt;Clock&gt;Time zone converter</td>\n",
              "      <td>http://downloadcenter.samsung.com/content/PM/2...</td>\n",
              "      <td>Set a time in a city on your World clock list ...</td>\n",
              "    </tr>\n",
              "  </tbody>\n",
              "</table>\n",
              "</div>\n",
              "    <div class=\"colab-df-buttons\">\n",
              "\n",
              "  <div class=\"colab-df-container\">\n",
              "    <button class=\"colab-df-convert\" onclick=\"convertToInteractive('df-b0b0c2c1-da47-42ec-a195-2f487bbab354')\"\n",
              "            title=\"Convert this dataframe to an interactive table.\"\n",
              "            style=\"display:none;\">\n",
              "\n",
              "  <svg xmlns=\"http://www.w3.org/2000/svg\" height=\"24px\" viewBox=\"0 -960 960 960\">\n",
              "    <path d=\"M120-120v-720h720v720H120Zm60-500h600v-160H180v160Zm220 220h160v-160H400v160Zm0 220h160v-160H400v160ZM180-400h160v-160H180v160Zm440 0h160v-160H620v160ZM180-180h160v-160H180v160Zm440 0h160v-160H620v160Z\"/>\n",
              "  </svg>\n",
              "    </button>\n",
              "\n",
              "  <style>\n",
              "    .colab-df-container {\n",
              "      display:flex;\n",
              "      gap: 12px;\n",
              "    }\n",
              "\n",
              "    .colab-df-convert {\n",
              "      background-color: #E8F0FE;\n",
              "      border: none;\n",
              "      border-radius: 50%;\n",
              "      cursor: pointer;\n",
              "      display: none;\n",
              "      fill: #1967D2;\n",
              "      height: 32px;\n",
              "      padding: 0 0 0 0;\n",
              "      width: 32px;\n",
              "    }\n",
              "\n",
              "    .colab-df-convert:hover {\n",
              "      background-color: #E2EBFA;\n",
              "      box-shadow: 0px 1px 2px rgba(60, 64, 67, 0.3), 0px 1px 3px 1px rgba(60, 64, 67, 0.15);\n",
              "      fill: #174EA6;\n",
              "    }\n",
              "\n",
              "    .colab-df-buttons div {\n",
              "      margin-bottom: 4px;\n",
              "    }\n",
              "\n",
              "    [theme=dark] .colab-df-convert {\n",
              "      background-color: #3B4455;\n",
              "      fill: #D2E3FC;\n",
              "    }\n",
              "\n",
              "    [theme=dark] .colab-df-convert:hover {\n",
              "      background-color: #434B5C;\n",
              "      box-shadow: 0px 1px 3px 1px rgba(0, 0, 0, 0.15);\n",
              "      filter: drop-shadow(0px 1px 2px rgba(0, 0, 0, 0.3));\n",
              "      fill: #FFFFFF;\n",
              "    }\n",
              "  </style>\n",
              "\n",
              "    <script>\n",
              "      const buttonEl =\n",
              "        document.querySelector('#df-b0b0c2c1-da47-42ec-a195-2f487bbab354 button.colab-df-convert');\n",
              "      buttonEl.style.display =\n",
              "        google.colab.kernel.accessAllowed ? 'block' : 'none';\n",
              "\n",
              "      async function convertToInteractive(key) {\n",
              "        const element = document.querySelector('#df-b0b0c2c1-da47-42ec-a195-2f487bbab354');\n",
              "        const dataTable =\n",
              "          await google.colab.kernel.invokeFunction('convertToInteractive',\n",
              "                                                    [key], {});\n",
              "        if (!dataTable) return;\n",
              "\n",
              "        const docLinkHtml = 'Like what you see? Visit the ' +\n",
              "          '<a target=\"_blank\" href=https://colab.research.google.com/notebooks/data_table.ipynb>data table notebook</a>'\n",
              "          + ' to learn more about interactive tables.';\n",
              "        element.innerHTML = '';\n",
              "        dataTable['output_type'] = 'display_data';\n",
              "        await google.colab.output.renderOutput(dataTable, element);\n",
              "        const docLink = document.createElement('div');\n",
              "        docLink.innerHTML = docLinkHtml;\n",
              "        element.appendChild(docLink);\n",
              "      }\n",
              "    </script>\n",
              "  </div>\n",
              "\n",
              "\n",
              "<div id=\"df-219c7a09-b748-4d81-acfd-0c19f1702219\">\n",
              "  <button class=\"colab-df-quickchart\" onclick=\"quickchart('df-219c7a09-b748-4d81-acfd-0c19f1702219')\"\n",
              "            title=\"Suggest charts\"\n",
              "            style=\"display:none;\">\n",
              "\n",
              "<svg xmlns=\"http://www.w3.org/2000/svg\" height=\"24px\"viewBox=\"0 0 24 24\"\n",
              "     width=\"24px\">\n",
              "    <g>\n",
              "        <path d=\"M19 3H5c-1.1 0-2 .9-2 2v14c0 1.1.9 2 2 2h14c1.1 0 2-.9 2-2V5c0-1.1-.9-2-2-2zM9 17H7v-7h2v7zm4 0h-2V7h2v10zm4 0h-2v-4h2v4z\"/>\n",
              "    </g>\n",
              "</svg>\n",
              "  </button>\n",
              "\n",
              "<style>\n",
              "  .colab-df-quickchart {\n",
              "      --bg-color: #E8F0FE;\n",
              "      --fill-color: #1967D2;\n",
              "      --hover-bg-color: #E2EBFA;\n",
              "      --hover-fill-color: #174EA6;\n",
              "      --disabled-fill-color: #AAA;\n",
              "      --disabled-bg-color: #DDD;\n",
              "  }\n",
              "\n",
              "  [theme=dark] .colab-df-quickchart {\n",
              "      --bg-color: #3B4455;\n",
              "      --fill-color: #D2E3FC;\n",
              "      --hover-bg-color: #434B5C;\n",
              "      --hover-fill-color: #FFFFFF;\n",
              "      --disabled-bg-color: #3B4455;\n",
              "      --disabled-fill-color: #666;\n",
              "  }\n",
              "\n",
              "  .colab-df-quickchart {\n",
              "    background-color: var(--bg-color);\n",
              "    border: none;\n",
              "    border-radius: 50%;\n",
              "    cursor: pointer;\n",
              "    display: none;\n",
              "    fill: var(--fill-color);\n",
              "    height: 32px;\n",
              "    padding: 0;\n",
              "    width: 32px;\n",
              "  }\n",
              "\n",
              "  .colab-df-quickchart:hover {\n",
              "    background-color: var(--hover-bg-color);\n",
              "    box-shadow: 0 1px 2px rgba(60, 64, 67, 0.3), 0 1px 3px 1px rgba(60, 64, 67, 0.15);\n",
              "    fill: var(--button-hover-fill-color);\n",
              "  }\n",
              "\n",
              "  .colab-df-quickchart-complete:disabled,\n",
              "  .colab-df-quickchart-complete:disabled:hover {\n",
              "    background-color: var(--disabled-bg-color);\n",
              "    fill: var(--disabled-fill-color);\n",
              "    box-shadow: none;\n",
              "  }\n",
              "\n",
              "  .colab-df-spinner {\n",
              "    border: 2px solid var(--fill-color);\n",
              "    border-color: transparent;\n",
              "    border-bottom-color: var(--fill-color);\n",
              "    animation:\n",
              "      spin 1s steps(1) infinite;\n",
              "  }\n",
              "\n",
              "  @keyframes spin {\n",
              "    0% {\n",
              "      border-color: transparent;\n",
              "      border-bottom-color: var(--fill-color);\n",
              "      border-left-color: var(--fill-color);\n",
              "    }\n",
              "    20% {\n",
              "      border-color: transparent;\n",
              "      border-left-color: var(--fill-color);\n",
              "      border-top-color: var(--fill-color);\n",
              "    }\n",
              "    30% {\n",
              "      border-color: transparent;\n",
              "      border-left-color: var(--fill-color);\n",
              "      border-top-color: var(--fill-color);\n",
              "      border-right-color: var(--fill-color);\n",
              "    }\n",
              "    40% {\n",
              "      border-color: transparent;\n",
              "      border-right-color: var(--fill-color);\n",
              "      border-top-color: var(--fill-color);\n",
              "    }\n",
              "    60% {\n",
              "      border-color: transparent;\n",
              "      border-right-color: var(--fill-color);\n",
              "    }\n",
              "    80% {\n",
              "      border-color: transparent;\n",
              "      border-right-color: var(--fill-color);\n",
              "      border-bottom-color: var(--fill-color);\n",
              "    }\n",
              "    90% {\n",
              "      border-color: transparent;\n",
              "      border-bottom-color: var(--fill-color);\n",
              "    }\n",
              "  }\n",
              "</style>\n",
              "\n",
              "  <script>\n",
              "    async function quickchart(key) {\n",
              "      const quickchartButtonEl =\n",
              "        document.querySelector('#' + key + ' button');\n",
              "      quickchartButtonEl.disabled = true;  // To prevent multiple clicks.\n",
              "      quickchartButtonEl.classList.add('colab-df-spinner');\n",
              "      try {\n",
              "        const charts = await google.colab.kernel.invokeFunction(\n",
              "            'suggestCharts', [key], {});\n",
              "      } catch (error) {\n",
              "        console.error('Error during call to suggestCharts:', error);\n",
              "      }\n",
              "      quickchartButtonEl.classList.remove('colab-df-spinner');\n",
              "      quickchartButtonEl.classList.add('colab-df-quickchart-complete');\n",
              "    }\n",
              "    (() => {\n",
              "      let quickchartButtonEl =\n",
              "        document.querySelector('#df-219c7a09-b748-4d81-acfd-0c19f1702219 button');\n",
              "      quickchartButtonEl.style.display =\n",
              "        google.colab.kernel.accessAllowed ? 'block' : 'none';\n",
              "    })();\n",
              "  </script>\n",
              "</div>\n",
              "\n",
              "    </div>\n",
              "  </div>\n"
            ],
            "application/vnd.google.colaboratory.intrinsic+json": {
              "type": "dataframe",
              "variable_name": "s10",
              "summary": "{\n  \"name\": \"s10\",\n  \"rows\": 50,\n  \"fields\": [\n    {\n      \"column\": \"question_id\",\n      \"properties\": {\n        \"dtype\": \"number\",\n        \"std\": 185,\n        \"min\": 5,\n        \"max\": 593,\n        \"num_unique_values\": 50,\n        \"samples\": [\n          593,\n          516,\n          8\n        ],\n        \"semantic_type\": \"\",\n        \"description\": \"\"\n      }\n    },\n    {\n      \"column\": \"question\",\n      \"properties\": {\n        \"dtype\": \"string\",\n        \"num_unique_values\": 50,\n        \"samples\": [\n          \"How can I transfer data from old device using smart switch?\",\n          \"What are the bebefits of NFC and payment?\",\n          \"How can I delete a group?\"\n        ],\n        \"semantic_type\": \"\",\n        \"description\": \"\"\n      }\n    },\n    {\n      \"column\": \"section_path\",\n      \"properties\": {\n        \"dtype\": \"string\",\n        \"num_unique_values\": 44,\n        \"samples\": [\n          \"Apps>Samsung apps>Clock>Timer options\",\n          \"Getting started>Start using your device>Flexible security>Face recognition management\",\n          \"Settings>Lock screen and security>Screen lock types>Set a secure screen lock\"\n        ],\n        \"semantic_type\": \"\",\n        \"description\": \"\"\n      }\n    },\n    {\n      \"column\": \"section_link\",\n      \"properties\": {\n        \"dtype\": \"string\",\n        \"num_unique_values\": 32,\n        \"samples\": [\n          \"http://downloadcenter.samsung.com/content/PM/202001/20200128062847846/EB/ATT_G970U_G973U_G975U_EN_FINAL_200110/google_apps_d1e15733.html#d1e15846\",\n          \"http://downloadcenter.samsung.com/content/PM/202001/20200128062847846/EB/ATT_G970U_G973U_G975U_EN_FINAL_200110/using_apps_d1e9622.html#d1e9743\",\n          \"http://downloadcenter.samsung.com/content/PM/202001/20200128062847846/EB/ATT_G970U_G973U_G975U_EN_FINAL_200110/visibility_enhancements_d1e21920.html\"\n        ],\n        \"semantic_type\": \"\",\n        \"description\": \"\"\n      }\n    },\n    {\n      \"column\": \"answer\",\n      \"properties\": {\n        \"dtype\": \"string\",\n        \"num_unique_values\": 50,\n        \"samples\": [\n          \"Use Smart Switch to transfer contacts, photos, and other content from your old device. For more information, see Transfer data from an old device.\",\n          \"Near Field Communication (NFC) allows you to communicate with another device without connecting to a network. This technology is used by Android Beam and certain payment apps. The device that you are transferring to needs to support NFC, and it needs to be within four centimeters of your device.\",\n          \"Delete a group you have created.From  Contacts, tap  Open drawer > Groups, and then tap a group.Tap  More options > Delete.To only delete the group, tap Group only.To delete the group and the contacts in the group, tap Group and members.\"\n        ],\n        \"semantic_type\": \"\",\n        \"description\": \"\"\n      }\n    }\n  ]\n}"
            }
          },
          "metadata": {},
          "execution_count": 4
        }
      ],
      "source": [
        "s10_file = 's10_50_questions.csv'\n",
        "s10 = pd.read_csv(s10_file)\n",
        "s10.head()"
      ]
    },
    {
      "cell_type": "code",
      "execution_count": 5,
      "metadata": {
        "id": "FpFfLc6Yaquj"
      },
      "outputs": [],
      "source": [
        "nodes = set()\n",
        "edges = []\n",
        "for index, row in s10.iterrows():\n",
        "  menu_items = row[\"section_path\"].split(\">\")\n",
        "  nodes.update(menu_items)\n",
        "  for item in zip(menu_items[0:],menu_items[1:]):\n",
        "    edges.append(item)"
      ]
    },
    {
      "cell_type": "code",
      "execution_count": 62,
      "metadata": {
        "colab": {
          "base_uri": "https://localhost:8080/",
          "height": 206
        },
        "id": "rt-bEKJBgNLC",
        "outputId": "342fcfae-110e-4502-d048-6b4fa9c7aa84"
      },
      "outputs": [
        {
          "output_type": "execute_result",
          "data": {
            "text/plain": [
              "              name\n",
              "67     Google apps\n",
              "68        Internet\n",
              "69  Device storage\n",
              "70         Gallery\n",
              "71   Link contacts"
            ],
            "text/html": [
              "\n",
              "  <div id=\"df-91f33732-1632-4fb8-a4f2-8164fa7c8b4e\" class=\"colab-df-container\">\n",
              "    <div>\n",
              "<style scoped>\n",
              "    .dataframe tbody tr th:only-of-type {\n",
              "        vertical-align: middle;\n",
              "    }\n",
              "\n",
              "    .dataframe tbody tr th {\n",
              "        vertical-align: top;\n",
              "    }\n",
              "\n",
              "    .dataframe thead th {\n",
              "        text-align: right;\n",
              "    }\n",
              "</style>\n",
              "<table border=\"1\" class=\"dataframe\">\n",
              "  <thead>\n",
              "    <tr style=\"text-align: right;\">\n",
              "      <th></th>\n",
              "      <th>name</th>\n",
              "    </tr>\n",
              "  </thead>\n",
              "  <tbody>\n",
              "    <tr>\n",
              "      <th>67</th>\n",
              "      <td>Google apps</td>\n",
              "    </tr>\n",
              "    <tr>\n",
              "      <th>68</th>\n",
              "      <td>Internet</td>\n",
              "    </tr>\n",
              "    <tr>\n",
              "      <th>69</th>\n",
              "      <td>Device storage</td>\n",
              "    </tr>\n",
              "    <tr>\n",
              "      <th>70</th>\n",
              "      <td>Gallery</td>\n",
              "    </tr>\n",
              "    <tr>\n",
              "      <th>71</th>\n",
              "      <td>Link contacts</td>\n",
              "    </tr>\n",
              "  </tbody>\n",
              "</table>\n",
              "</div>\n",
              "    <div class=\"colab-df-buttons\">\n",
              "\n",
              "  <div class=\"colab-df-container\">\n",
              "    <button class=\"colab-df-convert\" onclick=\"convertToInteractive('df-91f33732-1632-4fb8-a4f2-8164fa7c8b4e')\"\n",
              "            title=\"Convert this dataframe to an interactive table.\"\n",
              "            style=\"display:none;\">\n",
              "\n",
              "  <svg xmlns=\"http://www.w3.org/2000/svg\" height=\"24px\" viewBox=\"0 -960 960 960\">\n",
              "    <path d=\"M120-120v-720h720v720H120Zm60-500h600v-160H180v160Zm220 220h160v-160H400v160Zm0 220h160v-160H400v160ZM180-400h160v-160H180v160Zm440 0h160v-160H620v160ZM180-180h160v-160H180v160Zm440 0h160v-160H620v160Z\"/>\n",
              "  </svg>\n",
              "    </button>\n",
              "\n",
              "  <style>\n",
              "    .colab-df-container {\n",
              "      display:flex;\n",
              "      gap: 12px;\n",
              "    }\n",
              "\n",
              "    .colab-df-convert {\n",
              "      background-color: #E8F0FE;\n",
              "      border: none;\n",
              "      border-radius: 50%;\n",
              "      cursor: pointer;\n",
              "      display: none;\n",
              "      fill: #1967D2;\n",
              "      height: 32px;\n",
              "      padding: 0 0 0 0;\n",
              "      width: 32px;\n",
              "    }\n",
              "\n",
              "    .colab-df-convert:hover {\n",
              "      background-color: #E2EBFA;\n",
              "      box-shadow: 0px 1px 2px rgba(60, 64, 67, 0.3), 0px 1px 3px 1px rgba(60, 64, 67, 0.15);\n",
              "      fill: #174EA6;\n",
              "    }\n",
              "\n",
              "    .colab-df-buttons div {\n",
              "      margin-bottom: 4px;\n",
              "    }\n",
              "\n",
              "    [theme=dark] .colab-df-convert {\n",
              "      background-color: #3B4455;\n",
              "      fill: #D2E3FC;\n",
              "    }\n",
              "\n",
              "    [theme=dark] .colab-df-convert:hover {\n",
              "      background-color: #434B5C;\n",
              "      box-shadow: 0px 1px 3px 1px rgba(0, 0, 0, 0.15);\n",
              "      filter: drop-shadow(0px 1px 2px rgba(0, 0, 0, 0.3));\n",
              "      fill: #FFFFFF;\n",
              "    }\n",
              "  </style>\n",
              "\n",
              "    <script>\n",
              "      const buttonEl =\n",
              "        document.querySelector('#df-91f33732-1632-4fb8-a4f2-8164fa7c8b4e button.colab-df-convert');\n",
              "      buttonEl.style.display =\n",
              "        google.colab.kernel.accessAllowed ? 'block' : 'none';\n",
              "\n",
              "      async function convertToInteractive(key) {\n",
              "        const element = document.querySelector('#df-91f33732-1632-4fb8-a4f2-8164fa7c8b4e');\n",
              "        const dataTable =\n",
              "          await google.colab.kernel.invokeFunction('convertToInteractive',\n",
              "                                                    [key], {});\n",
              "        if (!dataTable) return;\n",
              "\n",
              "        const docLinkHtml = 'Like what you see? Visit the ' +\n",
              "          '<a target=\"_blank\" href=https://colab.research.google.com/notebooks/data_table.ipynb>data table notebook</a>'\n",
              "          + ' to learn more about interactive tables.';\n",
              "        element.innerHTML = '';\n",
              "        dataTable['output_type'] = 'display_data';\n",
              "        await google.colab.output.renderOutput(dataTable, element);\n",
              "        const docLink = document.createElement('div');\n",
              "        docLink.innerHTML = docLinkHtml;\n",
              "        element.appendChild(docLink);\n",
              "      }\n",
              "    </script>\n",
              "  </div>\n",
              "\n",
              "\n",
              "<div id=\"df-613072e1-cdb5-4d62-8c6a-dfe435a85074\">\n",
              "  <button class=\"colab-df-quickchart\" onclick=\"quickchart('df-613072e1-cdb5-4d62-8c6a-dfe435a85074')\"\n",
              "            title=\"Suggest charts\"\n",
              "            style=\"display:none;\">\n",
              "\n",
              "<svg xmlns=\"http://www.w3.org/2000/svg\" height=\"24px\"viewBox=\"0 0 24 24\"\n",
              "     width=\"24px\">\n",
              "    <g>\n",
              "        <path d=\"M19 3H5c-1.1 0-2 .9-2 2v14c0 1.1.9 2 2 2h14c1.1 0 2-.9 2-2V5c0-1.1-.9-2-2-2zM9 17H7v-7h2v7zm4 0h-2V7h2v10zm4 0h-2v-4h2v4z\"/>\n",
              "    </g>\n",
              "</svg>\n",
              "  </button>\n",
              "\n",
              "<style>\n",
              "  .colab-df-quickchart {\n",
              "      --bg-color: #E8F0FE;\n",
              "      --fill-color: #1967D2;\n",
              "      --hover-bg-color: #E2EBFA;\n",
              "      --hover-fill-color: #174EA6;\n",
              "      --disabled-fill-color: #AAA;\n",
              "      --disabled-bg-color: #DDD;\n",
              "  }\n",
              "\n",
              "  [theme=dark] .colab-df-quickchart {\n",
              "      --bg-color: #3B4455;\n",
              "      --fill-color: #D2E3FC;\n",
              "      --hover-bg-color: #434B5C;\n",
              "      --hover-fill-color: #FFFFFF;\n",
              "      --disabled-bg-color: #3B4455;\n",
              "      --disabled-fill-color: #666;\n",
              "  }\n",
              "\n",
              "  .colab-df-quickchart {\n",
              "    background-color: var(--bg-color);\n",
              "    border: none;\n",
              "    border-radius: 50%;\n",
              "    cursor: pointer;\n",
              "    display: none;\n",
              "    fill: var(--fill-color);\n",
              "    height: 32px;\n",
              "    padding: 0;\n",
              "    width: 32px;\n",
              "  }\n",
              "\n",
              "  .colab-df-quickchart:hover {\n",
              "    background-color: var(--hover-bg-color);\n",
              "    box-shadow: 0 1px 2px rgba(60, 64, 67, 0.3), 0 1px 3px 1px rgba(60, 64, 67, 0.15);\n",
              "    fill: var(--button-hover-fill-color);\n",
              "  }\n",
              "\n",
              "  .colab-df-quickchart-complete:disabled,\n",
              "  .colab-df-quickchart-complete:disabled:hover {\n",
              "    background-color: var(--disabled-bg-color);\n",
              "    fill: var(--disabled-fill-color);\n",
              "    box-shadow: none;\n",
              "  }\n",
              "\n",
              "  .colab-df-spinner {\n",
              "    border: 2px solid var(--fill-color);\n",
              "    border-color: transparent;\n",
              "    border-bottom-color: var(--fill-color);\n",
              "    animation:\n",
              "      spin 1s steps(1) infinite;\n",
              "  }\n",
              "\n",
              "  @keyframes spin {\n",
              "    0% {\n",
              "      border-color: transparent;\n",
              "      border-bottom-color: var(--fill-color);\n",
              "      border-left-color: var(--fill-color);\n",
              "    }\n",
              "    20% {\n",
              "      border-color: transparent;\n",
              "      border-left-color: var(--fill-color);\n",
              "      border-top-color: var(--fill-color);\n",
              "    }\n",
              "    30% {\n",
              "      border-color: transparent;\n",
              "      border-left-color: var(--fill-color);\n",
              "      border-top-color: var(--fill-color);\n",
              "      border-right-color: var(--fill-color);\n",
              "    }\n",
              "    40% {\n",
              "      border-color: transparent;\n",
              "      border-right-color: var(--fill-color);\n",
              "      border-top-color: var(--fill-color);\n",
              "    }\n",
              "    60% {\n",
              "      border-color: transparent;\n",
              "      border-right-color: var(--fill-color);\n",
              "    }\n",
              "    80% {\n",
              "      border-color: transparent;\n",
              "      border-right-color: var(--fill-color);\n",
              "      border-bottom-color: var(--fill-color);\n",
              "    }\n",
              "    90% {\n",
              "      border-color: transparent;\n",
              "      border-bottom-color: var(--fill-color);\n",
              "    }\n",
              "  }\n",
              "</style>\n",
              "\n",
              "  <script>\n",
              "    async function quickchart(key) {\n",
              "      const quickchartButtonEl =\n",
              "        document.querySelector('#' + key + ' button');\n",
              "      quickchartButtonEl.disabled = true;  // To prevent multiple clicks.\n",
              "      quickchartButtonEl.classList.add('colab-df-spinner');\n",
              "      try {\n",
              "        const charts = await google.colab.kernel.invokeFunction(\n",
              "            'suggestCharts', [key], {});\n",
              "      } catch (error) {\n",
              "        console.error('Error during call to suggestCharts:', error);\n",
              "      }\n",
              "      quickchartButtonEl.classList.remove('colab-df-spinner');\n",
              "      quickchartButtonEl.classList.add('colab-df-quickchart-complete');\n",
              "    }\n",
              "    (() => {\n",
              "      let quickchartButtonEl =\n",
              "        document.querySelector('#df-613072e1-cdb5-4d62-8c6a-dfe435a85074 button');\n",
              "      quickchartButtonEl.style.display =\n",
              "        google.colab.kernel.accessAllowed ? 'block' : 'none';\n",
              "    })();\n",
              "  </script>\n",
              "</div>\n",
              "\n",
              "    </div>\n",
              "  </div>\n"
            ],
            "application/vnd.google.colaboratory.intrinsic+json": {
              "type": "dataframe",
              "summary": "{\n  \"name\": \"nodes_df\",\n  \"rows\": 5,\n  \"fields\": [\n    {\n      \"column\": \"name\",\n      \"properties\": {\n        \"dtype\": \"string\",\n        \"num_unique_values\": 5,\n        \"samples\": [\n          \"Internet\",\n          \"Link contacts\",\n          \"Device storage\"\n        ],\n        \"semantic_type\": \"\",\n        \"description\": \"\"\n      }\n    }\n  ]\n}"
            }
          },
          "metadata": {},
          "execution_count": 62
        }
      ],
      "source": [
        "nodes_df = pd.DataFrame(nodes, columns=[\"name\"])\n",
        "nodes_df.tail()"
      ]
    },
    {
      "cell_type": "code",
      "execution_count": 7,
      "metadata": {
        "colab": {
          "base_uri": "https://localhost:8080/",
          "height": 206
        },
        "id": "FR9IhsdqgaEF",
        "outputId": "600836f4-e121-4998-ad93-2a68872e4eae"
      },
      "outputs": [
        {
          "output_type": "execute_result",
          "data": {
            "text/plain": [
              "                           FROM                           TO\n",
              "125             Getting started      Start using your device\n",
              "126     Start using your device   Customize your home screen\n",
              "127  Customize your home screen  View the Notification panel\n",
              "128                    Settings     Lock screen and security\n",
              "129    Lock screen and security           Permission manager"
            ],
            "text/html": [
              "\n",
              "  <div id=\"df-95638ba2-ba23-4f5c-86ef-8c906f55b27b\" class=\"colab-df-container\">\n",
              "    <div>\n",
              "<style scoped>\n",
              "    .dataframe tbody tr th:only-of-type {\n",
              "        vertical-align: middle;\n",
              "    }\n",
              "\n",
              "    .dataframe tbody tr th {\n",
              "        vertical-align: top;\n",
              "    }\n",
              "\n",
              "    .dataframe thead th {\n",
              "        text-align: right;\n",
              "    }\n",
              "</style>\n",
              "<table border=\"1\" class=\"dataframe\">\n",
              "  <thead>\n",
              "    <tr style=\"text-align: right;\">\n",
              "      <th></th>\n",
              "      <th>FROM</th>\n",
              "      <th>TO</th>\n",
              "    </tr>\n",
              "  </thead>\n",
              "  <tbody>\n",
              "    <tr>\n",
              "      <th>125</th>\n",
              "      <td>Getting started</td>\n",
              "      <td>Start using your device</td>\n",
              "    </tr>\n",
              "    <tr>\n",
              "      <th>126</th>\n",
              "      <td>Start using your device</td>\n",
              "      <td>Customize your home screen</td>\n",
              "    </tr>\n",
              "    <tr>\n",
              "      <th>127</th>\n",
              "      <td>Customize your home screen</td>\n",
              "      <td>View the Notification panel</td>\n",
              "    </tr>\n",
              "    <tr>\n",
              "      <th>128</th>\n",
              "      <td>Settings</td>\n",
              "      <td>Lock screen and security</td>\n",
              "    </tr>\n",
              "    <tr>\n",
              "      <th>129</th>\n",
              "      <td>Lock screen and security</td>\n",
              "      <td>Permission manager</td>\n",
              "    </tr>\n",
              "  </tbody>\n",
              "</table>\n",
              "</div>\n",
              "    <div class=\"colab-df-buttons\">\n",
              "\n",
              "  <div class=\"colab-df-container\">\n",
              "    <button class=\"colab-df-convert\" onclick=\"convertToInteractive('df-95638ba2-ba23-4f5c-86ef-8c906f55b27b')\"\n",
              "            title=\"Convert this dataframe to an interactive table.\"\n",
              "            style=\"display:none;\">\n",
              "\n",
              "  <svg xmlns=\"http://www.w3.org/2000/svg\" height=\"24px\" viewBox=\"0 -960 960 960\">\n",
              "    <path d=\"M120-120v-720h720v720H120Zm60-500h600v-160H180v160Zm220 220h160v-160H400v160Zm0 220h160v-160H400v160ZM180-400h160v-160H180v160Zm440 0h160v-160H620v160ZM180-180h160v-160H180v160Zm440 0h160v-160H620v160Z\"/>\n",
              "  </svg>\n",
              "    </button>\n",
              "\n",
              "  <style>\n",
              "    .colab-df-container {\n",
              "      display:flex;\n",
              "      gap: 12px;\n",
              "    }\n",
              "\n",
              "    .colab-df-convert {\n",
              "      background-color: #E8F0FE;\n",
              "      border: none;\n",
              "      border-radius: 50%;\n",
              "      cursor: pointer;\n",
              "      display: none;\n",
              "      fill: #1967D2;\n",
              "      height: 32px;\n",
              "      padding: 0 0 0 0;\n",
              "      width: 32px;\n",
              "    }\n",
              "\n",
              "    .colab-df-convert:hover {\n",
              "      background-color: #E2EBFA;\n",
              "      box-shadow: 0px 1px 2px rgba(60, 64, 67, 0.3), 0px 1px 3px 1px rgba(60, 64, 67, 0.15);\n",
              "      fill: #174EA6;\n",
              "    }\n",
              "\n",
              "    .colab-df-buttons div {\n",
              "      margin-bottom: 4px;\n",
              "    }\n",
              "\n",
              "    [theme=dark] .colab-df-convert {\n",
              "      background-color: #3B4455;\n",
              "      fill: #D2E3FC;\n",
              "    }\n",
              "\n",
              "    [theme=dark] .colab-df-convert:hover {\n",
              "      background-color: #434B5C;\n",
              "      box-shadow: 0px 1px 3px 1px rgba(0, 0, 0, 0.15);\n",
              "      filter: drop-shadow(0px 1px 2px rgba(0, 0, 0, 0.3));\n",
              "      fill: #FFFFFF;\n",
              "    }\n",
              "  </style>\n",
              "\n",
              "    <script>\n",
              "      const buttonEl =\n",
              "        document.querySelector('#df-95638ba2-ba23-4f5c-86ef-8c906f55b27b button.colab-df-convert');\n",
              "      buttonEl.style.display =\n",
              "        google.colab.kernel.accessAllowed ? 'block' : 'none';\n",
              "\n",
              "      async function convertToInteractive(key) {\n",
              "        const element = document.querySelector('#df-95638ba2-ba23-4f5c-86ef-8c906f55b27b');\n",
              "        const dataTable =\n",
              "          await google.colab.kernel.invokeFunction('convertToInteractive',\n",
              "                                                    [key], {});\n",
              "        if (!dataTable) return;\n",
              "\n",
              "        const docLinkHtml = 'Like what you see? Visit the ' +\n",
              "          '<a target=\"_blank\" href=https://colab.research.google.com/notebooks/data_table.ipynb>data table notebook</a>'\n",
              "          + ' to learn more about interactive tables.';\n",
              "        element.innerHTML = '';\n",
              "        dataTable['output_type'] = 'display_data';\n",
              "        await google.colab.output.renderOutput(dataTable, element);\n",
              "        const docLink = document.createElement('div');\n",
              "        docLink.innerHTML = docLinkHtml;\n",
              "        element.appendChild(docLink);\n",
              "      }\n",
              "    </script>\n",
              "  </div>\n",
              "\n",
              "\n",
              "<div id=\"df-3b9407ec-f20b-43e5-94be-1b63d30e58db\">\n",
              "  <button class=\"colab-df-quickchart\" onclick=\"quickchart('df-3b9407ec-f20b-43e5-94be-1b63d30e58db')\"\n",
              "            title=\"Suggest charts\"\n",
              "            style=\"display:none;\">\n",
              "\n",
              "<svg xmlns=\"http://www.w3.org/2000/svg\" height=\"24px\"viewBox=\"0 0 24 24\"\n",
              "     width=\"24px\">\n",
              "    <g>\n",
              "        <path d=\"M19 3H5c-1.1 0-2 .9-2 2v14c0 1.1.9 2 2 2h14c1.1 0 2-.9 2-2V5c0-1.1-.9-2-2-2zM9 17H7v-7h2v7zm4 0h-2V7h2v10zm4 0h-2v-4h2v4z\"/>\n",
              "    </g>\n",
              "</svg>\n",
              "  </button>\n",
              "\n",
              "<style>\n",
              "  .colab-df-quickchart {\n",
              "      --bg-color: #E8F0FE;\n",
              "      --fill-color: #1967D2;\n",
              "      --hover-bg-color: #E2EBFA;\n",
              "      --hover-fill-color: #174EA6;\n",
              "      --disabled-fill-color: #AAA;\n",
              "      --disabled-bg-color: #DDD;\n",
              "  }\n",
              "\n",
              "  [theme=dark] .colab-df-quickchart {\n",
              "      --bg-color: #3B4455;\n",
              "      --fill-color: #D2E3FC;\n",
              "      --hover-bg-color: #434B5C;\n",
              "      --hover-fill-color: #FFFFFF;\n",
              "      --disabled-bg-color: #3B4455;\n",
              "      --disabled-fill-color: #666;\n",
              "  }\n",
              "\n",
              "  .colab-df-quickchart {\n",
              "    background-color: var(--bg-color);\n",
              "    border: none;\n",
              "    border-radius: 50%;\n",
              "    cursor: pointer;\n",
              "    display: none;\n",
              "    fill: var(--fill-color);\n",
              "    height: 32px;\n",
              "    padding: 0;\n",
              "    width: 32px;\n",
              "  }\n",
              "\n",
              "  .colab-df-quickchart:hover {\n",
              "    background-color: var(--hover-bg-color);\n",
              "    box-shadow: 0 1px 2px rgba(60, 64, 67, 0.3), 0 1px 3px 1px rgba(60, 64, 67, 0.15);\n",
              "    fill: var(--button-hover-fill-color);\n",
              "  }\n",
              "\n",
              "  .colab-df-quickchart-complete:disabled,\n",
              "  .colab-df-quickchart-complete:disabled:hover {\n",
              "    background-color: var(--disabled-bg-color);\n",
              "    fill: var(--disabled-fill-color);\n",
              "    box-shadow: none;\n",
              "  }\n",
              "\n",
              "  .colab-df-spinner {\n",
              "    border: 2px solid var(--fill-color);\n",
              "    border-color: transparent;\n",
              "    border-bottom-color: var(--fill-color);\n",
              "    animation:\n",
              "      spin 1s steps(1) infinite;\n",
              "  }\n",
              "\n",
              "  @keyframes spin {\n",
              "    0% {\n",
              "      border-color: transparent;\n",
              "      border-bottom-color: var(--fill-color);\n",
              "      border-left-color: var(--fill-color);\n",
              "    }\n",
              "    20% {\n",
              "      border-color: transparent;\n",
              "      border-left-color: var(--fill-color);\n",
              "      border-top-color: var(--fill-color);\n",
              "    }\n",
              "    30% {\n",
              "      border-color: transparent;\n",
              "      border-left-color: var(--fill-color);\n",
              "      border-top-color: var(--fill-color);\n",
              "      border-right-color: var(--fill-color);\n",
              "    }\n",
              "    40% {\n",
              "      border-color: transparent;\n",
              "      border-right-color: var(--fill-color);\n",
              "      border-top-color: var(--fill-color);\n",
              "    }\n",
              "    60% {\n",
              "      border-color: transparent;\n",
              "      border-right-color: var(--fill-color);\n",
              "    }\n",
              "    80% {\n",
              "      border-color: transparent;\n",
              "      border-right-color: var(--fill-color);\n",
              "      border-bottom-color: var(--fill-color);\n",
              "    }\n",
              "    90% {\n",
              "      border-color: transparent;\n",
              "      border-bottom-color: var(--fill-color);\n",
              "    }\n",
              "  }\n",
              "</style>\n",
              "\n",
              "  <script>\n",
              "    async function quickchart(key) {\n",
              "      const quickchartButtonEl =\n",
              "        document.querySelector('#' + key + ' button');\n",
              "      quickchartButtonEl.disabled = true;  // To prevent multiple clicks.\n",
              "      quickchartButtonEl.classList.add('colab-df-spinner');\n",
              "      try {\n",
              "        const charts = await google.colab.kernel.invokeFunction(\n",
              "            'suggestCharts', [key], {});\n",
              "      } catch (error) {\n",
              "        console.error('Error during call to suggestCharts:', error);\n",
              "      }\n",
              "      quickchartButtonEl.classList.remove('colab-df-spinner');\n",
              "      quickchartButtonEl.classList.add('colab-df-quickchart-complete');\n",
              "    }\n",
              "    (() => {\n",
              "      let quickchartButtonEl =\n",
              "        document.querySelector('#df-3b9407ec-f20b-43e5-94be-1b63d30e58db button');\n",
              "      quickchartButtonEl.style.display =\n",
              "        google.colab.kernel.accessAllowed ? 'block' : 'none';\n",
              "    })();\n",
              "  </script>\n",
              "</div>\n",
              "\n",
              "    </div>\n",
              "  </div>\n"
            ],
            "application/vnd.google.colaboratory.intrinsic+json": {
              "type": "dataframe",
              "summary": "{\n  \"name\": \"edges_df\",\n  \"rows\": 5,\n  \"fields\": [\n    {\n      \"column\": \"FROM\",\n      \"properties\": {\n        \"dtype\": \"string\",\n        \"num_unique_values\": 5,\n        \"samples\": [\n          \"Start using your device\",\n          \"Lock screen and security\",\n          \"Customize your home screen\"\n        ],\n        \"semantic_type\": \"\",\n        \"description\": \"\"\n      }\n    },\n    {\n      \"column\": \"TO\",\n      \"properties\": {\n        \"dtype\": \"string\",\n        \"num_unique_values\": 5,\n        \"samples\": [\n          \"Customize your home screen\",\n          \"Permission manager\",\n          \"View the Notification panel\"\n        ],\n        \"semantic_type\": \"\",\n        \"description\": \"\"\n      }\n    }\n  ]\n}"
            }
          },
          "metadata": {},
          "execution_count": 7
        }
      ],
      "source": [
        "edges_df = pd.DataFrame(edges, columns=[\"FROM\",\"TO\"])\n",
        "edges_df.to_csv(\"edges.csv\", index=False)\n",
        "edges_df.tail()"
      ]
    },
    {
      "cell_type": "code",
      "execution_count": 8,
      "metadata": {
        "id": "JgaPN30A0oJ0"
      },
      "outputs": [],
      "source": [
        "!rm -rf /content/:memeory:"
      ]
    },
    {
      "cell_type": "code",
      "execution_count": 9,
      "metadata": {
        "colab": {
          "base_uri": "https://localhost:8080/"
        },
        "id": "0mVyuzJwgcvB",
        "outputId": "285fc6be-58f6-4a13-d76d-bd3e95368633"
      },
      "outputs": [
        {
          "output_type": "execute_result",
          "data": {
            "text/plain": [
              "<kuzu.query_result.QueryResult at 0x7a407a762590>"
            ]
          },
          "metadata": {},
          "execution_count": 9
        }
      ],
      "source": [
        "kuzudb = kuzu.Database(\":memeory:\")\n",
        "ku = kuzu.Connection(kuzudb)\n",
        "\n",
        "# ku_query = \"\"\"CREATE NODE TABLE MenuItem(name STRING, description STRING, PRIMARY KEY (name));\"\"\"\n",
        "ku_query = \"\"\"CREATE NODE TABLE MenuItem(name STRING, PRIMARY KEY (name));\"\"\"\n",
        "ku.execute(ku_query)\n",
        "ku_query= \"\"\"CREATE REL TABLE Links (FROM MenuItem TO MenuItem);\"\"\"\n",
        "ku.execute(ku_query)\n",
        "ku_query= \"\"\"COPY MenuItem FROM nodes_df;\"\"\"\n",
        "ku.execute(ku_query)\n",
        "ku_query= \"\"\"COPY Links FROM 'edges.csv';\"\"\"\n",
        "ku_query= \"\"\"\n",
        "COPY LINKS FROM 'edges.csv' (header=true);\n",
        "\"\"\"\n",
        "ku.execute(ku_query)"
      ]
    },
    {
      "cell_type": "code",
      "execution_count": 71,
      "metadata": {
        "colab": {
          "base_uri": "https://localhost:8080/",
          "height": 516
        },
        "id": "2Wpt5s5JfXzl",
        "outputId": "b3a863fb-957d-462c-cea1-5cd34312f00e"
      },
      "outputs": [
        {
          "output_type": "display_data",
          "data": {
            "text/plain": [
              "<Figure size 640x480 with 1 Axes>"
            ],
            "image/png": "[encoded data removed]"
          },
          "metadata": {}
        }
      ],
      "source": [
        "query = \"\"\"\n",
        "MATCH p = (a:MenuItem)-[:Links]->(b:MenuItem)\n",
        "RETURN p;\n",
        "\"\"\"\n",
        "\n",
        "\n",
        "res = ku.execute(query)\n",
        "G = res.get_as_networkx(directed=False)\n",
        "nx.draw_spring(G, node_size=40)"
      ]
    },
    {
      "cell_type": "code",
      "execution_count": 72,
      "metadata": {
        "colab": {
          "base_uri": "https://localhost:8080/",
          "height": 817,
          "referenced_widgets": [
            "89b4206da97042be820eb865398b6fa1",
            "56836467b9c84333b17d18c1e69815bd"
          ]
        },
        "id": "EWjY8p0U4aeh",
        "outputId": "4e1f58e5-36aa-423d-b9dc-97bfc1dc0327"
      },
      "outputs": [
        {
          "output_type": "display_data",
          "data": {
            "text/plain": [
              "GraphWidget(layout=Layout(height='800px', width='100%'))"
            ],
            "application/vnd.jupyter.widget-view+json": {
              "version_major": 2,
              "version_minor": 0,
              "model_id": "89b4206da97042be820eb865398b6fa1"
            }
          },
          "metadata": {
            "application/vnd.jupyter.widget-view+json": {
              "colab": {
                "custom_widget_manager": {
                  "url": "https://ssl.gstatic.com/colaboratory-static/widgets/colab-cdn-widget-manager/2b70e893a8ba7c0f/manager.min.js"
                }
              }
            }
          }
        }
      ],
      "source": [
        "from google.colab import output\n",
        "output.enable_custom_widget_manager()\n",
        "from yfiles_jupyter_graphs import GraphWidget\n",
        "\n",
        "w = GraphWidget(graph=G)\n",
        "w.set_sidebar(enabled=False)\n",
        "display(w)"
      ]
    },
    {
      "cell_type": "code",
      "execution_count": 68,
      "metadata": {
        "colab": {
          "base_uri": "https://localhost:8080/"
        },
        "id": "aLZjuPEr2YA1",
        "outputId": "03660b24-cbb0-40ce-cebd-9328e5d3f1b0"
      },
      "outputs": [
        {
          "output_type": "execute_result",
          "data": {
            "text/plain": [
              "{'_nodes': [{'_id': {'offset': 0, 'table': 0},\n",
              "   '_label': 'MenuItem',\n",
              "   'name': 'Apps',\n",
              "   'description': '\"Apps\" is a menu providing access to your device\\'s applications.  It allows you to manage installed apps, create folders to organize them, and potentially update or delete them.  You can also set default apps for various categories.  The \"Apps\" menu is a central hub for all your device\\'s software.\\n'},\n",
              "  {'_id': {'offset': 1, 'table': 0},\n",
              "   '_label': 'MenuItem',\n",
              "   'name': 'Samsung apps',\n",
              "   'description': 'Samsung apps is a collection of pre-installed applications on Samsung devices.  These apps offer various functionalities, from managing contacts and emails to taking photos and browsing the web.  They include tools like Samsung Notes, Samsung Internet, and Samsung Pay.  These apps provide a convenient and integrated user experience within the Samsung ecosystem.\\n'},\n",
              "  {'_id': {'offset': 2, 'table': 0},\n",
              "   '_label': 'MenuItem',\n",
              "   'name': 'Camera',\n",
              "   'description': \"The Camera feature lets you take photos and videos.  Access advanced settings through the main camera screen's icons and a dedicated settings menu.  Customize video recording with options like HEVC and HDR10+ for enhanced quality and efficiency.  Additional settings control storage location and shutter sound.\\n\"},\n",
              "  {'_id': {'offset': 45, 'table': 0},\n",
              "   '_label': 'MenuItem',\n",
              "   'name': 'Super steady',\n",
              "   'description': \"Super steady is a video stabilization feature that smooths out shaky footage.  It uses advanced algorithms to create professional-looking video, even when recording with significant movement.  However, it's incompatible with certain other features like Zoom-in mic and Slow motion.  For best results, use Super steady when recording with the rear camera and without Live focus video.\\n\"}],\n",
              " '_rels': [{'_src': {'offset': 0, 'table': 0},\n",
              "   '_dst': {'offset': 1, 'table': 0},\n",
              "   '_label': 'Links',\n",
              "   '_id': {'offset': 0, 'table': 1}},\n",
              "  {'_src': {'offset': 1, 'table': 0},\n",
              "   '_dst': {'offset': 2, 'table': 0},\n",
              "   '_label': 'Links',\n",
              "   '_id': {'offset': 1, 'table': 1}},\n",
              "  {'_src': {'offset': 2, 'table': 0},\n",
              "   '_dst': {'offset': 45, 'table': 0},\n",
              "   '_label': 'Links',\n",
              "   '_id': {'offset': 61, 'table': 1}}]}"
            ]
          },
          "metadata": {},
          "execution_count": 68
        }
      ],
      "source": [
        "# Shortest Path\n",
        "query = \"\"\"\n",
        "MATCH p = (a:MenuItem)-[:Links* SHORTEST 1..4]->(b:MenuItem)\n",
        "WHERE b.name = 'Super steady'\n",
        "RETURN p\n",
        "\"\"\"\n",
        "\n",
        "res = ku.execute(query)\n",
        "res.get_as_df()[\"p\"][0]"
      ]
    },
    {
      "cell_type": "markdown",
      "metadata": {
        "id": "FhD2zJgXLFx5"
      },
      "source": [
        "### Generate the Menue Item Descriptions\n",
        "\n",
        "**Quick and Dirty approach**: Combine all possible answers and ask LLM to fix it!"
      ]
    },
    {
      "cell_type": "code",
      "execution_count": null,
      "metadata": {
        "id": "Svv87lhPLpal"
      },
      "outputs": [],
      "source": [
        "text_description_nodes = {}\n",
        "for index, row in s10.iterrows():\n",
        "  menu_items = row[\"section_path\"].split(\">\")\n",
        "  for item in menu_items:\n",
        "    if item not in text_description_nodes.keys():\n",
        "      text_description_nodes[item] = \"\";\n",
        "      text_description_nodes[item] += row[\"answer\"]\n",
        "    else:\n",
        "      text_description_nodes[item] += row[\"answer\"]"
      ]
    },
    {
      "cell_type": "code",
      "execution_count": null,
      "metadata": {
        "colab": {
          "base_uri": "https://localhost:8080/"
        },
        "id": "HysaH59IMZY3",
        "outputId": "79d04f35-7f1b-4014-d744-63b5453a2bde"
      },
      "outputs": [
        {
          "output_type": "execute_result",
          "data": {
            "text/plain": [
              "dict_keys(['Apps', 'Samsung apps', 'Camera', 'Camera settings', 'Settings', 'Lock screen and security', 'Location', 'Getting started', 'Start using your device', 'Always On Display', 'AOD themes', 'Screen lock types', 'Clock and information', 'Clock', 'Time zone converter', 'Connections', 'Mobile hotspot', 'Configure mobile hotspot settings', 'Samsung Notes', 'Notes menu', 'Gallery', 'Screenshot Settings', 'Flexible security', 'Fingerprint verification settings', 'Device maintenance', 'Storage', 'Device storage', 'Email', 'Customize your home screen', 'Home screen settings', 'Sounds and vibration', 'Notification sound', 'Smart Switch', 'Contacts', 'Add or remove group contacts', 'Using apps', 'Create and use folders', 'Display', 'Screen timeout', 'Credential storage', 'Palm swipe to capture a screenshot', 'Encrypt or decrypt SD card', 'Battery', 'App settings', 'Edit notes', 'Super steady', 'Face recognition management', 'Set a secure screen lock', 'Internet', 'Samsung Pay', 'Delete a group', 'Accounts', 'Remove an account', 'Accessibility', 'Visibility enhancements', 'Colors and clarity', 'Notifications', 'Manage notifications', 'Customize Widgets', 'Language and input', 'Text-to-speech', 'Edit pictures', 'NFC and payment', 'Timer options', 'Link contacts', 'Blue light filter', 'Google apps', 'Maps', 'Mobile continuity', 'Link to Windows', 'View the Notification panel', 'Permission manager'])"
            ]
          },
          "metadata": {},
          "execution_count": 14
        }
      ],
      "source": [
        "text_description_nodes.keys()"
      ]
    },
    {
      "cell_type": "code",
      "execution_count": null,
      "metadata": {
        "colab": {
          "base_uri": "https://localhost:8080/",
          "height": 143
        },
        "id": "poc8syv7MfiB",
        "outputId": "6e904e6d-a201-4af3-bebb-77b8f1c42484"
      },
      "outputs": [
        {
          "output_type": "execute_result",
          "data": {
            "text/plain": [
              "\"Use the icons on the main camera screen and the settings menu to configure your camera’s settings.From  Camera, tap  Settings for the following options:Videos. Advanced recording options: Enhance your videos with advanced recording formats.High efficiency video: Record videos in HEVC format to save space. Other devices or sharing sites may not support playback of this format.HDR10+ video: Optimize videos by recording in HDR10+. Playback devices must support HDR10+ video.Set a time in a city on your World clock list to see what the local times would be in the other listed cities.From  Clock, tap World clock.Tap  More options > Time zone converter.Tap  Menu to choose a different city.To add a city to the list, tap  Add city.Swipe the hours, minutes, and period (AM or PM) on the clock to set a time. Local times for the other cities listed are automatically updated.To return the clock to the current time, tap Reset.You can view your notes by category. From  Samsung Notes, tap  Navigation drawer for the following options: Trash: View deleted notes for up to 15 days. Control screenshot and screen recorder settings.From Settings, tap  Advanced features > Screenshots and screen recorder.Screenshot toolbar: Show additional options after you take a screenshot.View and manage multiple email accounts in one app. To add an email account, see Add an email account.From Apps, tap  Email.Use Smart Switch to transfer contacts, photos, and other content from your old device. For more information, see Transfer data from an old device.Add more contacts to a group, or remove contacts.From Contacts, tap  Open drawer > Groups, and then tap a group.To remove a contact, touch and hold a contact to select it, and then tap  Remove.To add a contact, tap  Edit > Add member, and then tap the contacts you want to add. When finished, tap Done > Save.You can make folders to organize App shortcuts on the Apps list. From Apps, touch and hold an app shortcut, and then drag it on top of another app shortcut until it is highlighted. Release the app shortcut to create the folder.   Palette: Change the folder color. Tap  Back to close the folder.Capture an image of the screen by swiping the edge of your hand across it, from side to side, keeping in contact with the screen.From Settings, tap  Advanced features > Motions and gestures > Palm swipe to capture.Tap  to enable this feature.Manage your downloaded and preloaded apps. Options vary by app. From Settings, tap  Apps. Tap an app to view and update information about the app. The following options may be displayed: Memory: View memory usage.Make edits to notes you create.From  Samsung Notes, tap a note to view it.Tap  Edit and make changes. When you are finished, tap Save.Super steady applies advanced stabilization algorithms to your video for a smooth, professional appearance, even in heavy motion situations. This feature cannot be used with Zoom-in mic, Live focus video, Slow motion, or the front camera.Use the icons on the main camera screen and the settings menu to configure your camera’s settings.From  Camera, tap  Settings for the following options:Useful features. Storage location: Select a memory location.A memory card (not included) must be installed to view Storage location.Samsung Internet is a simple, fast, and reliable web browser for your device. Experience more secure Web browsing features with Secret Mode, Biometric Web Login, and Contents Blocker.From Apps, tap  Internet. TIP  Visit samsung.com/us/support/owners/app/samsung-internet for more information.Manage your downloaded and preloaded apps. Options vary by app. From Settings, tap  Apps. Tap an app to view and update information about the app. The following options may be displayed: Set as default: Set the app as a default for a certain category of apps.Samsung Pay™ lets you make payments with your device. It is accepted almost anywhere you can swipe or tap your credit card. A Samsung account is required. For support, visit samsung.com/us/ support/owners/app/samsung-pay.Delete a group you have created.From  Contacts, tap  Open drawer > Groups, and then tap a group.Tap  More options > Delete.To only delete the group, tap Group only.To delete the group and the contacts in the group, tap Group and members.Enhance your pictures using the Gallery's editing tools.From  Gallery, tap Pictures.Tap a picture to view it, and then tap  Edit for the following options:Transform: Rotate, flip, crop, or make other changes to the overall appearance of the picture.Filters: Add color effects.Sticker: Overlay illustrated or animated stickers.Text: Add text to the picture.Draw: Add handwritten text or hand drawn content.Tone: Adjust brightness image controls.Tap Save when finished.Use the icons on the main camera screen and the settings menu to configure your camera’s settings.From  Camera, tap  Settings for the following options:.Useful features. Shutter sound: Play a tone when taking a picture.You can view your notes by category. From  Samsung Notes, tap  Navigation drawer for the following options: All notes: View all notes.You can customize the Timer options.From  Clock, tap Timer.Tap  More options > Settings.Sound: Choose a preloaded timer sound or add your own.Vibration: Enable to disable vibration for the timer.Consolidate contact information from multiple sources into one contact by linking entries into a single contact.From  Contacts, tap the contact to select it.Tap  More options > Link to another contact.Tap contacts to choose them.Tap Link.Get directions and other location-based information. You must enable location services to use Google Maps. For more information, see Location. Visit support.google.com/maps to learn more.\""
            ],
            "application/vnd.google.colaboratory.intrinsic+json": {
              "type": "string"
            }
          },
          "metadata": {},
          "execution_count": 15
        }
      ],
      "source": [
        "text_description_nodes[\"Apps\"]"
      ]
    },
    {
      "cell_type": "code",
      "execution_count": null,
      "metadata": {
        "id": "8PRDVIQkbJyS"
      },
      "outputs": [],
      "source": [
        "pd.DataFrame(text_description_nodes.items(), columns=[\"name\",\"description\"]).to_csv(\"node_with_description.csv\")"
      ]
    },
    {
      "cell_type": "markdown",
      "metadata": {
        "id": "fJfjcvVJhcHL"
      },
      "source": [
        "### Design Prompt for generating descriptions of each menu"
      ]
    },
    {
      "cell_type": "code",
      "execution_count": null,
      "metadata": {
        "id": "whouZm9HNfVB"
      },
      "outputs": [],
      "source": [
        "def create_prompt(menu_item,text):\n",
        "  return f\"\"\"\n",
        "    You are a Content Writer, with responsibility to write User Manual:\n",
        "    Here is an arbitary TEXT on one of the menu items -'{menu_item}'.\n",
        "    ------TEXT------\n",
        "    {text}\n",
        "    -------TEXT-------\n",
        "     Without any navigational information; Describe in 4 short sentences \\\"What is '{menu_item}'\\\"\n",
        "  \"\"\""
      ]
    },
    {
      "cell_type": "code",
      "execution_count": null,
      "metadata": {
        "colab": {
          "base_uri": "https://localhost:8080/",
          "height": 143
        },
        "id": "cr5gOqdLODXY",
        "outputId": "115344c2-5064-4c72-f383-0d67aa9ec4a5"
      },
      "outputs": [
        {
          "output_type": "execute_result",
          "data": {
            "text/plain": [
              "'\\n    You are a Content Writer, with responsibility to write User Manual:\\n    Here is an arbitary TEXT on one of the menu items -\\'Apps\\'.\\n    ------TEXT------\\n    Use the icons on the main camera screen and the settings menu to configure your camera’s settings.From  Camera, tap  Settings for the following options:Videos. Advanced recording options: Enhance your videos with advanced recording formats.High efficiency video: Record videos in HEVC format to save space. Other devices or sharing sites may not support playback of this format.HDR10+ video: Optimize videos by recording in HDR10+. Playback devices must support HDR10+ video.Set a time in a city on your World clock list to see what the local times would be in the other listed cities.From  Clock, tap World clock.Tap  More options > Time zone converter.Tap  Menu to choose a different city.To add a city to the list, tap  Add city.Swipe the hours, minutes, and period (AM or PM) on the clock to set a time. Local times for the other cities listed are automatically updated.To return the clock to the current time, tap Reset.You can view your notes by category. From  Samsung Notes, tap  Navigation drawer for the following options: Trash: View deleted notes for up to 15 days. Control screenshot and screen recorder settings.From Settings, tap  Advanced features > Screenshots and screen recorder.Screenshot toolbar: Show additional options after you take a screenshot.View and manage multiple email accounts in one app. To add an email account, see Add an email account.From Apps, tap  Email.Use Smart Switch to transfer contacts, photos, and other content from your old device. For more information, see Transfer data from an old device.Add more contacts to a group, or remove contacts.From Contacts, tap  Open drawer > Groups, and then tap a group.To remove a contact, touch and hold a contact to select it, and then tap  Remove.To add a contact, tap  Edit > Add member, and then tap the contacts you want to add. When finished, tap Done > Save.You can make folders to organize App shortcuts on the Apps list. From Apps, touch and hold an app shortcut, and then drag it on top of another app shortcut until it is highlighted. Release the app shortcut to create the folder.   Palette: Change the folder color. Tap  Back to close the folder.Capture an image of the screen by swiping the edge of your hand across it, from side to side, keeping in contact with the screen.From Settings, tap  Advanced features > Motions and gestures > Palm swipe to capture.Tap  to enable this feature.Manage your downloaded and preloaded apps. Options vary by app. From Settings, tap  Apps. Tap an app to view and update information about the app. The following options may be displayed: Memory: View memory usage.Make edits to notes you create.From  Samsung Notes, tap a note to view it.Tap  Edit and make changes. When you are finished, tap Save.Super steady applies advanced stabilization algorithms to your video for a smooth, professional appearance, even in heavy motion situations. This feature cannot be used with Zoom-in mic, Live focus video, Slow motion, or the front camera.Use the icons on the main camera screen and the settings menu to configure your camera’s settings.From  Camera, tap  Settings for the following options:Useful features. Storage location: Select a memory location.A memory card (not included) must be installed to view Storage location.Samsung Internet is a simple, fast, and reliable web browser for your device. Experience more secure Web browsing features with Secret Mode, Biometric Web Login, and Contents Blocker.From Apps, tap  Internet. TIP  Visit samsung.com/us/support/owners/app/samsung-internet for more information.Manage your downloaded and preloaded apps. Options vary by app. From Settings, tap  Apps. Tap an app to view and update information about the app. The following options may be displayed: Set as default: Set the app as a default for a certain category of apps.Samsung Pay™ lets you make payments with your device. It is accepted almost anywhere you can swipe or tap your credit card. A Samsung account is required. For support, visit samsung.com/us/ support/owners/app/samsung-pay.Delete a group you have created.From  Contacts, tap  Open drawer > Groups, and then tap a group.Tap  More options > Delete.To only delete the group, tap Group only.To delete the group and the contacts in the group, tap Group and members.Enhance your pictures using the Gallery\\'s editing tools.From  Gallery, tap Pictures.Tap a picture to view it, and then tap  Edit for the following options:Transform: Rotate, flip, crop, or make other changes to the overall appearance of the picture.Filters: Add color effects.Sticker: Overlay illustrated or animated stickers.Text: Add text to the picture.Draw: Add handwritten text or hand drawn content.Tone: Adjust brightness image controls.Tap Save when finished.Use the icons on the main camera screen and the settings menu to configure your camera’s settings.From  Camera, tap  Settings for the following options:.Useful features. Shutter sound: Play a tone when taking a picture.You can view your notes by category. From  Samsung Notes, tap  Navigation drawer for the following options: All notes: View all notes.You can customize the Timer options.From  Clock, tap Timer.Tap  More options > Settings.Sound: Choose a preloaded timer sound or add your own.Vibration: Enable to disable vibration for the timer.Consolidate contact information from multiple sources into one contact by linking entries into a single contact.From  Contacts, tap the contact to select it.Tap  More options > Link to another contact.Tap contacts to choose them.Tap Link.Get directions and other location-based information. You must enable location services to use Google Maps. For more information, see Location. Visit support.google.com/maps to learn more.\\n    -------TEXT-------\\n     Without any navigational information; Describe in 4 short sentences \"What is \\'Apps\\'\"\\n  '"
            ],
            "application/vnd.google.colaboratory.intrinsic+json": {
              "type": "string"
            }
          },
          "metadata": {},
          "execution_count": 18
        }
      ],
      "source": [
        "test_prompt = create_prompt(\"Apps\",text_description_nodes[\"Apps\"])\n",
        "test_prompt"
      ]
    },
    {
      "cell_type": "code",
      "execution_count": null,
      "metadata": {
        "colab": {
          "base_uri": "https://localhost:8080/",
          "height": 448
        },
        "id": "YY2XfBKtay5W",
        "outputId": "ddd07c6c-d1c2-4fbe-c399-643b1c05e356"
      },
      "outputs": [
        {
          "name": "stdout",
          "output_type": "stream",
          "text": [
            "AI works by mimicking human intelligence through various techniques, ultimately aiming to solve complex problems and make decisions.  There's no single \"how\" because AI encompasses a broad range of approaches, but here's a breakdown of key concepts:\n",
            "\n",
            "**1. Data is King:**  AI systems learn from data. The more relevant and high-quality data they are trained on, the better their performance.  This data can be anything from images and text to sensor readings and financial transactions.\n",
            "\n",
            "**2. Algorithms: The Recipe for Intelligence:** Algorithms are sets of rules and calculations that process data. These algorithms are the core of AI systems and dictate how they learn and make predictions.  Different types of AI use different algorithms.\n",
            "\n",
            "**3. Machine Learning (ML): Learning from Data:** This is a subset of AI where systems learn patterns from data without explicit programming. Instead of being explicitly programmed with rules, they identify patterns and relationships within the data to make predictions or decisions.  Key ML techniques include:\n",
            "\n",
            "* **Supervised Learning:** The algorithm learns from labeled data (data where the desired output is already known).  Example: Training an image recognition system by showing it many pictures of cats labeled \"cat\" and dogs labeled \"dog.\"\n",
            "* **Unsupervised Learning:** The algorithm learns from unlabeled data, identifying patterns and structures on its own. Example: Clustering customers based on their purchasing behavior without pre-defined customer segments.\n",
            "* **Reinforcement Learning:** The algorithm learns through trial and error, receiving rewards for correct actions and penalties for incorrect ones. Example: Training a robot to navigate a maze by rewarding it for reaching the goal and penalizing it for hitting walls.\n",
            "\n",
            "**4. Deep Learning (DL):  Artificial Neural Networks:**  This is a subfield of ML that uses artificial neural networks (ANNs) with multiple layers (hence \"deep\").  ANNs are inspired by the structure and function of the human brain. They consist of interconnected nodes (neurons) that process information and learn through adjusting the connections between them.  Deep learning excels in tasks like image recognition, natural language processing, and speech recognition.\n",
            "\n",
            "**5. Natural Language Processing (NLP): Understanding and Generating Human Language:** NLP allows computers to understand, interpret, and generate human language. This is used in applications like chatbots, machine translation, and sentiment analysis.\n",
            "\n",
            "**6. Computer Vision: Seeing the World:** This enables computers to \"see\" and interpret images and videos.  This is crucial for applications like self-driving cars, medical image analysis, and object recognition.\n",
            "\n",
            "**7. Expert Systems:** These AI systems mimic the decision-making ability of a human expert in a specific domain. They use a knowledge base of rules and facts to answer questions and solve problems.\n",
            "\n",
            "\n",
            "**In summary:** AI works by combining large amounts of data, sophisticated algorithms, and powerful computing resources to create systems that can learn, reason, and make decisions, often mimicking aspects of human intelligence. The specific methods used depend on the task and the type of AI being employed.  It's a constantly evolving field with new techniques and applications emerging regularly.\n",
            "\n"
          ]
        }
      ],
      "source": [
        "import google.generativeai as genai\n",
        "from google.colab import userdata\n",
        "\n",
        "\n",
        "genai.configure(api_key=userdata.get('GEMINI_API_KEY'))\n",
        "model = genai.GenerativeModel(\"gemini-1.5-flash\")\n",
        "response = model.generate_content(\"Explain how AI works\")\n",
        "print(response.text)"
      ]
    },
    {
      "cell_type": "code",
      "execution_count": null,
      "metadata": {
        "colab": {
          "base_uri": "https://localhost:8080/"
        },
        "id": "C4369FtzhUEL",
        "outputId": "25320dd8-ac78-465c-a4f0-5d8a7c7797d5"
      },
      "outputs": [
        {
          "data": {
            "text/plain": [
              "['Screenshot Settings',\n",
              " 'Flexible security',\n",
              " 'Fingerprint verification settings',\n",
              " 'Device maintenance',\n",
              " 'Storage',\n",
              " 'Device storage',\n",
              " 'Email',\n",
              " 'Customize your home screen',\n",
              " 'Home screen settings',\n",
              " 'Sounds and vibration']"
            ]
          },
          "execution_count": 32,
          "metadata": {},
          "output_type": "execute_result"
        }
      ],
      "source": [
        "list(text_description_nodes.keys())[21:31]"
      ]
    },
    {
      "cell_type": "code",
      "execution_count": null,
      "metadata": {
        "id": "Vok0HmNobzP4"
      },
      "outputs": [],
      "source": [
        "model_responses = {}"
      ]
    },
    {
      "cell_type": "code",
      "execution_count": null,
      "metadata": {
        "id": "jM7BnlLna_D1"
      },
      "outputs": [],
      "source": [
        "import time\n",
        "for key in list(text_description_nodes.keys()):\n",
        "  print(key)\n",
        "  prompt = create_prompt(key,text_description_nodes[key])\n",
        "  response = model.generate_content(prompt)\n",
        "  model_responses[key] = response.text\n",
        "  time.sleep(3)"
      ]
    },
    {
      "cell_type": "code",
      "execution_count": null,
      "metadata": {
        "colab": {
          "base_uri": "https://localhost:8080/"
        },
        "id": "4tLqzP1BcLaJ",
        "outputId": "0845e375-86e9-49d9-b310-e8fe8d280bbc"
      },
      "outputs": [
        {
          "data": {
            "text/plain": [
              "72"
            ]
          },
          "execution_count": 56,
          "metadata": {},
          "output_type": "execute_result"
        }
      ],
      "source": [
        "len(model_responses.keys())"
      ]
    },
    {
      "cell_type": "code",
      "execution_count": null,
      "metadata": {
        "colab": {
          "base_uri": "https://localhost:8080/"
        },
        "id": "c19qHFaAevjI",
        "outputId": "490d9bd6-253b-455a-d842-34688fd587a9"
      },
      "outputs": [
        {
          "data": {
            "text/plain": [
              "72"
            ]
          },
          "execution_count": 57,
          "metadata": {},
          "output_type": "execute_result"
        }
      ],
      "source": [
        "len(text_description_nodes.keys())"
      ]
    },
    {
      "cell_type": "code",
      "execution_count": null,
      "metadata": {
        "id": "6EQHRceihrtu"
      },
      "outputs": [],
      "source": [
        "nodes_doc = {\n",
        "    \"name\":list(model_responses.keys()),\n",
        "    \"description\":[model_responses[k] for k in model_responses.keys()]\n",
        "}\n",
        "nodes_doc"
      ]
    },
    {
      "cell_type": "code",
      "execution_count": null,
      "metadata": {
        "colab": {
          "base_uri": "https://localhost:8080/",
          "height": 206
        },
        "id": "F9pC84YKiD39",
        "outputId": "73123af4-761f-469f-c31b-b3737196f829"
      },
      "outputs": [
        {
          "data": {
            "application/vnd.google.colaboratory.intrinsic+json": {
              "summary": "{\n  \"name\": \"nodes_df\",\n  \"rows\": 72,\n  \"fields\": [\n    {\n      \"column\": \"name\",\n      \"properties\": {\n        \"dtype\": \"string\",\n        \"num_unique_values\": 72,\n        \"samples\": [\n          \"Settings\",\n          \"NFC and payment\",\n          \"Samsung Notes\"\n        ],\n        \"semantic_type\": \"\",\n        \"description\": \"\"\n      }\n    },\n    {\n      \"column\": \"description\",\n      \"properties\": {\n        \"dtype\": \"string\",\n        \"num_unique_values\": 72,\n        \"samples\": [\n          \"Settings is your device's central control panel.  It allows you to customize various aspects of your phone's functionality.  From managing network connections to adjusting display settings and security features, Settings offers extensive personalization options.  Essentially, it's where you configure your device to meet your individual needs and preferences.\\n\",\n          \"NFC, or Near Field Communication, enables contactless data transfer between devices within a few centimeters.  This technology facilitates quick, secure payments using compatible apps.  Your phone must have NFC enabled, and the payment terminal needs NFC capability as well.  Simply hold your phone near the terminal to complete the transaction.\\n\",\n          \"Samsung Notes is a note-taking app where you can create and edit text notes.  It allows you to organize notes into categories for easy access.  Deleted notes are stored in the trash for up to 15 days.  You can view all your notes or filter by category.\\n\"\n        ],\n        \"semantic_type\": \"\",\n        \"description\": \"\"\n      }\n    }\n  ]\n}",
              "type": "dataframe",
              "variable_name": "nodes_df"
            },
            "text/html": [
              "\n",
              "  <div id=\"df-39dec701-1ea9-4097-831c-965f9a5d9ca8\" class=\"colab-df-container\">\n",
              "    <div>\n",
              "<style scoped>\n",
              "    .dataframe tbody tr th:only-of-type {\n",
              "        vertical-align: middle;\n",
              "    }\n",
              "\n",
              "    .dataframe tbody tr th {\n",
              "        vertical-align: top;\n",
              "    }\n",
              "\n",
              "    .dataframe thead th {\n",
              "        text-align: right;\n",
              "    }\n",
              "</style>\n",
              "<table border=\"1\" class=\"dataframe\">\n",
              "  <thead>\n",
              "    <tr style=\"text-align: right;\">\n",
              "      <th></th>\n",
              "      <th>name</th>\n",
              "      <th>description</th>\n",
              "    </tr>\n",
              "  </thead>\n",
              "  <tbody>\n",
              "    <tr>\n",
              "      <th>0</th>\n",
              "      <td>Apps</td>\n",
              "      <td>\"Apps\" is a menu providing access to your devi...</td>\n",
              "    </tr>\n",
              "    <tr>\n",
              "      <th>1</th>\n",
              "      <td>Samsung apps</td>\n",
              "      <td>Samsung apps is a collection of pre-installed ...</td>\n",
              "    </tr>\n",
              "    <tr>\n",
              "      <th>2</th>\n",
              "      <td>Camera</td>\n",
              "      <td>The Camera feature lets you take photos and vi...</td>\n",
              "    </tr>\n",
              "    <tr>\n",
              "      <th>3</th>\n",
              "      <td>Camera settings</td>\n",
              "      <td>Camera settings allow you to customize your ca...</td>\n",
              "    </tr>\n",
              "    <tr>\n",
              "      <th>4</th>\n",
              "      <td>Settings</td>\n",
              "      <td>Settings is your device's central control pane...</td>\n",
              "    </tr>\n",
              "  </tbody>\n",
              "</table>\n",
              "</div>\n",
              "    <div class=\"colab-df-buttons\">\n",
              "\n",
              "  <div class=\"colab-df-container\">\n",
              "    <button class=\"colab-df-convert\" onclick=\"convertToInteractive('df-39dec701-1ea9-4097-831c-965f9a5d9ca8')\"\n",
              "            title=\"Convert this dataframe to an interactive table.\"\n",
              "            style=\"display:none;\">\n",
              "\n",
              "  <svg xmlns=\"http://www.w3.org/2000/svg\" height=\"24px\" viewBox=\"0 -960 960 960\">\n",
              "    <path d=\"M120-120v-720h720v720H120Zm60-500h600v-160H180v160Zm220 220h160v-160H400v160Zm0 220h160v-160H400v160ZM180-400h160v-160H180v160Zm440 0h160v-160H620v160ZM180-180h160v-160H180v160Zm440 0h160v-160H620v160Z\"/>\n",
              "  </svg>\n",
              "    </button>\n",
              "\n",
              "  <style>\n",
              "    .colab-df-container {\n",
              "      display:flex;\n",
              "      gap: 12px;\n",
              "    }\n",
              "\n",
              "    .colab-df-convert {\n",
              "      background-color: #E8F0FE;\n",
              "      border: none;\n",
              "      border-radius: 50%;\n",
              "      cursor: pointer;\n",
              "      display: none;\n",
              "      fill: #1967D2;\n",
              "      height: 32px;\n",
              "      padding: 0 0 0 0;\n",
              "      width: 32px;\n",
              "    }\n",
              "\n",
              "    .colab-df-convert:hover {\n",
              "      background-color: #E2EBFA;\n",
              "      box-shadow: 0px 1px 2px rgba(60, 64, 67, 0.3), 0px 1px 3px 1px rgba(60, 64, 67, 0.15);\n",
              "      fill: #174EA6;\n",
              "    }\n",
              "\n",
              "    .colab-df-buttons div {\n",
              "      margin-bottom: 4px;\n",
              "    }\n",
              "\n",
              "    [theme=dark] .colab-df-convert {\n",
              "      background-color: #3B4455;\n",
              "      fill: #D2E3FC;\n",
              "    }\n",
              "\n",
              "    [theme=dark] .colab-df-convert:hover {\n",
              "      background-color: #434B5C;\n",
              "      box-shadow: 0px 1px 3px 1px rgba(0, 0, 0, 0.15);\n",
              "      filter: drop-shadow(0px 1px 2px rgba(0, 0, 0, 0.3));\n",
              "      fill: #FFFFFF;\n",
              "    }\n",
              "  </style>\n",
              "\n",
              "    <script>\n",
              "      const buttonEl =\n",
              "        document.querySelector('#df-39dec701-1ea9-4097-831c-965f9a5d9ca8 button.colab-df-convert');\n",
              "      buttonEl.style.display =\n",
              "        google.colab.kernel.accessAllowed ? 'block' : 'none';\n",
              "\n",
              "      async function convertToInteractive(key) {\n",
              "        const element = document.querySelector('#df-39dec701-1ea9-4097-831c-965f9a5d9ca8');\n",
              "        const dataTable =\n",
              "          await google.colab.kernel.invokeFunction('convertToInteractive',\n",
              "                                                    [key], {});\n",
              "        if (!dataTable) return;\n",
              "\n",
              "        const docLinkHtml = 'Like what you see? Visit the ' +\n",
              "          '<a target=\"_blank\" href=https://colab.research.google.com/notebooks/data_table.ipynb>data table notebook</a>'\n",
              "          + ' to learn more about interactive tables.';\n",
              "        element.innerHTML = '';\n",
              "        dataTable['output_type'] = 'display_data';\n",
              "        await google.colab.output.renderOutput(dataTable, element);\n",
              "        const docLink = document.createElement('div');\n",
              "        docLink.innerHTML = docLinkHtml;\n",
              "        element.appendChild(docLink);\n",
              "      }\n",
              "    </script>\n",
              "  </div>\n",
              "\n",
              "\n",
              "<div id=\"df-6eb4dabb-aac0-468a-9884-f57cacb5ac57\">\n",
              "  <button class=\"colab-df-quickchart\" onclick=\"quickchart('df-6eb4dabb-aac0-468a-9884-f57cacb5ac57')\"\n",
              "            title=\"Suggest charts\"\n",
              "            style=\"display:none;\">\n",
              "\n",
              "<svg xmlns=\"http://www.w3.org/2000/svg\" height=\"24px\"viewBox=\"0 0 24 24\"\n",
              "     width=\"24px\">\n",
              "    <g>\n",
              "        <path d=\"M19 3H5c-1.1 0-2 .9-2 2v14c0 1.1.9 2 2 2h14c1.1 0 2-.9 2-2V5c0-1.1-.9-2-2-2zM9 17H7v-7h2v7zm4 0h-2V7h2v10zm4 0h-2v-4h2v4z\"/>\n",
              "    </g>\n",
              "</svg>\n",
              "  </button>\n",
              "\n",
              "<style>\n",
              "  .colab-df-quickchart {\n",
              "      --bg-color: #E8F0FE;\n",
              "      --fill-color: #1967D2;\n",
              "      --hover-bg-color: #E2EBFA;\n",
              "      --hover-fill-color: #174EA6;\n",
              "      --disabled-fill-color: #AAA;\n",
              "      --disabled-bg-color: #DDD;\n",
              "  }\n",
              "\n",
              "  [theme=dark] .colab-df-quickchart {\n",
              "      --bg-color: #3B4455;\n",
              "      --fill-color: #D2E3FC;\n",
              "      --hover-bg-color: #434B5C;\n",
              "      --hover-fill-color: #FFFFFF;\n",
              "      --disabled-bg-color: #3B4455;\n",
              "      --disabled-fill-color: #666;\n",
              "  }\n",
              "\n",
              "  .colab-df-quickchart {\n",
              "    background-color: var(--bg-color);\n",
              "    border: none;\n",
              "    border-radius: 50%;\n",
              "    cursor: pointer;\n",
              "    display: none;\n",
              "    fill: var(--fill-color);\n",
              "    height: 32px;\n",
              "    padding: 0;\n",
              "    width: 32px;\n",
              "  }\n",
              "\n",
              "  .colab-df-quickchart:hover {\n",
              "    background-color: var(--hover-bg-color);\n",
              "    box-shadow: 0 1px 2px rgba(60, 64, 67, 0.3), 0 1px 3px 1px rgba(60, 64, 67, 0.15);\n",
              "    fill: var(--button-hover-fill-color);\n",
              "  }\n",
              "\n",
              "  .colab-df-quickchart-complete:disabled,\n",
              "  .colab-df-quickchart-complete:disabled:hover {\n",
              "    background-color: var(--disabled-bg-color);\n",
              "    fill: var(--disabled-fill-color);\n",
              "    box-shadow: none;\n",
              "  }\n",
              "\n",
              "  .colab-df-spinner {\n",
              "    border: 2px solid var(--fill-color);\n",
              "    border-color: transparent;\n",
              "    border-bottom-color: var(--fill-color);\n",
              "    animation:\n",
              "      spin 1s steps(1) infinite;\n",
              "  }\n",
              "\n",
              "  @keyframes spin {\n",
              "    0% {\n",
              "      border-color: transparent;\n",
              "      border-bottom-color: var(--fill-color);\n",
              "      border-left-color: var(--fill-color);\n",
              "    }\n",
              "    20% {\n",
              "      border-color: transparent;\n",
              "      border-left-color: var(--fill-color);\n",
              "      border-top-color: var(--fill-color);\n",
              "    }\n",
              "    30% {\n",
              "      border-color: transparent;\n",
              "      border-left-color: var(--fill-color);\n",
              "      border-top-color: var(--fill-color);\n",
              "      border-right-color: var(--fill-color);\n",
              "    }\n",
              "    40% {\n",
              "      border-color: transparent;\n",
              "      border-right-color: var(--fill-color);\n",
              "      border-top-color: var(--fill-color);\n",
              "    }\n",
              "    60% {\n",
              "      border-color: transparent;\n",
              "      border-right-color: var(--fill-color);\n",
              "    }\n",
              "    80% {\n",
              "      border-color: transparent;\n",
              "      border-right-color: var(--fill-color);\n",
              "      border-bottom-color: var(--fill-color);\n",
              "    }\n",
              "    90% {\n",
              "      border-color: transparent;\n",
              "      border-bottom-color: var(--fill-color);\n",
              "    }\n",
              "  }\n",
              "</style>\n",
              "\n",
              "  <script>\n",
              "    async function quickchart(key) {\n",
              "      const quickchartButtonEl =\n",
              "        document.querySelector('#' + key + ' button');\n",
              "      quickchartButtonEl.disabled = true;  // To prevent multiple clicks.\n",
              "      quickchartButtonEl.classList.add('colab-df-spinner');\n",
              "      try {\n",
              "        const charts = await google.colab.kernel.invokeFunction(\n",
              "            'suggestCharts', [key], {});\n",
              "      } catch (error) {\n",
              "        console.error('Error during call to suggestCharts:', error);\n",
              "      }\n",
              "      quickchartButtonEl.classList.remove('colab-df-spinner');\n",
              "      quickchartButtonEl.classList.add('colab-df-quickchart-complete');\n",
              "    }\n",
              "    (() => {\n",
              "      let quickchartButtonEl =\n",
              "        document.querySelector('#df-6eb4dabb-aac0-468a-9884-f57cacb5ac57 button');\n",
              "      quickchartButtonEl.style.display =\n",
              "        google.colab.kernel.accessAllowed ? 'block' : 'none';\n",
              "    })();\n",
              "  </script>\n",
              "</div>\n",
              "\n",
              "    </div>\n",
              "  </div>\n"
            ],
            "text/plain": [
              "              name                                        description\n",
              "0             Apps  \"Apps\" is a menu providing access to your devi...\n",
              "1     Samsung apps  Samsung apps is a collection of pre-installed ...\n",
              "2           Camera  The Camera feature lets you take photos and vi...\n",
              "3  Camera settings  Camera settings allow you to customize your ca...\n",
              "4         Settings  Settings is your device's central control pane..."
            ]
          },
          "execution_count": 59,
          "metadata": {},
          "output_type": "execute_result"
        }
      ],
      "source": [
        "nodes_df = pd.DataFrame(nodes_doc)\n",
        "nodes_df.to_csv(\"nodes_doc.csv\")\n",
        "nodes_df.head()"
      ]
    },
    {
      "cell_type": "markdown",
      "metadata": {
        "id": "nSl6Pgu0h_wu"
      },
      "source": [
        "### Create Graph where Nodes have their Descriptions"
      ]
    },
    {
      "cell_type": "code",
      "source": [
        "!unzip GraphRAG.zip"
      ],
      "metadata": {
        "colab": {
          "base_uri": "https://localhost:8080/"
        },
        "id": "lb0cDa8fKN7R",
        "outputId": "898e56a9-84ff-4074-9898-da36097eac4c"
      },
      "execution_count": 13,
      "outputs": [
        {
          "output_type": "stream",
          "name": "stdout",
          "text": [
            "Archive:  GraphRAG.zip\n",
            "replace edges.csv? [y]es, [n]o, [A]ll, [N]one, [r]ename: A\n",
            "  inflating: edges.csv               \n",
            "  inflating: menu_items_dataset.csv  \n",
            "  inflating: nodes_doc.csv           \n",
            "  inflating: node_with_description.csv  \n",
            "  inflating: s10_50_questions.csv    \n"
          ]
        }
      ]
    },
    {
      "cell_type": "code",
      "execution_count": 69,
      "metadata": {
        "colab": {
          "base_uri": "https://localhost:8080/",
          "height": 424
        },
        "id": "TkpE6aeHolJZ",
        "outputId": "d55ed870-85b1-4fdf-c6bb-c7988a8f6a3c"
      },
      "outputs": [
        {
          "output_type": "execute_result",
          "data": {
            "text/plain": [
              "                           name  \\\n",
              "0                          Apps   \n",
              "1                  Samsung apps   \n",
              "2                        Camera   \n",
              "3               Camera settings   \n",
              "4                      Settings   \n",
              "..                          ...   \n",
              "67                         Maps   \n",
              "68            Mobile continuity   \n",
              "69              Link to Windows   \n",
              "70  View the Notification panel   \n",
              "71           Permission manager   \n",
              "\n",
              "                                          description  \n",
              "0   \"Apps\" is a menu providing access to your devi...  \n",
              "1   Samsung apps is a collection of pre-installed ...  \n",
              "2   The Camera feature lets you take photos and vi...  \n",
              "3   Camera settings allow you to customize your ca...  \n",
              "4   Settings is your device's central control pane...  \n",
              "..                                                ...  \n",
              "67  The Maps feature provides location-based servi...  \n",
              "68  Mobile Continuity lets you view and manage you...  \n",
              "69  Link to Windows connects your phone and PC, mi...  \n",
              "70  The Notification panel displays all your recen...  \n",
              "71  The Permission Manager controls which apps can...  \n",
              "\n",
              "[72 rows x 2 columns]"
            ],
            "text/html": [
              "\n",
              "  <div id=\"df-aca1c557-5a39-4f92-8e58-5be5262a1c81\" class=\"colab-df-container\">\n",
              "    <div>\n",
              "<style scoped>\n",
              "    .dataframe tbody tr th:only-of-type {\n",
              "        vertical-align: middle;\n",
              "    }\n",
              "\n",
              "    .dataframe tbody tr th {\n",
              "        vertical-align: top;\n",
              "    }\n",
              "\n",
              "    .dataframe thead th {\n",
              "        text-align: right;\n",
              "    }\n",
              "</style>\n",
              "<table border=\"1\" class=\"dataframe\">\n",
              "  <thead>\n",
              "    <tr style=\"text-align: right;\">\n",
              "      <th></th>\n",
              "      <th>name</th>\n",
              "      <th>description</th>\n",
              "    </tr>\n",
              "  </thead>\n",
              "  <tbody>\n",
              "    <tr>\n",
              "      <th>0</th>\n",
              "      <td>Apps</td>\n",
              "      <td>\"Apps\" is a menu providing access to your devi...</td>\n",
              "    </tr>\n",
              "    <tr>\n",
              "      <th>1</th>\n",
              "      <td>Samsung apps</td>\n",
              "      <td>Samsung apps is a collection of pre-installed ...</td>\n",
              "    </tr>\n",
              "    <tr>\n",
              "      <th>2</th>\n",
              "      <td>Camera</td>\n",
              "      <td>The Camera feature lets you take photos and vi...</td>\n",
              "    </tr>\n",
              "    <tr>\n",
              "      <th>3</th>\n",
              "      <td>Camera settings</td>\n",
              "      <td>Camera settings allow you to customize your ca...</td>\n",
              "    </tr>\n",
              "    <tr>\n",
              "      <th>4</th>\n",
              "      <td>Settings</td>\n",
              "      <td>Settings is your device's central control pane...</td>\n",
              "    </tr>\n",
              "    <tr>\n",
              "      <th>...</th>\n",
              "      <td>...</td>\n",
              "      <td>...</td>\n",
              "    </tr>\n",
              "    <tr>\n",
              "      <th>67</th>\n",
              "      <td>Maps</td>\n",
              "      <td>The Maps feature provides location-based servi...</td>\n",
              "    </tr>\n",
              "    <tr>\n",
              "      <th>68</th>\n",
              "      <td>Mobile continuity</td>\n",
              "      <td>Mobile Continuity lets you view and manage you...</td>\n",
              "    </tr>\n",
              "    <tr>\n",
              "      <th>69</th>\n",
              "      <td>Link to Windows</td>\n",
              "      <td>Link to Windows connects your phone and PC, mi...</td>\n",
              "    </tr>\n",
              "    <tr>\n",
              "      <th>70</th>\n",
              "      <td>View the Notification panel</td>\n",
              "      <td>The Notification panel displays all your recen...</td>\n",
              "    </tr>\n",
              "    <tr>\n",
              "      <th>71</th>\n",
              "      <td>Permission manager</td>\n",
              "      <td>The Permission Manager controls which apps can...</td>\n",
              "    </tr>\n",
              "  </tbody>\n",
              "</table>\n",
              "<p>72 rows × 2 columns</p>\n",
              "</div>\n",
              "    <div class=\"colab-df-buttons\">\n",
              "\n",
              "  <div class=\"colab-df-container\">\n",
              "    <button class=\"colab-df-convert\" onclick=\"convertToInteractive('df-aca1c557-5a39-4f92-8e58-5be5262a1c81')\"\n",
              "            title=\"Convert this dataframe to an interactive table.\"\n",
              "            style=\"display:none;\">\n",
              "\n",
              "  <svg xmlns=\"http://www.w3.org/2000/svg\" height=\"24px\" viewBox=\"0 -960 960 960\">\n",
              "    <path d=\"M120-120v-720h720v720H120Zm60-500h600v-160H180v160Zm220 220h160v-160H400v160Zm0 220h160v-160H400v160ZM180-400h160v-160H180v160Zm440 0h160v-160H620v160ZM180-180h160v-160H180v160Zm440 0h160v-160H620v160Z\"/>\n",
              "  </svg>\n",
              "    </button>\n",
              "\n",
              "  <style>\n",
              "    .colab-df-container {\n",
              "      display:flex;\n",
              "      gap: 12px;\n",
              "    }\n",
              "\n",
              "    .colab-df-convert {\n",
              "      background-color: #E8F0FE;\n",
              "      border: none;\n",
              "      border-radius: 50%;\n",
              "      cursor: pointer;\n",
              "      display: none;\n",
              "      fill: #1967D2;\n",
              "      height: 32px;\n",
              "      padding: 0 0 0 0;\n",
              "      width: 32px;\n",
              "    }\n",
              "\n",
              "    .colab-df-convert:hover {\n",
              "      background-color: #E2EBFA;\n",
              "      box-shadow: 0px 1px 2px rgba(60, 64, 67, 0.3), 0px 1px 3px 1px rgba(60, 64, 67, 0.15);\n",
              "      fill: #174EA6;\n",
              "    }\n",
              "\n",
              "    .colab-df-buttons div {\n",
              "      margin-bottom: 4px;\n",
              "    }\n",
              "\n",
              "    [theme=dark] .colab-df-convert {\n",
              "      background-color: #3B4455;\n",
              "      fill: #D2E3FC;\n",
              "    }\n",
              "\n",
              "    [theme=dark] .colab-df-convert:hover {\n",
              "      background-color: #434B5C;\n",
              "      box-shadow: 0px 1px 3px 1px rgba(0, 0, 0, 0.15);\n",
              "      filter: drop-shadow(0px 1px 2px rgba(0, 0, 0, 0.3));\n",
              "      fill: #FFFFFF;\n",
              "    }\n",
              "  </style>\n",
              "\n",
              "    <script>\n",
              "      const buttonEl =\n",
              "        document.querySelector('#df-aca1c557-5a39-4f92-8e58-5be5262a1c81 button.colab-df-convert');\n",
              "      buttonEl.style.display =\n",
              "        google.colab.kernel.accessAllowed ? 'block' : 'none';\n",
              "\n",
              "      async function convertToInteractive(key) {\n",
              "        const element = document.querySelector('#df-aca1c557-5a39-4f92-8e58-5be5262a1c81');\n",
              "        const dataTable =\n",
              "          await google.colab.kernel.invokeFunction('convertToInteractive',\n",
              "                                                    [key], {});\n",
              "        if (!dataTable) return;\n",
              "\n",
              "        const docLinkHtml = 'Like what you see? Visit the ' +\n",
              "          '<a target=\"_blank\" href=https://colab.research.google.com/notebooks/data_table.ipynb>data table notebook</a>'\n",
              "          + ' to learn more about interactive tables.';\n",
              "        element.innerHTML = '';\n",
              "        dataTable['output_type'] = 'display_data';\n",
              "        await google.colab.output.renderOutput(dataTable, element);\n",
              "        const docLink = document.createElement('div');\n",
              "        docLink.innerHTML = docLinkHtml;\n",
              "        element.appendChild(docLink);\n",
              "      }\n",
              "    </script>\n",
              "  </div>\n",
              "\n",
              "\n",
              "<div id=\"df-d6f64201-15d2-4f57-be96-e05f4456b5ea\">\n",
              "  <button class=\"colab-df-quickchart\" onclick=\"quickchart('df-d6f64201-15d2-4f57-be96-e05f4456b5ea')\"\n",
              "            title=\"Suggest charts\"\n",
              "            style=\"display:none;\">\n",
              "\n",
              "<svg xmlns=\"http://www.w3.org/2000/svg\" height=\"24px\"viewBox=\"0 0 24 24\"\n",
              "     width=\"24px\">\n",
              "    <g>\n",
              "        <path d=\"M19 3H5c-1.1 0-2 .9-2 2v14c0 1.1.9 2 2 2h14c1.1 0 2-.9 2-2V5c0-1.1-.9-2-2-2zM9 17H7v-7h2v7zm4 0h-2V7h2v10zm4 0h-2v-4h2v4z\"/>\n",
              "    </g>\n",
              "</svg>\n",
              "  </button>\n",
              "\n",
              "<style>\n",
              "  .colab-df-quickchart {\n",
              "      --bg-color: #E8F0FE;\n",
              "      --fill-color: #1967D2;\n",
              "      --hover-bg-color: #E2EBFA;\n",
              "      --hover-fill-color: #174EA6;\n",
              "      --disabled-fill-color: #AAA;\n",
              "      --disabled-bg-color: #DDD;\n",
              "  }\n",
              "\n",
              "  [theme=dark] .colab-df-quickchart {\n",
              "      --bg-color: #3B4455;\n",
              "      --fill-color: #D2E3FC;\n",
              "      --hover-bg-color: #434B5C;\n",
              "      --hover-fill-color: #FFFFFF;\n",
              "      --disabled-bg-color: #3B4455;\n",
              "      --disabled-fill-color: #666;\n",
              "  }\n",
              "\n",
              "  .colab-df-quickchart {\n",
              "    background-color: var(--bg-color);\n",
              "    border: none;\n",
              "    border-radius: 50%;\n",
              "    cursor: pointer;\n",
              "    display: none;\n",
              "    fill: var(--fill-color);\n",
              "    height: 32px;\n",
              "    padding: 0;\n",
              "    width: 32px;\n",
              "  }\n",
              "\n",
              "  .colab-df-quickchart:hover {\n",
              "    background-color: var(--hover-bg-color);\n",
              "    box-shadow: 0 1px 2px rgba(60, 64, 67, 0.3), 0 1px 3px 1px rgba(60, 64, 67, 0.15);\n",
              "    fill: var(--button-hover-fill-color);\n",
              "  }\n",
              "\n",
              "  .colab-df-quickchart-complete:disabled,\n",
              "  .colab-df-quickchart-complete:disabled:hover {\n",
              "    background-color: var(--disabled-bg-color);\n",
              "    fill: var(--disabled-fill-color);\n",
              "    box-shadow: none;\n",
              "  }\n",
              "\n",
              "  .colab-df-spinner {\n",
              "    border: 2px solid var(--fill-color);\n",
              "    border-color: transparent;\n",
              "    border-bottom-color: var(--fill-color);\n",
              "    animation:\n",
              "      spin 1s steps(1) infinite;\n",
              "  }\n",
              "\n",
              "  @keyframes spin {\n",
              "    0% {\n",
              "      border-color: transparent;\n",
              "      border-bottom-color: var(--fill-color);\n",
              "      border-left-color: var(--fill-color);\n",
              "    }\n",
              "    20% {\n",
              "      border-color: transparent;\n",
              "      border-left-color: var(--fill-color);\n",
              "      border-top-color: var(--fill-color);\n",
              "    }\n",
              "    30% {\n",
              "      border-color: transparent;\n",
              "      border-left-color: var(--fill-color);\n",
              "      border-top-color: var(--fill-color);\n",
              "      border-right-color: var(--fill-color);\n",
              "    }\n",
              "    40% {\n",
              "      border-color: transparent;\n",
              "      border-right-color: var(--fill-color);\n",
              "      border-top-color: var(--fill-color);\n",
              "    }\n",
              "    60% {\n",
              "      border-color: transparent;\n",
              "      border-right-color: var(--fill-color);\n",
              "    }\n",
              "    80% {\n",
              "      border-color: transparent;\n",
              "      border-right-color: var(--fill-color);\n",
              "      border-bottom-color: var(--fill-color);\n",
              "    }\n",
              "    90% {\n",
              "      border-color: transparent;\n",
              "      border-bottom-color: var(--fill-color);\n",
              "    }\n",
              "  }\n",
              "</style>\n",
              "\n",
              "  <script>\n",
              "    async function quickchart(key) {\n",
              "      const quickchartButtonEl =\n",
              "        document.querySelector('#' + key + ' button');\n",
              "      quickchartButtonEl.disabled = true;  // To prevent multiple clicks.\n",
              "      quickchartButtonEl.classList.add('colab-df-spinner');\n",
              "      try {\n",
              "        const charts = await google.colab.kernel.invokeFunction(\n",
              "            'suggestCharts', [key], {});\n",
              "      } catch (error) {\n",
              "        console.error('Error during call to suggestCharts:', error);\n",
              "      }\n",
              "      quickchartButtonEl.classList.remove('colab-df-spinner');\n",
              "      quickchartButtonEl.classList.add('colab-df-quickchart-complete');\n",
              "    }\n",
              "    (() => {\n",
              "      let quickchartButtonEl =\n",
              "        document.querySelector('#df-d6f64201-15d2-4f57-be96-e05f4456b5ea button');\n",
              "      quickchartButtonEl.style.display =\n",
              "        google.colab.kernel.accessAllowed ? 'block' : 'none';\n",
              "    })();\n",
              "  </script>\n",
              "</div>\n",
              "\n",
              "  <div id=\"id_b4fb24bd-ed04-45f8-8443-193f2282d495\">\n",
              "    <style>\n",
              "      .colab-df-generate {\n",
              "        background-color: #E8F0FE;\n",
              "        border: none;\n",
              "        border-radius: 50%;\n",
              "        cursor: pointer;\n",
              "        display: none;\n",
              "        fill: #1967D2;\n",
              "        height: 32px;\n",
              "        padding: 0 0 0 0;\n",
              "        width: 32px;\n",
              "      }\n",
              "\n",
              "      .colab-df-generate:hover {\n",
              "        background-color: #E2EBFA;\n",
              "        box-shadow: 0px 1px 2px rgba(60, 64, 67, 0.3), 0px 1px 3px 1px rgba(60, 64, 67, 0.15);\n",
              "        fill: #174EA6;\n",
              "      }\n",
              "\n",
              "      [theme=dark] .colab-df-generate {\n",
              "        background-color: #3B4455;\n",
              "        fill: #D2E3FC;\n",
              "      }\n",
              "\n",
              "      [theme=dark] .colab-df-generate:hover {\n",
              "        background-color: #434B5C;\n",
              "        box-shadow: 0px 1px 3px 1px rgba(0, 0, 0, 0.15);\n",
              "        filter: drop-shadow(0px 1px 2px rgba(0, 0, 0, 0.3));\n",
              "        fill: #FFFFFF;\n",
              "      }\n",
              "    </style>\n",
              "    <button class=\"colab-df-generate\" onclick=\"generateWithVariable('nodes_df')\"\n",
              "            title=\"Generate code using this dataframe.\"\n",
              "            style=\"display:none;\">\n",
              "\n",
              "  <svg xmlns=\"http://www.w3.org/2000/svg\" height=\"24px\"viewBox=\"0 0 24 24\"\n",
              "       width=\"24px\">\n",
              "    <path d=\"M7,19H8.4L18.45,9,17,7.55,7,17.6ZM5,21V16.75L18.45,3.32a2,2,0,0,1,2.83,0l1.4,1.43a1.91,1.91,0,0,1,.58,1.4,1.91,1.91,0,0,1-.58,1.4L9.25,21ZM18.45,9,17,7.55Zm-12,3A5.31,5.31,0,0,0,4.9,8.1,5.31,5.31,0,0,0,1,6.5,5.31,5.31,0,0,0,4.9,4.9,5.31,5.31,0,0,0,6.5,1,5.31,5.31,0,0,0,8.1,4.9,5.31,5.31,0,0,0,12,6.5,5.46,5.46,0,0,0,6.5,12Z\"/>\n",
              "  </svg>\n",
              "    </button>\n",
              "    <script>\n",
              "      (() => {\n",
              "      const buttonEl =\n",
              "        document.querySelector('#id_b4fb24bd-ed04-45f8-8443-193f2282d495 button.colab-df-generate');\n",
              "      buttonEl.style.display =\n",
              "        google.colab.kernel.accessAllowed ? 'block' : 'none';\n",
              "\n",
              "      buttonEl.onclick = () => {\n",
              "        google.colab.notebook.generateWithVariable('nodes_df');\n",
              "      }\n",
              "      })();\n",
              "    </script>\n",
              "  </div>\n",
              "\n",
              "    </div>\n",
              "  </div>\n"
            ],
            "application/vnd.google.colaboratory.intrinsic+json": {
              "type": "dataframe",
              "variable_name": "nodes_df",
              "summary": "{\n  \"name\": \"nodes_df\",\n  \"rows\": 72,\n  \"fields\": [\n    {\n      \"column\": \"name\",\n      \"properties\": {\n        \"dtype\": \"string\",\n        \"num_unique_values\": 72,\n        \"samples\": [\n          \"Settings\",\n          \"NFC and payment\",\n          \"Samsung Notes\"\n        ],\n        \"semantic_type\": \"\",\n        \"description\": \"\"\n      }\n    },\n    {\n      \"column\": \"description\",\n      \"properties\": {\n        \"dtype\": \"string\",\n        \"num_unique_values\": 72,\n        \"samples\": [\n          \"Settings is your device's central control panel.  It allows you to customize various aspects of your phone's functionality.  From managing network connections to adjusting display settings and security features, Settings offers extensive personalization options.  Essentially, it's where you configure your device to meet your individual needs and preferences.\\n\",\n          \"NFC, or Near Field Communication, enables contactless data transfer between devices within a few centimeters.  This technology facilitates quick, secure payments using compatible apps.  Your phone must have NFC enabled, and the payment terminal needs NFC capability as well.  Simply hold your phone near the terminal to complete the transaction.\\n\",\n          \"Samsung Notes is a note-taking app where you can create and edit text notes.  It allows you to organize notes into categories for easy access.  Deleted notes are stored in the trash for up to 15 days.  You can view all your notes or filter by category.\\n\"\n        ],\n        \"semantic_type\": \"\",\n        \"description\": \"\"\n      }\n    }\n  ]\n}"
            }
          },
          "metadata": {},
          "execution_count": 69
        }
      ],
      "source": [
        "import pandas as pd\n",
        "\n",
        "nodes_df = pd.read_csv('nodes_doc.csv')\n",
        "nodes_df = nodes_df.drop(nodes_df.columns[[0]], axis=1)\n",
        "nodes_df"
      ]
    },
    {
      "cell_type": "code",
      "execution_count": 16,
      "metadata": {
        "id": "tvLkCg2SiR8l"
      },
      "outputs": [],
      "source": [
        "!rm -rf /content/:memeory:"
      ]
    },
    {
      "cell_type": "code",
      "execution_count": 17,
      "metadata": {
        "colab": {
          "base_uri": "https://localhost:8080/"
        },
        "id": "a-e0xaqbiSqd",
        "outputId": "1ff32638-5454-4895-97fd-f0db72e51e2c"
      },
      "outputs": [
        {
          "output_type": "execute_result",
          "data": {
            "text/plain": [
              "<kuzu.query_result.QueryResult at 0x723de0bae690>"
            ]
          },
          "metadata": {},
          "execution_count": 17
        }
      ],
      "source": [
        "import kuzu\n",
        "\n",
        "kuzudb = kuzu.Database(\":memeory:\")\n",
        "ku = kuzu.Connection(kuzudb)\n",
        "\n",
        "ku_query = \"\"\"CREATE NODE TABLE MenuItem(name STRING, description STRING, PRIMARY KEY (name));\"\"\"\n",
        "ku.execute(ku_query)\n",
        "ku_query= \"\"\"CREATE REL TABLE Links (FROM MenuItem TO MenuItem);\"\"\"\n",
        "ku.execute(ku_query)\n",
        "ku_query= \"\"\"COPY MenuItem FROM nodes_df;\"\"\"\n",
        "ku.execute(ku_query)\n",
        "ku_query= \"\"\"COPY Links FROM 'edges.csv';\"\"\"\n",
        "ku_query= \"\"\"\n",
        "COPY LINKS FROM 'edges.csv' (header=true);\n",
        "\"\"\"\n",
        "ku.execute(ku_query)"
      ]
    },
    {
      "cell_type": "code",
      "execution_count": 73,
      "metadata": {
        "colab": {
          "base_uri": "https://localhost:8080/"
        },
        "id": "HDh8DyIRinK9",
        "outputId": "cf97d66b-99eb-48ba-cc2d-29ee38e4e775"
      },
      "outputs": [
        {
          "output_type": "execute_result",
          "data": {
            "text/plain": [
              "{'_nodes': [{'_id': {'offset': 0, 'table': 0},\n",
              "   '_label': 'MenuItem',\n",
              "   'name': 'Apps',\n",
              "   'description': '\"Apps\" is a menu providing access to your device\\'s applications.  It allows you to manage installed apps, create folders to organize them, and potentially update or delete them.  You can also set default apps for various categories.  The \"Apps\" menu is a central hub for all your device\\'s software.\\n'},\n",
              "  {'_id': {'offset': 1, 'table': 0},\n",
              "   '_label': 'MenuItem',\n",
              "   'name': 'Samsung apps',\n",
              "   'description': 'Samsung apps is a collection of pre-installed applications on Samsung devices.  These apps offer various functionalities, from managing contacts and emails to taking photos and browsing the web.  They include tools like Samsung Notes, Samsung Internet, and Samsung Pay.  These apps provide a convenient and integrated user experience within the Samsung ecosystem.\\n'},\n",
              "  {'_id': {'offset': 2, 'table': 0},\n",
              "   '_label': 'MenuItem',\n",
              "   'name': 'Camera',\n",
              "   'description': \"The Camera feature lets you take photos and videos.  Access advanced settings through the main camera screen's icons and a dedicated settings menu.  Customize video recording with options like HEVC and HDR10+ for enhanced quality and efficiency.  Additional settings control storage location and shutter sound.\\n\"},\n",
              "  {'_id': {'offset': 45, 'table': 0},\n",
              "   '_label': 'MenuItem',\n",
              "   'name': 'Super steady',\n",
              "   'description': \"Super steady is a video stabilization feature that smooths out shaky footage.  It uses advanced algorithms to create professional-looking video, even when recording with significant movement.  However, it's incompatible with certain other features like Zoom-in mic and Slow motion.  For best results, use Super steady when recording with the rear camera and without Live focus video.\\n\"}],\n",
              " '_rels': [{'_src': {'offset': 0, 'table': 0},\n",
              "   '_dst': {'offset': 1, 'table': 0},\n",
              "   '_label': 'Links',\n",
              "   '_id': {'offset': 0, 'table': 1}},\n",
              "  {'_src': {'offset': 1, 'table': 0},\n",
              "   '_dst': {'offset': 2, 'table': 0},\n",
              "   '_label': 'Links',\n",
              "   '_id': {'offset': 1, 'table': 1}},\n",
              "  {'_src': {'offset': 2, 'table': 0},\n",
              "   '_dst': {'offset': 45, 'table': 0},\n",
              "   '_label': 'Links',\n",
              "   '_id': {'offset': 61, 'table': 1}}]}"
            ]
          },
          "metadata": {},
          "execution_count": 73
        }
      ],
      "source": [
        "# Shortest Path\n",
        "query = \"\"\"\n",
        "MATCH p = (a:MenuItem)-[:Links* SHORTEST 1..4]->(b:MenuItem)\n",
        "WHERE b.name = 'Super steady'\n",
        "RETURN p\n",
        "\"\"\"\n",
        "\n",
        "res = ku.execute(query)\n",
        "res.get_as_df()[\"p\"][0]"
      ]
    },
    {
      "cell_type": "code",
      "execution_count": null,
      "metadata": {
        "id": "Gvn659zAEkPb"
      },
      "outputs": [],
      "source": [
        "# 1. Auto generating test Case from User Journey,\n",
        "  # 1.1 By Graph Traversal\n",
        "  # 1.2 Persona Based\n",
        "# 2. Auto generating test Case from an Support Ticket"
      ]
    },
    {
      "cell_type": "markdown",
      "metadata": {
        "id": "S1vyRL9KrrdK"
      },
      "source": [
        "# SLM\n",
        "\n",
        "Decoder only model, as its an classification task"
      ]
    },
    {
      "cell_type": "markdown",
      "metadata": {
        "id": "H5f4UsysnsDj"
      },
      "source": [
        "### Traditional RAG with Similarity Search Fails"
      ]
    },
    {
      "cell_type": "code",
      "execution_count": 19,
      "metadata": {
        "id": "eS1P2CqdN1ZR",
        "colab": {
          "base_uri": "https://localhost:8080/"
        },
        "outputId": "cba6cc72-6e9d-4e08-9dbb-9201c9a6bea2"
      },
      "outputs": [
        {
          "output_type": "stream",
          "name": "stdout",
          "text": [
            "Collecting chromadb\n",
            "  Downloading chromadb-1.0.6-cp39-abi3-manylinux_2_17_x86_64.manylinux2014_x86_64.whl.metadata (6.9 kB)\n",
            "Collecting chromadbx\n",
            "  Downloading chromadbx-0.1.0-py3-none-any.whl.metadata (6.2 kB)\n",
            "Collecting build>=1.0.3 (from chromadb)\n",
            "  Downloading build-1.2.2.post1-py3-none-any.whl.metadata (6.5 kB)\n",
            "Requirement already satisfied: pydantic>=1.9 in /usr/local/lib/python3.11/dist-packages (from chromadb) (2.11.3)\n",
            "Collecting chroma-hnswlib==0.7.6 (from chromadb)\n",
            "  Downloading chroma_hnswlib-0.7.6-cp311-cp311-manylinux_2_17_x86_64.manylinux2014_x86_64.whl.metadata (252 bytes)\n",
            "Collecting fastapi==0.115.9 (from chromadb)\n",
            "  Downloading fastapi-0.115.9-py3-none-any.whl.metadata (27 kB)\n",
            "Collecting uvicorn>=0.18.3 (from uvicorn[standard]>=0.18.3->chromadb)\n",
            "  Downloading uvicorn-0.34.2-py3-none-any.whl.metadata (6.5 kB)\n",
            "Requirement already satisfied: numpy>=1.22.5 in /usr/local/lib/python3.11/dist-packages (from chromadb) (2.0.2)\n",
            "Collecting posthog>=2.4.0 (from chromadb)\n",
            "  Downloading posthog-3.25.0-py2.py3-none-any.whl.metadata (3.0 kB)\n",
            "Requirement already satisfied: typing-extensions>=4.5.0 in /usr/local/lib/python3.11/dist-packages (from chromadb) (4.13.2)\n",
            "Collecting onnxruntime>=1.14.1 (from chromadb)\n",
            "  Downloading onnxruntime-1.21.1-cp311-cp311-manylinux_2_27_x86_64.manylinux_2_28_x86_64.whl.metadata (4.5 kB)\n",
            "Requirement already satisfied: opentelemetry-api>=1.2.0 in /usr/local/lib/python3.11/dist-packages (from chromadb) (1.32.1)\n",
            "Collecting opentelemetry-exporter-otlp-proto-grpc>=1.2.0 (from chromadb)\n",
            "  Downloading opentelemetry_exporter_otlp_proto_grpc-1.32.1-py3-none-any.whl.metadata (2.5 kB)\n",
            "Collecting opentelemetry-instrumentation-fastapi>=0.41b0 (from chromadb)\n",
            "  Downloading opentelemetry_instrumentation_fastapi-0.53b1-py3-none-any.whl.metadata (2.2 kB)\n",
            "Requirement already satisfied: opentelemetry-sdk>=1.2.0 in /usr/local/lib/python3.11/dist-packages (from chromadb) (1.32.1)\n",
            "Requirement already satisfied: tokenizers>=0.13.2 in /usr/local/lib/python3.11/dist-packages (from chromadb) (0.21.1)\n",
            "Collecting pypika>=0.48.9 (from chromadb)\n",
            "  Downloading PyPika-0.48.9.tar.gz (67 kB)\n",
            "\u001b[2K     \u001b[90m━━━━━━━━━━━━━━━━━━━━━━━━━━━━━━━━━━━━━━━━\u001b[0m \u001b[32m67.3/67.3 kB\u001b[0m \u001b[31m4.9 MB/s\u001b[0m eta \u001b[36m0:00:00\u001b[0m\n",
            "\u001b[?25h  Installing build dependencies ... \u001b[?25l\u001b[?25hdone\n",
            "  Getting requirements to build wheel ... \u001b[?25l\u001b[?25hdone\n",
            "  Preparing metadata (pyproject.toml) ... \u001b[?25l\u001b[?25hdone\n",
            "Requirement already satisfied: tqdm>=4.65.0 in /usr/local/lib/python3.11/dist-packages (from chromadb) (4.67.1)\n",
            "Collecting overrides>=7.3.1 (from chromadb)\n",
            "  Downloading overrides-7.7.0-py3-none-any.whl.metadata (5.8 kB)\n",
            "Requirement already satisfied: importlib-resources in /usr/local/lib/python3.11/dist-packages (from chromadb) (6.5.2)\n",
            "Requirement already satisfied: grpcio>=1.58.0 in /usr/local/lib/python3.11/dist-packages (from chromadb) (1.71.0)\n",
            "Collecting bcrypt>=4.0.1 (from chromadb)\n",
            "  Downloading bcrypt-4.3.0-cp39-abi3-manylinux_2_34_x86_64.whl.metadata (10 kB)\n",
            "Requirement already satisfied: typer>=0.9.0 in /usr/local/lib/python3.11/dist-packages (from chromadb) (0.15.2)\n",
            "Collecting kubernetes>=28.1.0 (from chromadb)\n",
            "  Downloading kubernetes-32.0.1-py2.py3-none-any.whl.metadata (1.7 kB)\n",
            "Requirement already satisfied: tenacity>=8.2.3 in /usr/local/lib/python3.11/dist-packages (from chromadb) (9.1.2)\n",
            "Requirement already satisfied: pyyaml>=6.0.0 in /usr/local/lib/python3.11/dist-packages (from chromadb) (6.0.2)\n",
            "Collecting mmh3>=4.0.1 (from chromadb)\n",
            "  Downloading mmh3-5.1.0-cp311-cp311-manylinux_2_5_x86_64.manylinux1_x86_64.manylinux_2_17_x86_64.manylinux2014_x86_64.whl.metadata (16 kB)\n",
            "Requirement already satisfied: orjson>=3.9.12 in /usr/local/lib/python3.11/dist-packages (from chromadb) (3.10.16)\n",
            "Requirement already satisfied: httpx>=0.27.0 in /usr/local/lib/python3.11/dist-packages (from chromadb) (0.28.1)\n",
            "Requirement already satisfied: rich>=10.11.0 in /usr/local/lib/python3.11/dist-packages (from chromadb) (13.9.4)\n",
            "Requirement already satisfied: jsonschema>=4.19.0 in /usr/local/lib/python3.11/dist-packages (from chromadb) (4.23.0)\n",
            "Collecting starlette<0.46.0,>=0.40.0 (from fastapi==0.115.9->chromadb)\n",
            "  Downloading starlette-0.45.3-py3-none-any.whl.metadata (6.3 kB)\n",
            "Collecting httpx>=0.27.0 (from chromadb)\n",
            "  Downloading httpx-0.27.2-py3-none-any.whl.metadata (7.1 kB)\n",
            "Requirement already satisfied: packaging>=19.1 in /usr/local/lib/python3.11/dist-packages (from build>=1.0.3->chromadb) (24.2)\n",
            "Collecting pyproject_hooks (from build>=1.0.3->chromadb)\n",
            "  Downloading pyproject_hooks-1.2.0-py3-none-any.whl.metadata (1.3 kB)\n",
            "Requirement already satisfied: anyio in /usr/local/lib/python3.11/dist-packages (from httpx>=0.27.0->chromadb) (4.9.0)\n",
            "Requirement already satisfied: certifi in /usr/local/lib/python3.11/dist-packages (from httpx>=0.27.0->chromadb) (2025.1.31)\n",
            "Requirement already satisfied: httpcore==1.* in /usr/local/lib/python3.11/dist-packages (from httpx>=0.27.0->chromadb) (1.0.8)\n",
            "Requirement already satisfied: idna in /usr/local/lib/python3.11/dist-packages (from httpx>=0.27.0->chromadb) (3.10)\n",
            "Requirement already satisfied: sniffio in /usr/local/lib/python3.11/dist-packages (from httpx>=0.27.0->chromadb) (1.3.1)\n",
            "Requirement already satisfied: h11<0.15,>=0.13 in /usr/local/lib/python3.11/dist-packages (from httpcore==1.*->httpx>=0.27.0->chromadb) (0.14.0)\n",
            "Requirement already satisfied: attrs>=22.2.0 in /usr/local/lib/python3.11/dist-packages (from jsonschema>=4.19.0->chromadb) (25.3.0)\n",
            "Requirement already satisfied: jsonschema-specifications>=2023.03.6 in /usr/local/lib/python3.11/dist-packages (from jsonschema>=4.19.0->chromadb) (2024.10.1)\n",
            "Requirement already satisfied: referencing>=0.28.4 in /usr/local/lib/python3.11/dist-packages (from jsonschema>=4.19.0->chromadb) (0.36.2)\n",
            "Requirement already satisfied: rpds-py>=0.7.1 in /usr/local/lib/python3.11/dist-packages (from jsonschema>=4.19.0->chromadb) (0.24.0)\n",
            "Requirement already satisfied: six>=1.9.0 in /usr/local/lib/python3.11/dist-packages (from kubernetes>=28.1.0->chromadb) (1.17.0)\n",
            "Requirement already satisfied: python-dateutil>=2.5.3 in /usr/local/lib/python3.11/dist-packages (from kubernetes>=28.1.0->chromadb) (2.8.2)\n",
            "Requirement already satisfied: google-auth>=1.0.1 in /usr/local/lib/python3.11/dist-packages (from kubernetes>=28.1.0->chromadb) (2.38.0)\n",
            "Requirement already satisfied: websocket-client!=0.40.0,!=0.41.*,!=0.42.*,>=0.32.0 in /usr/local/lib/python3.11/dist-packages (from kubernetes>=28.1.0->chromadb) (1.8.0)\n",
            "Requirement already satisfied: requests in /usr/local/lib/python3.11/dist-packages (from kubernetes>=28.1.0->chromadb) (2.32.3)\n",
            "Requirement already satisfied: requests-oauthlib in /usr/local/lib/python3.11/dist-packages (from kubernetes>=28.1.0->chromadb) (2.0.0)\n",
            "Requirement already satisfied: oauthlib>=3.2.2 in /usr/local/lib/python3.11/dist-packages (from kubernetes>=28.1.0->chromadb) (3.2.2)\n",
            "Requirement already satisfied: urllib3>=1.24.2 in /usr/local/lib/python3.11/dist-packages (from kubernetes>=28.1.0->chromadb) (2.3.0)\n",
            "Collecting durationpy>=0.7 (from kubernetes>=28.1.0->chromadb)\n",
            "  Downloading durationpy-0.9-py3-none-any.whl.metadata (338 bytes)\n",
            "Collecting coloredlogs (from onnxruntime>=1.14.1->chromadb)\n",
            "  Downloading coloredlogs-15.0.1-py2.py3-none-any.whl.metadata (12 kB)\n",
            "Requirement already satisfied: flatbuffers in /usr/local/lib/python3.11/dist-packages (from onnxruntime>=1.14.1->chromadb) (25.2.10)\n",
            "Requirement already satisfied: protobuf in /usr/local/lib/python3.11/dist-packages (from onnxruntime>=1.14.1->chromadb) (5.29.4)\n",
            "Requirement already satisfied: sympy in /usr/local/lib/python3.11/dist-packages (from onnxruntime>=1.14.1->chromadb) (1.13.1)\n",
            "Requirement already satisfied: deprecated>=1.2.6 in /usr/local/lib/python3.11/dist-packages (from opentelemetry-api>=1.2.0->chromadb) (1.2.18)\n",
            "Requirement already satisfied: importlib-metadata<8.7.0,>=6.0 in /usr/local/lib/python3.11/dist-packages (from opentelemetry-api>=1.2.0->chromadb) (8.6.1)\n",
            "Requirement already satisfied: googleapis-common-protos~=1.52 in /usr/local/lib/python3.11/dist-packages (from opentelemetry-exporter-otlp-proto-grpc>=1.2.0->chromadb) (1.70.0)\n",
            "Collecting opentelemetry-exporter-otlp-proto-common==1.32.1 (from opentelemetry-exporter-otlp-proto-grpc>=1.2.0->chromadb)\n",
            "  Downloading opentelemetry_exporter_otlp_proto_common-1.32.1-py3-none-any.whl.metadata (1.9 kB)\n",
            "Collecting opentelemetry-proto==1.32.1 (from opentelemetry-exporter-otlp-proto-grpc>=1.2.0->chromadb)\n",
            "  Downloading opentelemetry_proto-1.32.1-py3-none-any.whl.metadata (2.4 kB)\n",
            "Collecting opentelemetry-instrumentation-asgi==0.53b1 (from opentelemetry-instrumentation-fastapi>=0.41b0->chromadb)\n",
            "  Downloading opentelemetry_instrumentation_asgi-0.53b1-py3-none-any.whl.metadata (2.1 kB)\n",
            "Collecting opentelemetry-instrumentation==0.53b1 (from opentelemetry-instrumentation-fastapi>=0.41b0->chromadb)\n",
            "  Downloading opentelemetry_instrumentation-0.53b1-py3-none-any.whl.metadata (6.8 kB)\n",
            "Requirement already satisfied: opentelemetry-semantic-conventions==0.53b1 in /usr/local/lib/python3.11/dist-packages (from opentelemetry-instrumentation-fastapi>=0.41b0->chromadb) (0.53b1)\n",
            "Collecting opentelemetry-util-http==0.53b1 (from opentelemetry-instrumentation-fastapi>=0.41b0->chromadb)\n",
            "  Downloading opentelemetry_util_http-0.53b1-py3-none-any.whl.metadata (2.6 kB)\n",
            "Requirement already satisfied: wrapt<2.0.0,>=1.0.0 in /usr/local/lib/python3.11/dist-packages (from opentelemetry-instrumentation==0.53b1->opentelemetry-instrumentation-fastapi>=0.41b0->chromadb) (1.17.2)\n",
            "Collecting asgiref~=3.0 (from opentelemetry-instrumentation-asgi==0.53b1->opentelemetry-instrumentation-fastapi>=0.41b0->chromadb)\n",
            "  Downloading asgiref-3.8.1-py3-none-any.whl.metadata (9.3 kB)\n",
            "Collecting monotonic>=1.5 (from posthog>=2.4.0->chromadb)\n",
            "  Downloading monotonic-1.6-py2.py3-none-any.whl.metadata (1.5 kB)\n",
            "Collecting backoff>=1.10.0 (from posthog>=2.4.0->chromadb)\n",
            "  Downloading backoff-2.2.1-py3-none-any.whl.metadata (14 kB)\n",
            "Requirement already satisfied: distro>=1.5.0 in /usr/local/lib/python3.11/dist-packages (from posthog>=2.4.0->chromadb) (1.9.0)\n",
            "Requirement already satisfied: annotated-types>=0.6.0 in /usr/local/lib/python3.11/dist-packages (from pydantic>=1.9->chromadb) (0.7.0)\n",
            "Requirement already satisfied: pydantic-core==2.33.1 in /usr/local/lib/python3.11/dist-packages (from pydantic>=1.9->chromadb) (2.33.1)\n",
            "Requirement already satisfied: typing-inspection>=0.4.0 in /usr/local/lib/python3.11/dist-packages (from pydantic>=1.9->chromadb) (0.4.0)\n",
            "Requirement already satisfied: markdown-it-py>=2.2.0 in /usr/local/lib/python3.11/dist-packages (from rich>=10.11.0->chromadb) (3.0.0)\n",
            "Requirement already satisfied: pygments<3.0.0,>=2.13.0 in /usr/local/lib/python3.11/dist-packages (from rich>=10.11.0->chromadb) (2.18.0)\n",
            "Requirement already satisfied: huggingface-hub<1.0,>=0.16.4 in /usr/local/lib/python3.11/dist-packages (from tokenizers>=0.13.2->chromadb) (0.30.2)\n",
            "Requirement already satisfied: click>=8.0.0 in /usr/local/lib/python3.11/dist-packages (from typer>=0.9.0->chromadb) (8.1.8)\n",
            "Requirement already satisfied: shellingham>=1.3.0 in /usr/local/lib/python3.11/dist-packages (from typer>=0.9.0->chromadb) (1.5.4)\n",
            "Collecting httptools>=0.6.3 (from uvicorn[standard]>=0.18.3->chromadb)\n",
            "  Downloading httptools-0.6.4-cp311-cp311-manylinux_2_5_x86_64.manylinux1_x86_64.manylinux_2_17_x86_64.manylinux2014_x86_64.whl.metadata (3.6 kB)\n",
            "Collecting python-dotenv>=0.13 (from uvicorn[standard]>=0.18.3->chromadb)\n",
            "  Downloading python_dotenv-1.1.0-py3-none-any.whl.metadata (24 kB)\n",
            "Collecting uvloop!=0.15.0,!=0.15.1,>=0.14.0 (from uvicorn[standard]>=0.18.3->chromadb)\n",
            "  Downloading uvloop-0.21.0-cp311-cp311-manylinux_2_17_x86_64.manylinux2014_x86_64.whl.metadata (4.9 kB)\n",
            "Collecting watchfiles>=0.13 (from uvicorn[standard]>=0.18.3->chromadb)\n",
            "  Downloading watchfiles-1.0.5-cp311-cp311-manylinux_2_17_x86_64.manylinux2014_x86_64.whl.metadata (4.9 kB)\n",
            "Requirement already satisfied: websockets>=10.4 in /usr/local/lib/python3.11/dist-packages (from uvicorn[standard]>=0.18.3->chromadb) (15.0.1)\n",
            "Requirement already satisfied: cachetools<6.0,>=2.0.0 in /usr/local/lib/python3.11/dist-packages (from google-auth>=1.0.1->kubernetes>=28.1.0->chromadb) (5.5.2)\n",
            "Requirement already satisfied: pyasn1-modules>=0.2.1 in /usr/local/lib/python3.11/dist-packages (from google-auth>=1.0.1->kubernetes>=28.1.0->chromadb) (0.4.2)\n",
            "Requirement already satisfied: rsa<5,>=3.1.4 in /usr/local/lib/python3.11/dist-packages (from google-auth>=1.0.1->kubernetes>=28.1.0->chromadb) (4.9.1)\n",
            "Requirement already satisfied: filelock in /usr/local/lib/python3.11/dist-packages (from huggingface-hub<1.0,>=0.16.4->tokenizers>=0.13.2->chromadb) (3.18.0)\n",
            "Requirement already satisfied: fsspec>=2023.5.0 in /usr/local/lib/python3.11/dist-packages (from huggingface-hub<1.0,>=0.16.4->tokenizers>=0.13.2->chromadb) (2025.3.2)\n",
            "Requirement already satisfied: zipp>=3.20 in /usr/local/lib/python3.11/dist-packages (from importlib-metadata<8.7.0,>=6.0->opentelemetry-api>=1.2.0->chromadb) (3.21.0)\n",
            "Requirement already satisfied: mdurl~=0.1 in /usr/local/lib/python3.11/dist-packages (from markdown-it-py>=2.2.0->rich>=10.11.0->chromadb) (0.1.2)\n",
            "Requirement already satisfied: charset-normalizer<4,>=2 in /usr/local/lib/python3.11/dist-packages (from requests->kubernetes>=28.1.0->chromadb) (3.4.1)\n",
            "Collecting humanfriendly>=9.1 (from coloredlogs->onnxruntime>=1.14.1->chromadb)\n",
            "  Downloading humanfriendly-10.0-py2.py3-none-any.whl.metadata (9.2 kB)\n",
            "Requirement already satisfied: mpmath<1.4,>=1.1.0 in /usr/local/lib/python3.11/dist-packages (from sympy->onnxruntime>=1.14.1->chromadb) (1.3.0)\n",
            "Requirement already satisfied: pyasn1<0.7.0,>=0.6.1 in /usr/local/lib/python3.11/dist-packages (from pyasn1-modules>=0.2.1->google-auth>=1.0.1->kubernetes>=28.1.0->chromadb) (0.6.1)\n",
            "Downloading chromadb-1.0.6-cp39-abi3-manylinux_2_17_x86_64.manylinux2014_x86_64.whl (18.3 MB)\n",
            "\u001b[2K   \u001b[90m━━━━━━━━━━━━━━━━━━━━━━━━━━━━━━━━━━━━━━━━\u001b[0m \u001b[32m18.3/18.3 MB\u001b[0m \u001b[31m54.9 MB/s\u001b[0m eta \u001b[36m0:00:00\u001b[0m\n",
            "\u001b[?25hDownloading chroma_hnswlib-0.7.6-cp311-cp311-manylinux_2_17_x86_64.manylinux2014_x86_64.whl (2.4 MB)\n",
            "\u001b[2K   \u001b[90m━━━━━━━━━━━━━━━━━━━━━━━━━━━━━━━━━━━━━━━━\u001b[0m \u001b[32m2.4/2.4 MB\u001b[0m \u001b[31m81.2 MB/s\u001b[0m eta \u001b[36m0:00:00\u001b[0m\n",
            "\u001b[?25hDownloading fastapi-0.115.9-py3-none-any.whl (94 kB)\n",
            "\u001b[2K   \u001b[90m━━━━━━━━━━━━━━━━━━━━━━━━━━━━━━━━━━━━━━━━\u001b[0m \u001b[32m94.9/94.9 kB\u001b[0m \u001b[31m7.7 MB/s\u001b[0m eta \u001b[36m0:00:00\u001b[0m\n",
            "\u001b[?25hDownloading chromadbx-0.1.0-py3-none-any.whl (20 kB)\n",
            "Downloading bcrypt-4.3.0-cp39-abi3-manylinux_2_34_x86_64.whl (284 kB)\n",
            "\u001b[2K   \u001b[90m━━━━━━━━━━━━━━━━━━━━━━━━━━━━━━━━━━━━━━━━\u001b[0m \u001b[32m284.2/284.2 kB\u001b[0m \u001b[31m18.4 MB/s\u001b[0m eta \u001b[36m0:00:00\u001b[0m\n",
            "\u001b[?25hDownloading build-1.2.2.post1-py3-none-any.whl (22 kB)\n",
            "Downloading httpx-0.27.2-py3-none-any.whl (76 kB)\n",
            "\u001b[2K   \u001b[90m━━━━━━━━━━━━━━━━━━━━━━━━━━━━━━━━━━━━━━━━\u001b[0m \u001b[32m76.4/76.4 kB\u001b[0m \u001b[31m5.4 MB/s\u001b[0m eta \u001b[36m0:00:00\u001b[0m\n",
            "\u001b[?25hDownloading kubernetes-32.0.1-py2.py3-none-any.whl (2.0 MB)\n",
            "\u001b[2K   \u001b[90m━━━━━━━━━━━━━━━━━━━━━━━━━━━━━━━━━━━━━━━━\u001b[0m \u001b[32m2.0/2.0 MB\u001b[0m \u001b[31m69.5 MB/s\u001b[0m eta \u001b[36m0:00:00\u001b[0m\n",
            "\u001b[?25hDownloading mmh3-5.1.0-cp311-cp311-manylinux_2_5_x86_64.manylinux1_x86_64.manylinux_2_17_x86_64.manylinux2014_x86_64.whl (101 kB)\n",
            "\u001b[2K   \u001b[90m━━━━━━━━━━━━━━━━━━━━━━━━━━━━━━━━━━━━━━━━\u001b[0m \u001b[32m101.6/101.6 kB\u001b[0m \u001b[31m7.3 MB/s\u001b[0m eta \u001b[36m0:00:00\u001b[0m\n",
            "\u001b[?25hDownloading onnxruntime-1.21.1-cp311-cp311-manylinux_2_27_x86_64.manylinux_2_28_x86_64.whl (16.0 MB)\n",
            "\u001b[2K   \u001b[90m━━━━━━━━━━━━━━━━━━━━━━━━━━━━━━━━━━━━━━━━\u001b[0m \u001b[32m16.0/16.0 MB\u001b[0m \u001b[31m62.4 MB/s\u001b[0m eta \u001b[36m0:00:00\u001b[0m\n",
            "\u001b[?25hDownloading opentelemetry_exporter_otlp_proto_grpc-1.32.1-py3-none-any.whl (18 kB)\n",
            "Downloading opentelemetry_exporter_otlp_proto_common-1.32.1-py3-none-any.whl (18 kB)\n",
            "Downloading opentelemetry_proto-1.32.1-py3-none-any.whl (55 kB)\n",
            "\u001b[2K   \u001b[90m━━━━━━━━━━━━━━━━━━━━━━━━━━━━━━━━━━━━━━━━\u001b[0m \u001b[32m55.9/55.9 kB\u001b[0m \u001b[31m4.1 MB/s\u001b[0m eta \u001b[36m0:00:00\u001b[0m\n",
            "\u001b[?25hDownloading opentelemetry_instrumentation_fastapi-0.53b1-py3-none-any.whl (12 kB)\n",
            "Downloading opentelemetry_instrumentation-0.53b1-py3-none-any.whl (30 kB)\n",
            "Downloading opentelemetry_instrumentation_asgi-0.53b1-py3-none-any.whl (16 kB)\n",
            "Downloading opentelemetry_util_http-0.53b1-py3-none-any.whl (7.3 kB)\n",
            "Downloading overrides-7.7.0-py3-none-any.whl (17 kB)\n",
            "Downloading posthog-3.25.0-py2.py3-none-any.whl (89 kB)\n",
            "\u001b[2K   \u001b[90m━━━━━━━━━━━━━━━━━━━━━━━━━━━━━━━━━━━━━━━━\u001b[0m \u001b[32m89.1/89.1 kB\u001b[0m \u001b[31m6.3 MB/s\u001b[0m eta \u001b[36m0:00:00\u001b[0m\n",
            "\u001b[?25hDownloading uvicorn-0.34.2-py3-none-any.whl (62 kB)\n",
            "\u001b[2K   \u001b[90m━━━━━━━━━━━━━━━━━━━━━━━━━━━━━━━━━━━━━━━━\u001b[0m \u001b[32m62.5/62.5 kB\u001b[0m \u001b[31m4.6 MB/s\u001b[0m eta \u001b[36m0:00:00\u001b[0m\n",
            "\u001b[?25hDownloading backoff-2.2.1-py3-none-any.whl (15 kB)\n",
            "Downloading durationpy-0.9-py3-none-any.whl (3.5 kB)\n",
            "Downloading httptools-0.6.4-cp311-cp311-manylinux_2_5_x86_64.manylinux1_x86_64.manylinux_2_17_x86_64.manylinux2014_x86_64.whl (459 kB)\n",
            "\u001b[2K   \u001b[90m━━━━━━━━━━━━━━━━━━━━━━━━━━━━━━━━━━━━━━━━\u001b[0m \u001b[32m459.8/459.8 kB\u001b[0m \u001b[31m23.9 MB/s\u001b[0m eta \u001b[36m0:00:00\u001b[0m\n",
            "\u001b[?25hDownloading monotonic-1.6-py2.py3-none-any.whl (8.2 kB)\n",
            "Downloading python_dotenv-1.1.0-py3-none-any.whl (20 kB)\n",
            "Downloading starlette-0.45.3-py3-none-any.whl (71 kB)\n",
            "\u001b[2K   \u001b[90m━━━━━━━━━━━━━━━━━━━━━━━━━━━━━━━━━━━━━━━━\u001b[0m \u001b[32m71.5/71.5 kB\u001b[0m \u001b[31m5.2 MB/s\u001b[0m eta \u001b[36m0:00:00\u001b[0m\n",
            "\u001b[?25hDownloading uvloop-0.21.0-cp311-cp311-manylinux_2_17_x86_64.manylinux2014_x86_64.whl (4.0 MB)\n",
            "\u001b[2K   \u001b[90m━━━━━━━━━━━━━━━━━━━━━━━━━━━━━━━━━━━━━━━━\u001b[0m \u001b[32m4.0/4.0 MB\u001b[0m \u001b[31m49.3 MB/s\u001b[0m eta \u001b[36m0:00:00\u001b[0m\n",
            "\u001b[?25hDownloading watchfiles-1.0.5-cp311-cp311-manylinux_2_17_x86_64.manylinux2014_x86_64.whl (454 kB)\n",
            "\u001b[2K   \u001b[90m━━━━━━━━━━━━━━━━━━━━━━━━━━━━━━━━━━━━━━━━\u001b[0m \u001b[32m454.8/454.8 kB\u001b[0m \u001b[31m2.3 MB/s\u001b[0m eta \u001b[36m0:00:00\u001b[0m\n",
            "\u001b[?25hDownloading coloredlogs-15.0.1-py2.py3-none-any.whl (46 kB)\n",
            "\u001b[2K   \u001b[90m━━━━━━━━━━━━━━━━━━━━━━━━━━━━━━━━━━━━━━━━\u001b[0m \u001b[32m46.0/46.0 kB\u001b[0m \u001b[31m2.9 MB/s\u001b[0m eta \u001b[36m0:00:00\u001b[0m\n",
            "\u001b[?25hDownloading pyproject_hooks-1.2.0-py3-none-any.whl (10 kB)\n",
            "Downloading asgiref-3.8.1-py3-none-any.whl (23 kB)\n",
            "Downloading humanfriendly-10.0-py2.py3-none-any.whl (86 kB)\n",
            "\u001b[2K   \u001b[90m━━━━━━━━━━━━━━━━━━━━━━━━━━━━━━━━━━━━━━━━\u001b[0m \u001b[32m86.8/86.8 kB\u001b[0m \u001b[31m6.3 MB/s\u001b[0m eta \u001b[36m0:00:00\u001b[0m\n",
            "\u001b[?25hBuilding wheels for collected packages: pypika\n",
            "  Building wheel for pypika (pyproject.toml) ... \u001b[?25l\u001b[?25hdone\n",
            "  Created wheel for pypika: filename=pypika-0.48.9-py2.py3-none-any.whl size=53801 sha256=b1f3f94c05156aa4b38318fb93adfb31540683938dc2dcaf9197bc116976980c\n",
            "  Stored in directory: /root/.cache/pip/wheels/a3/01/bd/4c40ceb9d5354160cb186dcc153360f4ab7eb23e2b24daf96d\n",
            "Successfully built pypika\n",
            "Installing collected packages: pypika, monotonic, durationpy, uvloop, uvicorn, python-dotenv, pyproject_hooks, overrides, opentelemetry-util-http, opentelemetry-proto, mmh3, humanfriendly, httptools, chroma-hnswlib, bcrypt, backoff, asgiref, watchfiles, starlette, posthog, opentelemetry-exporter-otlp-proto-common, httpx, coloredlogs, build, onnxruntime, kubernetes, fastapi, chromadbx, opentelemetry-instrumentation, opentelemetry-instrumentation-asgi, opentelemetry-exporter-otlp-proto-grpc, opentelemetry-instrumentation-fastapi, chromadb\n",
            "  Attempting uninstall: httpx\n",
            "    Found existing installation: httpx 0.28.1\n",
            "    Uninstalling httpx-0.28.1:\n",
            "      Successfully uninstalled httpx-0.28.1\n",
            "\u001b[31mERROR: pip's dependency resolver does not currently take into account all the packages that are installed. This behaviour is the source of the following dependency conflicts.\n",
            "google-genai 1.10.0 requires httpx<1.0.0,>=0.28.1, but you have httpx 0.27.2 which is incompatible.\u001b[0m\u001b[31m\n",
            "\u001b[0mSuccessfully installed asgiref-3.8.1 backoff-2.2.1 bcrypt-4.3.0 build-1.2.2.post1 chroma-hnswlib-0.7.6 chromadb-1.0.6 chromadbx-0.1.0 coloredlogs-15.0.1 durationpy-0.9 fastapi-0.115.9 httptools-0.6.4 httpx-0.27.2 humanfriendly-10.0 kubernetes-32.0.1 mmh3-5.1.0 monotonic-1.6 onnxruntime-1.21.1 opentelemetry-exporter-otlp-proto-common-1.32.1 opentelemetry-exporter-otlp-proto-grpc-1.32.1 opentelemetry-instrumentation-0.53b1 opentelemetry-instrumentation-asgi-0.53b1 opentelemetry-instrumentation-fastapi-0.53b1 opentelemetry-proto-1.32.1 opentelemetry-util-http-0.53b1 overrides-7.7.0 posthog-3.25.0 pypika-0.48.9 pyproject_hooks-1.2.0 python-dotenv-1.1.0 starlette-0.45.3 uvicorn-0.34.2 uvloop-0.21.0 watchfiles-1.0.5\n"
          ]
        }
      ],
      "source": [
        "! pip install chromadb chromadbx"
      ]
    },
    {
      "cell_type": "code",
      "execution_count": 20,
      "metadata": {
        "id": "kf3tWx5-qlOX"
      },
      "outputs": [],
      "source": [
        "import chromadb\n",
        "chroma_client = chromadb.Client()"
      ]
    },
    {
      "cell_type": "code",
      "execution_count": 21,
      "metadata": {
        "id": "9DpeUWBlmyIH"
      },
      "outputs": [],
      "source": [
        "archive_name = \"nodes_menue_items\""
      ]
    },
    {
      "cell_type": "code",
      "execution_count": 22,
      "metadata": {
        "id": "1tG2gIPTqsg9"
      },
      "outputs": [],
      "source": [
        "collection = chroma_client.create_collection(name=archive_name)"
      ]
    },
    {
      "cell_type": "code",
      "execution_count": 23,
      "metadata": {
        "id": "XFqlAd7fq0uW"
      },
      "outputs": [],
      "source": [
        "# chroma_client.delete_collection(name=archive_name)"
      ]
    },
    {
      "cell_type": "code",
      "execution_count": 24,
      "metadata": {
        "colab": {
          "base_uri": "https://localhost:8080/"
        },
        "id": "L2VVBibDq4Hr",
        "outputId": "5b574399-afd2-41bb-e09d-fa1b11165467"
      },
      "outputs": [
        {
          "output_type": "stream",
          "name": "stderr",
          "text": [
            "/root/.cache/chroma/onnx_models/all-MiniLM-L6-v2/onnx.tar.gz: 100%|██████████| 79.3M/79.3M [00:02<00:00, 37.3MiB/s]\n"
          ]
        }
      ],
      "source": [
        "collection.upsert(\n",
        "    ids=list(nodes_df[\"name\"]),\n",
        "    documents=list(nodes_df[\"description\"])\n",
        ")"
      ]
    },
    {
      "cell_type": "code",
      "execution_count": 25,
      "metadata": {
        "colab": {
          "base_uri": "https://localhost:8080/"
        },
        "id": "6-aLiyiovZeb",
        "outputId": "b3d97944-8666-492c-e7e7-8527c3aa6286"
      },
      "outputs": [
        {
          "output_type": "stream",
          "name": "stderr",
          "text": [
            "<ipython-input-25-7cd92e56247e>:2: SettingWithCopyWarning: \n",
            "A value is trying to be set on a copy of a slice from a DataFrame.\n",
            "Try using .loc[row_indexer,col_indexer] = value instead\n",
            "\n",
            "See the caveats in the documentation: https://pandas.pydata.org/pandas-docs/stable/user_guide/indexing.html#returning-a-view-versus-a-copy\n",
            "  menu_items_dataset [\"answer\"]  = menu_items_dataset [\"section_path\"].apply(lambda x: x.split(\">\")[-1])\n"
          ]
        }
      ],
      "source": [
        "menu_items_dataset = s10[[\"question\",\"section_path\"]]\n",
        "menu_items_dataset [\"answer\"]  = menu_items_dataset [\"section_path\"].apply(lambda x: x.split(\">\")[-1])\n",
        "menu_items_dataset.to_csv(\"menu_items_dataset.csv\")"
      ]
    },
    {
      "cell_type": "code",
      "execution_count": 26,
      "metadata": {
        "colab": {
          "base_uri": "https://localhost:8080/"
        },
        "id": "p3ifUP7Vvfei",
        "outputId": "d2af09aa-5499-4ef6-cdae-68bb565f7007"
      },
      "outputs": [
        {
          "output_type": "execute_result",
          "data": {
            "text/plain": [
              "50"
            ]
          },
          "metadata": {},
          "execution_count": 26
        }
      ],
      "source": [
        "len(menu_items_dataset)"
      ]
    },
    {
      "cell_type": "code",
      "execution_count": 27,
      "metadata": {
        "colab": {
          "base_uri": "https://localhost:8080/"
        },
        "id": "vMEYXcY_wfgH",
        "outputId": "848976ab-5889-4f9a-9899-e83763164465"
      },
      "outputs": [
        {
          "output_type": "execute_result",
          "data": {
            "text/plain": [
              "['What are the advanced recording options available in my device camera?',\n",
              " 'How can I turn on the GPS ?',\n",
              " 'How to apply custom themes for AOD?',\n",
              " 'How can I show notifications on always display?',\n",
              " 'How can I use time zone converter?']"
            ]
          },
          "metadata": {},
          "execution_count": 27
        }
      ],
      "source": [
        "queries = list(menu_items_dataset['question']) [0:5]\n",
        "answers = list(menu_items_dataset['answer']) [0:5]\n",
        "queries"
      ]
    },
    {
      "cell_type": "code",
      "execution_count": 28,
      "metadata": {
        "colab": {
          "base_uri": "https://localhost:8080/"
        },
        "id": "zHHGPJ4BrlSO",
        "outputId": "28932725-c1be-4157-84c8-736f6d2940bb"
      },
      "outputs": [
        {
          "output_type": "stream",
          "name": "stdout",
          "text": [
            "['Camera']\n",
            "['Location']\n",
            "['AOD themes']\n",
            "['View the Notification panel']\n",
            "['Time zone converter']\n"
          ]
        }
      ],
      "source": [
        "results = collection.query(\n",
        "    query_texts= queries,\n",
        "    n_results=1,\n",
        ")\n",
        "for m in results[\"ids\"]:\n",
        "  print(m)"
      ]
    },
    {
      "cell_type": "code",
      "execution_count": 29,
      "metadata": {
        "colab": {
          "base_uri": "https://localhost:8080/"
        },
        "id": "e8aU8CrEvuY2",
        "outputId": "43fbd9bc-6eb4-43fb-bc3d-47c5fd099638"
      },
      "outputs": [
        {
          "output_type": "execute_result",
          "data": {
            "text/plain": [
              "['Camera settings',\n",
              " 'Location',\n",
              " 'AOD themes',\n",
              " 'Clock and information',\n",
              " 'Time zone converter']"
            ]
          },
          "metadata": {},
          "execution_count": 29
        }
      ],
      "source": [
        "answers"
      ]
    },
    {
      "cell_type": "code",
      "execution_count": 30,
      "metadata": {
        "colab": {
          "base_uri": "https://localhost:8080/"
        },
        "id": "l3Fmx1VPrYuz",
        "outputId": "8fe1337f-a673-4f87-8ac8-9e8ab85bffaa"
      },
      "outputs": [
        {
          "output_type": "stream",
          "name": "stdout",
          "text": [
            "['menu_items_dataset.csv', 'nodes_doc.csv', 's10_50_questions.csv', 'node_with_description.csv', 'edges.csv']\n"
          ]
        }
      ],
      "source": [
        "import os\n",
        "import glob\n",
        "\n",
        "path = os.getcwd()\n",
        "extension = 'csv'\n",
        "os.chdir(path)\n",
        "csv_files = glob.glob('*.{}'.format(extension))\n",
        "print(csv_files)"
      ]
    },
    {
      "cell_type": "code",
      "execution_count": null,
      "metadata": {
        "colab": {
          "base_uri": "https://localhost:8080/"
        },
        "id": "5L6sS7J5rnRb",
        "outputId": "405ca776-203e-4071-df05-a8d43ebd5d97"
      },
      "outputs": [
        {
          "name": "stdout",
          "output_type": "stream",
          "text": [
            "\n",
            "zip error: Nothing to do! (GraphRAG.zip)\n"
          ]
        }
      ],
      "source": [
        "!zip GraphRAG.zip *.csv"
      ]
    },
    {
      "cell_type": "markdown",
      "metadata": {
        "id": "6ZndRDfLnlXW"
      },
      "source": [
        "## Fine Tuning BERT\n",
        "\n",
        "\n",
        "> To predict the Destination Node of the Graph\n",
        "\n"
      ]
    },
    {
      "cell_type": "code",
      "execution_count": null,
      "metadata": {
        "colab": {
          "base_uri": "https://localhost:8080/"
        },
        "id": "ZuSohbQjsZoS",
        "outputId": "c2d52163-e9cc-4850-b013-90a9c6b5a208"
      },
      "outputs": [
        {
          "output_type": "stream",
          "name": "stdout",
          "text": [
            "Archive:  GraphRAG.zip\n",
            "replace edges.csv? [y]es, [n]o, [A]ll, [N]one, [r]ename: "
          ]
        }
      ],
      "source": [
        "!unzip GraphRAG.zip"
      ]
    },
    {
      "cell_type": "code",
      "execution_count": null,
      "metadata": {
        "id": "75Xohysmjr1P"
      },
      "outputs": [],
      "source": [
        "! rm -rf bert_usermanual_pytorch_cpu_quant_int8"
      ]
    },
    {
      "cell_type": "markdown",
      "metadata": {
        "id": "En47Nc30tFf9"
      },
      "source": [
        "## Final Node Prediction"
      ]
    },
    {
      "cell_type": "code",
      "execution_count": 31,
      "metadata": {
        "id": "clOXAXClQI2E"
      },
      "outputs": [],
      "source": [
        "label_map = {'0': 'Remove an account',\n",
        " '1': 'Time zone converter',\n",
        " '2': 'Notification sound',\n",
        " '3': 'Text-to-speech',\n",
        " '4': 'Samsung Pay',\n",
        " '5': 'Customize Widgets',\n",
        " '6': 'Delete a group',\n",
        " '7': 'Always On Display',\n",
        " '8': 'Manage notifications',\n",
        " '9': 'Credential storage',\n",
        " '10': 'Screen timeout',\n",
        " '11': 'Internet',\n",
        " '12': 'Permission manager',\n",
        " '13': 'Create and use folders',\n",
        " '14': 'Face recognition management',\n",
        " '15': 'Notifications',\n",
        " '16': 'Colors and clarity',\n",
        " '17': 'Device storage',\n",
        " '18': 'Battery',\n",
        " '19': 'Timer options',\n",
        " '20': 'Blue light filter',\n",
        " '21': 'Edit notes',\n",
        " '22': 'Super steady',\n",
        " '23': 'App settings',\n",
        " '24': 'Screenshot Settings',\n",
        " '25': 'Encrypt or decrypt SD card',\n",
        " '26': 'Maps',\n",
        " '27': 'Palm swipe to capture a screenshot',\n",
        " '28': 'Home screen settings',\n",
        " '29': 'Smart Switch',\n",
        " '30': 'Camera settings',\n",
        " '31': 'Set a secure screen lock',\n",
        " '32': 'Edit pictures',\n",
        " '33': 'Clock and information',\n",
        " '34': 'Add or remove group contacts',\n",
        " '35': 'View the Notification panel',\n",
        " '36': 'Location',\n",
        " '37': 'Configure mobile hotspot settings',\n",
        " '38': 'Email',\n",
        " '39': 'Notes menu',\n",
        " '40': 'AOD themes',\n",
        " '41': 'Fingerprint verification settings',\n",
        " '42': 'Link contacts',\n",
        " '43': 'NFC and payment'}"
      ]
    },
    {
      "cell_type": "code",
      "execution_count": 33,
      "metadata": {
        "colab": {
          "base_uri": "https://localhost:8080/"
        },
        "id": "ojO_knWphknc",
        "outputId": "a799c557-9287-4085-f577-7d0791b6149d"
      },
      "outputs": [
        {
          "output_type": "stream",
          "name": "stdout",
          "text": [
            "Drive already mounted at /content/drive; to attempt to forcibly remount, call drive.mount(\"/content/drive\", force_remount=True).\n"
          ]
        }
      ],
      "source": [
        "from google.colab import drive\n",
        "\n",
        "# Mount Google Drive\n",
        "drive.mount('/content/drive')"
      ]
    },
    {
      "cell_type": "code",
      "execution_count": 34,
      "metadata": {
        "id": "H1mKAzDxk8R0",
        "colab": {
          "base_uri": "https://localhost:8080/"
        },
        "outputId": "9fd5a1d8-cfe3-42c6-8031-33ddc0d9ad20"
      },
      "outputs": [
        {
          "output_type": "stream",
          "name": "stdout",
          "text": [
            "Archive:  bert_usermanual_pytorch.zip\n",
            "   creating: bert_usermanual_pytorch_cpu_quant_int8/\n",
            "  inflating: bert_usermanual_pytorch_cpu_quant_int8/model.safetensors  \n",
            "  inflating: bert_usermanual_pytorch_cpu_quant_int8/tokenizer_config.json  \n",
            "  inflating: bert_usermanual_pytorch_cpu_quant_int8/config.json  \n",
            "  inflating: bert_usermanual_pytorch_cpu_quant_int8/special_tokens_map.json  \n",
            "  inflating: bert_usermanual_pytorch_cpu_quant_int8/vocab.txt  \n",
            "   creating: bert_usermanual_pytorch_cpu_quant_int8/.ipynb_checkpoints/\n"
          ]
        }
      ],
      "source": [
        "\n",
        "! cp /content/drive/MyDrive/'Colab Notebooks'/'GenAI with LLM'/Models/bert_usermanual_pytorch.zip /content\n",
        "! unzip bert_usermanual_pytorch.zip"
      ]
    },
    {
      "cell_type": "code",
      "execution_count": 35,
      "metadata": {
        "id": "g4dkWihd16cI",
        "colab": {
          "base_uri": "https://localhost:8080/",
          "height": 272,
          "referenced_widgets": [
            "4a5e3d26c1074a62a10653b2a294ce82",
            "d45af8387fcd4e788326d4c2367e7cf3",
            "09d54b2730ce4d8989a515240332afe1",
            "c14ae69edf60484aacdfa26d98e94f84",
            "561e4398d290452d88c8c0af8f5263ee",
            "0c2132b2519a45d0b067e6667d3f27c4",
            "24e3f937770e410aad4e1d3087085375",
            "85550cca3ee742d6901b5f76119d38f0",
            "99e513eb68ef47a4804288eecd86c0c1",
            "f3b9425075e74e08b998a965026ca4a1",
            "207fcff5b42645838ca31b0ff28f8fe5",
            "2db2d049b6774512a1fb0320062db490",
            "2cd4f761fc9e4d69840ef422a5409af7",
            "97c05772dbb040dca638b9830a38303a",
            "412960ac454e4097895c71d9efe4e7ce",
            "3d367bb738d0451d9bd4013f29ce49e4",
            "c7a063fa48934f66bd4744edce5ca3ee",
            "38a5ce6b534e454c96223217fb58d5d4",
            "c91bb09c46f242ffbade0a9cff816c6e",
            "3d38f06e8e4c42dabdba447898ed2681",
            "0d3f4d84a08d483089f84b8c3dda2e7a",
            "9b1ed977279241c59141c3d49e26e6d9",
            "9600bc6b27a24f72a2e9f4f6f15c7a76",
            "db83fff7d2f14692ba832732b59d07f8",
            "4ff0ebeff2c448d9a72b6ef08bc81844",
            "17afb00c138f4af48fce144e21a940dc",
            "fbaca4f6257d4d02b31b5ec8f6ac71b3",
            "c0c0b65b354843f9bc15853733d9b634",
            "378e36183e2c44ecbb4b1c875eb4573a",
            "0da5a1a5c8e542d0b0dccae097356463",
            "686a47473e2047e5af01b879f5ae28d8",
            "46f2236515af4f50844b8be2bbf5a27a",
            "ff602c31504441959e5eed8d67d5c2c3",
            "530a3ad4b6ba4c5392c836d59a45d7a6",
            "e823db657d864b47933a37b669528a29",
            "b9de039dd8814f42a06f407de2c863e0",
            "2bf8a7300ef84dd08198b8b7773857f4",
            "826ab2f51783414db6b28532390eb1d5",
            "ed9b58bb60e04416bcccccbf7ecc67ed",
            "099f2cf5e27a42a5a181a7a07c56615c",
            "cd30c843c7c54bbba74b82bada2df958",
            "bcb79b09437f47dbace2510369380b56",
            "b58183cd16f7489496d676293d2499f1",
            "eb5c617ea66e491b9600226b550644ea"
          ]
        },
        "outputId": "405ba832-4aed-4a20-df3c-9158cff4eb83"
      },
      "outputs": [
        {
          "output_type": "stream",
          "name": "stderr",
          "text": [
            "/usr/local/lib/python3.11/dist-packages/huggingface_hub/utils/_auth.py:94: UserWarning: \n",
            "The secret `HF_TOKEN` does not exist in your Colab secrets.\n",
            "To authenticate with the Hugging Face Hub, create a token in your settings tab (https://huggingface.co/settings/tokens), set it as secret in your Google Colab and restart your session.\n",
            "You will be able to reuse this secret in all of your notebooks.\n",
            "Please note that authentication is recommended but still optional to access public models or datasets.\n",
            "  warnings.warn(\n"
          ]
        },
        {
          "output_type": "display_data",
          "data": {
            "text/plain": [
              "tokenizer_config.json:   0%|          | 0.00/48.0 [00:00<?, ?B/s]"
            ],
            "application/vnd.jupyter.widget-view+json": {
              "version_major": 2,
              "version_minor": 0,
              "model_id": "4a5e3d26c1074a62a10653b2a294ce82"
            }
          },
          "metadata": {
            "application/vnd.jupyter.widget-view+json": {
              "colab": {
                "custom_widget_manager": {
                  "url": "https://ssl.gstatic.com/colaboratory-static/widgets/colab-cdn-widget-manager/2b70e893a8ba7c0f/manager.min.js"
                }
              }
            }
          }
        },
        {
          "output_type": "display_data",
          "data": {
            "text/plain": [
              "vocab.txt:   0%|          | 0.00/232k [00:00<?, ?B/s]"
            ],
            "application/vnd.jupyter.widget-view+json": {
              "version_major": 2,
              "version_minor": 0,
              "model_id": "9b1ed977279241c59141c3d49e26e6d9"
            }
          },
          "metadata": {
            "application/vnd.jupyter.widget-view+json": {
              "colab": {
                "custom_widget_manager": {
                  "url": "https://ssl.gstatic.com/colaboratory-static/widgets/colab-cdn-widget-manager/2b70e893a8ba7c0f/manager.min.js"
                }
              }
            }
          }
        },
        {
          "output_type": "display_data",
          "data": {
            "text/plain": [
              "tokenizer.json:   0%|          | 0.00/466k [00:00<?, ?B/s]"
            ],
            "application/vnd.jupyter.widget-view+json": {
              "version_major": 2,
              "version_minor": 0,
              "model_id": "ff602c31504441959e5eed8d67d5c2c3"
            }
          },
          "metadata": {
            "application/vnd.jupyter.widget-view+json": {
              "colab": {
                "custom_widget_manager": {
                  "url": "https://ssl.gstatic.com/colaboratory-static/widgets/colab-cdn-widget-manager/2b70e893a8ba7c0f/manager.min.js"
                }
              }
            }
          }
        },
        {
          "output_type": "display_data",
          "data": {
            "text/plain": [
              "config.json:   0%|          | 0.00/570 [00:00<?, ?B/s]"
            ],
            "application/vnd.jupyter.widget-view+json": {
              "version_major": 2,
              "version_minor": 0,
              "model_id": "eb5c617ea66e491b9600226b550644ea"
            }
          },
          "metadata": {
            "application/vnd.jupyter.widget-view+json": {
              "colab": {
                "custom_widget_manager": {
                  "url": "https://ssl.gstatic.com/colaboratory-static/widgets/colab-cdn-widget-manager/2b70e893a8ba7c0f/manager.min.js"
                }
              }
            }
          }
        }
      ],
      "source": [
        "import torch\n",
        "from transformers import BertTokenizer, BertForSequenceClassification\n",
        "\n",
        "# Load the trained model and tokenizer\n",
        "model_path = './bert_usermanual_pytorch_cpu_quant_int8'  # Path where the trained model is saved\n",
        "model = BertForSequenceClassification.from_pretrained(model_path)\n",
        "tokenizer = BertTokenizer.from_pretrained('bert-base-uncased')\n",
        "\n",
        "# Function to make predictions\n",
        "def predict_final_node(question):\n",
        "    model.eval()  # Set the model to evaluation mode\n",
        "    inputs = tokenizer(\n",
        "        question,\n",
        "        truncation=True,\n",
        "        padding='max_length',\n",
        "        max_length=128,\n",
        "        return_tensors='pt'\n",
        "    )\n",
        "    with torch.no_grad():\n",
        "        outputs = model(**inputs)\n",
        "    predicted_label = torch.argmax(outputs.logits, dim=1).item()\n",
        "    # print('label is ', predicted_label)\n",
        "\n",
        "    # label_map= label_map_2\n",
        "\n",
        "    final_node = label_map[str(predicted_label)]\n",
        "    return final_node\n"
      ]
    },
    {
      "cell_type": "code",
      "execution_count": 74,
      "metadata": {
        "colab": {
          "base_uri": "https://localhost:8080/"
        },
        "id": "vLpN0vsylsdg",
        "outputId": "b6df536c-38af-43b5-8f7d-f36806fa705c"
      },
      "outputs": [
        {
          "output_type": "stream",
          "name": "stdout",
          "text": [
            "What are the advanced recording options available in my device camera?\n",
            "Camera settings\n",
            "How can I turn on the GPS ?\n",
            "Location\n",
            "How to apply custom themes for AOD?\n",
            "AOD themes\n",
            "How can I show notifications on always display?\n",
            "Clock and information\n",
            "How can I use time zone converter?\n",
            "Time zone converter\n"
          ]
        }
      ],
      "source": [
        "# Example usage\n",
        "questions = [\n",
        "  'What are the advanced recording options available in my device camera?',\n",
        " 'How can I turn on the GPS ?',\n",
        " 'How to apply custom themes for AOD?',\n",
        " 'How can I show notifications on always display?',\n",
        " 'How can I use time zone converter?'\n",
        " ]\n",
        "\n",
        "correct_answers = [\n",
        "  'Camera settings',\n",
        "  'Location',\n",
        "  'AOD themes',\n",
        "  'Clock and information',\n",
        "  'Time zone converter'\n",
        " ]\n",
        "\n",
        "for question in questions:\n",
        "  print(question)\n",
        "  print(predict_final_node(question))"
      ]
    },
    {
      "cell_type": "code",
      "execution_count": 37,
      "metadata": {
        "colab": {
          "base_uri": "https://localhost:8080/"
        },
        "id": "2D1tUqNflvRS",
        "outputId": "7a091b8c-2899-434a-b80c-be8878aaba23"
      },
      "outputs": [
        {
          "output_type": "execute_result",
          "data": {
            "text/plain": [
              "{'_nodes': [{'_id': {'offset': 0, 'table': 0},\n",
              "   '_label': 'MenuItem',\n",
              "   'name': 'Apps',\n",
              "   'description': '\"Apps\" is a menu providing access to your device\\'s applications.  It allows you to manage installed apps, create folders to organize them, and potentially update or delete them.  You can also set default apps for various categories.  The \"Apps\" menu is a central hub for all your device\\'s software.\\n'},\n",
              "  {'_id': {'offset': 1, 'table': 0},\n",
              "   '_label': 'MenuItem',\n",
              "   'name': 'Samsung apps',\n",
              "   'description': 'Samsung apps is a collection of pre-installed applications on Samsung devices.  These apps offer various functionalities, from managing contacts and emails to taking photos and browsing the web.  They include tools like Samsung Notes, Samsung Internet, and Samsung Pay.  These apps provide a convenient and integrated user experience within the Samsung ecosystem.\\n'},\n",
              "  {'_id': {'offset': 27, 'table': 0},\n",
              "   '_label': 'MenuItem',\n",
              "   'name': 'Email',\n",
              "   'description': 'The Email app lets you access and manage all your email accounts in one place.  It provides a unified inbox for easy viewing and organization of your messages.  Adding new accounts is simple and straightforward.  This app simplifies email management by consolidating all your inboxes into a single application.\\n'}],\n",
              " '_rels': [{'_src': {'offset': 0, 'table': 0},\n",
              "   '_dst': {'offset': 1, 'table': 0},\n",
              "   '_label': 'Links',\n",
              "   '_id': {'offset': 0, 'table': 1}},\n",
              "  {'_src': {'offset': 1, 'table': 0},\n",
              "   '_dst': {'offset': 27, 'table': 0},\n",
              "   '_label': 'Links',\n",
              "   '_id': {'offset': 30, 'table': 1}}]}"
            ]
          },
          "metadata": {},
          "execution_count": 37
        }
      ],
      "source": [
        "import kuzu\n",
        "kuzudb = kuzu.Database(\":memeory:\")\n",
        "ku = kuzu.Connection(kuzudb)\n",
        "\n",
        "question =  'How to send an email?'\n",
        "final_node =  predict_final_node(question)\n",
        "\n",
        "# Shortest Path\n",
        "query = f\"\"\"\n",
        "MATCH p = (a:MenuItem)-[:Links* SHORTEST 1..4]->(b:MenuItem)\n",
        "WHERE b.name = '{final_node}'\n",
        "RETURN p\n",
        "\"\"\"\n",
        "\n",
        "res = ku.execute(query)\n",
        "res.get_as_df()[\"p\"][0]"
      ]
    },
    {
      "cell_type": "code",
      "execution_count": 75,
      "metadata": {
        "colab": {
          "base_uri": "https://localhost:8080/",
          "height": 517,
          "referenced_widgets": [
            "ad81fc7c34b44be08ca93b0bea7b5f4e",
            "db457e4c46414a1ba11d5ba8bb688ce3"
          ]
        },
        "id": "iTFLJnmgoqCI",
        "outputId": "d84f403d-7dcd-4951-ccd1-56f4ef21b047"
      },
      "outputs": [
        {
          "output_type": "display_data",
          "data": {
            "text/plain": [
              "GraphWidget(layout=Layout(height='500px', width='100%'))"
            ],
            "application/vnd.jupyter.widget-view+json": {
              "version_major": 2,
              "version_minor": 0,
              "model_id": "ad81fc7c34b44be08ca93b0bea7b5f4e"
            }
          },
          "metadata": {
            "application/vnd.jupyter.widget-view+json": {
              "colab": {
                "custom_widget_manager": {
                  "url": "https://ssl.gstatic.com/colaboratory-static/widgets/colab-cdn-widget-manager/2b70e893a8ba7c0f/manager.min.js"
                }
              }
            }
          }
        }
      ],
      "source": [
        "\n",
        "from google.colab import output\n",
        "output.enable_custom_widget_manager()\n",
        "from yfiles_jupyter_graphs import GraphWidget\n",
        "\n",
        "res = ku.execute(query)\n",
        "G = res.get_as_networkx(directed=False)\n",
        "w = GraphWidget(graph=G)\n",
        "w.set_sidebar(enabled=False)\n",
        "display(w)\n"
      ]
    },
    {
      "cell_type": "code",
      "execution_count": 39,
      "metadata": {
        "colab": {
          "base_uri": "https://localhost:8080/"
        },
        "id": "dyRtm4sCnGx2",
        "outputId": "8281498d-28c3-415a-bba9-733451aad78b"
      },
      "outputs": [
        {
          "output_type": "stream",
          "name": "stdout",
          "text": [
            "\n",
            "  Step-1:Apps\n",
            "  \n",
            "  Step-2:Samsung apps\n",
            "  \n",
            "  Step-3:Email\n",
            "  \n"
          ]
        }
      ],
      "source": [
        "context = \"\"\n",
        "step = 0\n",
        "for node in res.get_as_df()[\"p\"][0][\"_nodes\"]:\n",
        "  menue_item = node[\"name\"]\n",
        "  # description = node[\"description\"]\n",
        "  context += f\"\"\"\n",
        "  Step-{step+1}:{menue_item}\n",
        "  \"\"\"\n",
        "  step += 1\n",
        "\n",
        "print(context)"
      ]
    },
    {
      "cell_type": "markdown",
      "metadata": {
        "id": "aOXECaHgpCI1"
      },
      "source": [
        "## Gemma"
      ]
    },
    {
      "cell_type": "code",
      "execution_count": 40,
      "metadata": {
        "colab": {
          "base_uri": "https://localhost:8080/"
        },
        "id": "y22NsznRpBs5",
        "outputId": "62d394f7-4eb4-4ab3-d4b7-71ec64f2d5bb"
      },
      "outputs": [
        {
          "output_type": "stream",
          "name": "stdout",
          "text": [
            "--2025-04-24 11:16:08--  https://huggingface.co/Mozilla/gemma-2-2b-it-llamafile/resolve/main/gemma-2-2b-it.Q6_K.llamafile\n",
            "Resolving huggingface.co (huggingface.co)... 3.163.189.37, 3.163.189.90, 3.163.189.114, ...\n",
            "Connecting to huggingface.co (huggingface.co)|3.163.189.37|:443... connected.\n",
            "HTTP request sent, awaiting response... 302 Found\n",
            "Location: https://cdn-lfs-us-1.hf.co/repos/ef/89/ef89a9740f6e1a30af8b23b439174cdcc7fcad0f17fe6ee52def426347f93063/ff29c1faf6a7b979129c4b7cff51e16e677f96b34023914ac3c02f71b62053bd?response-content-disposition=inline%3B+filename*%3DUTF-8%27%27gemma-2-2b-it.Q6_K.llamafile%3B+filename%3D%22gemma-2-2b-it.Q6_K.llamafile%22%3B&Expires=1745496968&Policy=eyJTdGF0ZW1lbnQiOlt7IkNvbmRpdGlvbiI6eyJEYXRlTGVzc1RoYW4iOnsiQVdTOkVwb2NoVGltZSI6MTc0NTQ5Njk2OH19LCJSZXNvdXJjZSI6Imh0dHBzOi8vY2RuLWxmcy11cy0xLmhmLmNvL3JlcG9zL2VmLzg5L2VmODlhOTc0MGY2ZTFhMzBhZjhiMjNiNDM5MTc0Y2RjYzdmY2FkMGYxN2ZlNmVlNTJkZWY0MjYzNDdmOTMwNjMvZmYyOWMxZmFmNmE3Yjk3OTEyOWM0YjdjZmY1MWUxNmU2NzdmOTZiMzQwMjM5MTRhYzNjMDJmNzFiNjIwNTNiZD9yZXNwb25zZS1jb250ZW50LWRpc3Bvc2l0aW9uPSoifV19&Signature=LBUvN9XKAX6NCUsst9f0u%7EFcuCZSVmUutE4Xxw6PRa7pHHreIMnUk84-IKFlWWZLEiZLClaiv7%7ESAAT-814di6dNIZxTYK7FDm3g2TG9XcxZXesU7RkzmMk3%7E7RM9dxoZlAgXR28Zw%7EYFY-14RJLc%7EBXjZIcxFV1cyerngGlH7ma8TG-M3hXFqEMTmQow0C4skdzYpMkVfcvjt6qK%7EuYYD9Mo5UnTzkSbti%7Ea-ijKgjp4I1XAgjVOjeFD5fj%7EvGU8uS29c4Co%7Ew5IpAajp97DFvyaD6N68QzLS35mBnaGblz4OJAl%7EOwoqo80z870wvykpZtO5ta%7EQ2AlVLb5MoafA__&Key-Pair-Id=K24J24Z295AEI9 [following]\n",
            "--2025-04-24 11:16:08--  https://cdn-lfs-us-1.hf.co/repos/ef/89/ef89a9740f6e1a30af8b23b439174cdcc7fcad0f17fe6ee52def426347f93063/ff29c1faf6a7b979129c4b7cff51e16e677f96b34023914ac3c02f71b62053bd?response-content-disposition=inline%3B+filename*%3DUTF-8%27%27gemma-2-2b-it.Q6_K.llamafile%3B+filename%3D%22gemma-2-2b-it.Q6_K.llamafile%22%3B&Expires=1745496968&Policy=eyJTdGF0ZW1lbnQiOlt7IkNvbmRpdGlvbiI6eyJEYXRlTGVzc1RoYW4iOnsiQVdTOkVwb2NoVGltZSI6MTc0NTQ5Njk2OH19LCJSZXNvdXJjZSI6Imh0dHBzOi8vY2RuLWxmcy11cy0xLmhmLmNvL3JlcG9zL2VmLzg5L2VmODlhOTc0MGY2ZTFhMzBhZjhiMjNiNDM5MTc0Y2RjYzdmY2FkMGYxN2ZlNmVlNTJkZWY0MjYzNDdmOTMwNjMvZmYyOWMxZmFmNmE3Yjk3OTEyOWM0YjdjZmY1MWUxNmU2NzdmOTZiMzQwMjM5MTRhYzNjMDJmNzFiNjIwNTNiZD9yZXNwb25zZS1jb250ZW50LWRpc3Bvc2l0aW9uPSoifV19&Signature=LBUvN9XKAX6NCUsst9f0u%7EFcuCZSVmUutE4Xxw6PRa7pHHreIMnUk84-IKFlWWZLEiZLClaiv7%7ESAAT-814di6dNIZxTYK7FDm3g2TG9XcxZXesU7RkzmMk3%7E7RM9dxoZlAgXR28Zw%7EYFY-14RJLc%7EBXjZIcxFV1cyerngGlH7ma8TG-M3hXFqEMTmQow0C4skdzYpMkVfcvjt6qK%7EuYYD9Mo5UnTzkSbti%7Ea-ijKgjp4I1XAgjVOjeFD5fj%7EvGU8uS29c4Co%7Ew5IpAajp97DFvyaD6N68QzLS35mBnaGblz4OJAl%7EOwoqo80z870wvykpZtO5ta%7EQ2AlVLb5MoafA__&Key-Pair-Id=K24J24Z295AEI9\n",
            "Resolving cdn-lfs-us-1.hf.co (cdn-lfs-us-1.hf.co)... 18.238.217.75, 18.238.217.12, 18.238.217.92, ...\n",
            "Connecting to cdn-lfs-us-1.hf.co (cdn-lfs-us-1.hf.co)|18.238.217.75|:443... connected.\n",
            "HTTP request sent, awaiting response... 200 OK\n",
            "Length: 2394247450 (2.2G) [binary/octet-stream]\n",
            "Saving to: ‘gemma-2-2b-it.Q6_K.llamafile’\n",
            "\n",
            "gemma-2-2b-it.Q6_K. 100%[===================>]   2.23G  60.0MB/s    in 39s     \n",
            "\n",
            "2025-04-24 11:16:48 (58.2 MB/s) - ‘gemma-2-2b-it.Q6_K.llamafile’ saved [2394247450/2394247450]\n",
            "\n"
          ]
        }
      ],
      "source": [
        "!wget https://huggingface.co/Mozilla/gemma-2-2b-it-llamafile/resolve/main/gemma-2-2b-it.Q6_K.llamafile"
      ]
    },
    {
      "cell_type": "code",
      "execution_count": 42,
      "metadata": {
        "id": "zp6rGoQtnd67"
      },
      "outputs": [],
      "source": [
        "!chmod +x gemma-2-2b-it.Q6_K.llamafile"
      ]
    },
    {
      "cell_type": "code",
      "execution_count": 43,
      "metadata": {
        "colab": {
          "base_uri": "https://localhost:8080/"
        },
        "id": "qD9zYN3WuNbq",
        "outputId": "d310168b-9b84-4058-aeef-4b307c91588d"
      },
      "outputs": [
        {
          "output_type": "stream",
          "name": "stdout",
          "text": [
            "nohup: redirecting stderr to stdout\n"
          ]
        }
      ],
      "source": [
        "! nohup ./gemma-2-2b-it.Q6_K.llamafile --server  > gemma2b.llamafile.log &"
      ]
    },
    {
      "cell_type": "code",
      "source": [
        "!./gemma-2-2b-it.Q6_K.llamafile --server"
      ],
      "metadata": {
        "colab": {
          "base_uri": "https://localhost:8080/"
        },
        "id": "26dG6yUT4nqi",
        "outputId": "a3af181d-e2d2-41f2-fb50-3070d1dc9623"
      },
      "execution_count": null,
      "outputs": [
        {
          "output_type": "stream",
          "name": "stdout",
          "text": [
            "note: if you have an AMD or NVIDIA GPU then you need to pass -ngl 9999 to enable GPU offloading\n",
            "{\"build\":1500,\"commit\":\"a30b324\",\"function\":\"server_cli\",\"level\":\"INFO\",\"line\":2911,\"msg\":\"build info\",\"tid\":\"12265824\",\"timestamp\":1744884528}\n",
            "{\"function\":\"server_cli\",\"level\":\"INFO\",\"line\":2918,\"msg\":\"system info\",\"n_threads\":1,\"n_threads_batch\":1,\"system_info\":\"AVX = 1 | AVX_VNNI = 0 | AVX2 = 1 | AVX512 = 0 | AVX512_VBMI = 0 | AVX512_VNNI = 0 | AVX512_BF16 = 0 | FMA = 1 | NEON = 0 | SVE = 0 | ARM_FMA = 0 | F16C = 1 | FP16_VA = 0 | WASM_SIMD = 0 | BLAS = 0 | SSE3 = 1 | SSSE3 = 1 | VSX = 0 | MATMUL_INT8 = 0 | LLAMAFILE = 1 | \",\"tid\":\"12265824\",\"timestamp\":1744884528,\"total_threads\":2}\n",
            "llama_model_loader: loaded meta data with 36 key-value pairs and 288 tensors from gemma-2-2b-it.Q6_K.gguf (version GGUF V3 (latest))\n",
            "llama_model_loader: Dumping metadata keys/values. Note: KV overrides do not apply in this output.\n",
            "llama_model_loader: - kv   0:                       general.architecture str              = gemma2\n",
            "llama_model_loader: - kv   1:                               general.type str              = model\n",
            "llama_model_loader: - kv   2:                         general.size_label str              = 2.6B\n",
            "llama_model_loader: - kv   3:                            general.license str              = gemma\n",
            "llama_model_loader: - kv   4:                   general.base_model.count u32              = 1\n",
            "llama_model_loader: - kv   5:                  general.base_model.0.name str              = Gemma 2 2b\n",
            "llama_model_loader: - kv   6:          general.base_model.0.organization str              = Google\n",
            "llama_model_loader: - kv   7:              general.base_model.0.repo_url str              = https://huggingface.co/google/gemma-2-2b\n",
            "llama_model_loader: - kv   8:                               general.tags arr[str,2]       = [\"conversational\", \"text-generation\"]\n",
            "llama_model_loader: - kv   9:                      gemma2.context_length u32              = 8192\n",
            "llama_model_loader: - kv  10:                    gemma2.embedding_length u32              = 2304\n",
            "llama_model_loader: - kv  11:                         gemma2.block_count u32              = 26\n",
            "llama_model_loader: - kv  12:                 gemma2.feed_forward_length u32              = 9216\n",
            "llama_model_loader: - kv  13:                gemma2.attention.head_count u32              = 8\n",
            "llama_model_loader: - kv  14:             gemma2.attention.head_count_kv u32              = 4\n",
            "llama_model_loader: - kv  15:    gemma2.attention.layer_norm_rms_epsilon f32              = 0.000001\n",
            "llama_model_loader: - kv  16:                gemma2.attention.key_length u32              = 256\n",
            "llama_model_loader: - kv  17:              gemma2.attention.value_length u32              = 256\n",
            "llama_model_loader: - kv  18:                          general.file_type u32              = 18\n",
            "llama_model_loader: - kv  19:              gemma2.attn_logit_softcapping f32              = 50.000000\n",
            "llama_model_loader: - kv  20:             gemma2.final_logit_softcapping f32              = 30.000000\n",
            "llama_model_loader: - kv  21:            gemma2.attention.sliding_window u32              = 4096\n",
            "llama_model_loader: - kv  22:                       tokenizer.ggml.model str              = llama\n",
            "llama_model_loader: - kv  23:                         tokenizer.ggml.pre str              = default\n",
            "llama_model_loader: - kv  24:                      tokenizer.ggml.tokens arr[str,256000]  = [\"<pad>\", \"<eos>\", \"<bos>\", \"<unk>\", ...\n",
            "llama_model_loader: - kv  25:                      tokenizer.ggml.scores arr[f32,256000]  = [-1000.000000, -1000.000000, -1000.00...\n",
            "llama_model_loader: - kv  26:                  tokenizer.ggml.token_type arr[i32,256000]  = [3, 3, 3, 3, 3, 3, 3, 3, 3, 3, 3, 3, ...\n",
            "llama_model_loader: - kv  27:                tokenizer.ggml.bos_token_id u32              = 2\n",
            "llama_model_loader: - kv  28:                tokenizer.ggml.eos_token_id u32              = 1\n",
            "llama_model_loader: - kv  29:            tokenizer.ggml.unknown_token_id u32              = 3\n",
            "llama_model_loader: - kv  30:            tokenizer.ggml.padding_token_id u32              = 0\n",
            "llama_model_loader: - kv  31:               tokenizer.ggml.add_bos_token bool             = true\n",
            "llama_model_loader: - kv  32:               tokenizer.ggml.add_eos_token bool             = false\n",
            "llama_model_loader: - kv  33:                    tokenizer.chat_template str              = {{ bos_token }}{% if messages[0]['rol...\n",
            "llama_model_loader: - kv  34:            tokenizer.ggml.add_space_prefix bool             = false\n",
            "llama_model_loader: - kv  35:               general.quantization_version u32              = 2\n",
            "llama_model_loader: - type  f32:  105 tensors\n",
            "llama_model_loader: - type q6_K:  183 tensors\n",
            "llm_load_vocab: special tokens cache size = 249\n",
            "llm_load_vocab: token to piece cache size = 1.6014 MB\n",
            "llm_load_print_meta: format           = GGUF V3 (latest)\n",
            "llm_load_print_meta: arch             = gemma2\n",
            "llm_load_print_meta: vocab type       = SPM\n",
            "llm_load_print_meta: n_vocab          = 256000\n",
            "llm_load_print_meta: n_merges         = 0\n",
            "llm_load_print_meta: vocab_only       = 0\n",
            "llm_load_print_meta: n_ctx_train      = 8192\n",
            "llm_load_print_meta: n_embd           = 2304\n",
            "llm_load_print_meta: n_layer          = 26\n",
            "llm_load_print_meta: n_head           = 8\n",
            "llm_load_print_meta: n_head_kv        = 4\n",
            "llm_load_print_meta: n_rot            = 256\n",
            "llm_load_print_meta: n_swa            = 4096\n",
            "llm_load_print_meta: n_embd_head_k    = 256\n",
            "llm_load_print_meta: n_embd_head_v    = 256\n",
            "llm_load_print_meta: n_gqa            = 2\n",
            "llm_load_print_meta: n_embd_k_gqa     = 1024\n",
            "llm_load_print_meta: n_embd_v_gqa     = 1024\n",
            "llm_load_print_meta: f_norm_eps       = 0.0e+00\n",
            "llm_load_print_meta: f_norm_rms_eps   = 1.0e-06\n",
            "llm_load_print_meta: f_clamp_kqv      = 0.0e+00\n",
            "llm_load_print_meta: f_max_alibi_bias = 0.0e+00\n",
            "llm_load_print_meta: f_logit_scale    = 0.0e+00\n",
            "llm_load_print_meta: n_ff             = 9216\n",
            "llm_load_print_meta: n_expert         = 0\n",
            "llm_load_print_meta: n_expert_used    = 0\n",
            "llm_load_print_meta: causal attn      = 1\n",
            "llm_load_print_meta: pooling type     = 0\n",
            "llm_load_print_meta: rope type        = 2\n",
            "llm_load_print_meta: rope scaling     = linear\n",
            "llm_load_print_meta: freq_base_train  = 10000.0\n",
            "llm_load_print_meta: freq_scale_train = 1\n",
            "llm_load_print_meta: n_ctx_orig_yarn  = 8192\n",
            "llm_load_print_meta: rope_finetuned   = unknown\n",
            "llm_load_print_meta: ssm_d_conv       = 0\n",
            "llm_load_print_meta: ssm_d_inner      = 0\n",
            "llm_load_print_meta: ssm_d_state      = 0\n",
            "llm_load_print_meta: ssm_dt_rank      = 0\n",
            "llm_load_print_meta: model type       = 2B\n",
            "llm_load_print_meta: model ftype      = Q6_K\n",
            "llm_load_print_meta: model params     = 2.61 B\n",
            "llm_load_print_meta: model size       = 2.00 GiB (6.56 BPW) \n",
            "llm_load_print_meta: general.name     = n/a\n",
            "llm_load_print_meta: BOS token        = 2 '<bos>'\n",
            "llm_load_print_meta: EOS token        = 1 '<eos>'\n",
            "llm_load_print_meta: UNK token        = 3 '<unk>'\n",
            "llm_load_print_meta: PAD token        = 0 '<pad>'\n",
            "llm_load_print_meta: LF token         = 227 '<0x0A>'\n",
            "llm_load_print_meta: EOT token        = 107 '<end_of_turn>'\n",
            "llm_load_print_meta: max token length = 48\n",
            "llm_load_tensors: ggml ctx size =    0.15 MiB\n",
            "\u001b[Kllm_load_tensors:        CPU buffer size =  2045.96 MiB\n",
            "..................................................................\n",
            "llama_new_context_with_model: n_ctx      = 8192\n",
            "llama_new_context_with_model: n_batch    = 2048\n",
            "llama_new_context_with_model: n_ubatch   = 512\n",
            "llama_new_context_with_model: flash_attn = 0\n",
            "llama_new_context_with_model: freq_base  = 10000.0\n",
            "llama_new_context_with_model: freq_scale = 1\n",
            "llama_kv_cache_init:        CPU KV buffer size =   832.00 MiB\n",
            "llama_new_context_with_model: KV self size  =  832.00 MiB, K (f16):  416.00 MiB, V (f16):  416.00 MiB\n",
            "llama_new_context_with_model:        CPU  output buffer size =     0.98 MiB\n",
            "llama_new_context_with_model:        CPU compute buffer size =   504.50 MiB\n",
            "llama_new_context_with_model: graph nodes  = 1050\n",
            "llama_new_context_with_model: graph splits = 1\n",
            "{\"function\":\"initialize\",\"level\":\"INFO\",\"line\":502,\"msg\":\"initializing slots\",\"n_slots\":1,\"tid\":\"12265824\",\"timestamp\":1744884530}\n",
            "{\"function\":\"initialize\",\"level\":\"INFO\",\"line\":514,\"msg\":\"new slot\",\"n_ctx_slot\":8192,\"slot_id\":0,\"tid\":\"12265824\",\"timestamp\":1744884530}\n",
            "{\"function\":\"server_cli\",\"level\":\"INFO\",\"line\":3131,\"msg\":\"model loaded\",\"tid\":\"12265824\",\"timestamp\":1744884530}\n",
            "\n",
            "llama server listening at http://127.0.0.1:8081\n",
            "\n",
            "opening browser tab... (pass --nobrowser to disable)\n",
            "In the sandboxing block!\n",
            "{\"function\":\"server_cli\",\"hostname\":\"127.0.0.1\",\"level\":\"INFO\",\"line\":3269,\"msg\":\"HTTP server listening\",\"port\":\"8081\",\"tid\":\"12265824\",\"timestamp\":1744884530,\"url_prefix\":\"\"}\n",
            "{\"function\":\"update_slots\",\"level\":\"INFO\",\"line\":1672,\"msg\":\"all slots are idle and system prompt is empty, clear the KV cache\",\"tid\":\"12265824\",\"timestamp\":1744884530}\n",
            "/usr/bin/xdg-open: 882: www-browser: not found\n",
            "/usr/bin/xdg-open: 882: links2: not found\n",
            "/usr/bin/xdg-open: 882: elinks: not found\n",
            "/usr/bin/xdg-open: 882: links: not found\n",
            "/usr/bin/xdg-open: 882: lynx: not found\n",
            "/usr/bin/xdg-open: 882: w3m: not found\n",
            "xdg-open: no method available for opening 'http://127.0.0.1:8081/'\n",
            "failed to open http://127.0.0.1:8081/ in a browser tab using xdg-open: process exited with non-zero status\n",
            "^C\n"
          ]
        }
      ]
    },
    {
      "cell_type": "markdown",
      "metadata": {
        "id": "91y4OAozlhfE"
      },
      "source": [
        "## Qwen"
      ]
    },
    {
      "cell_type": "code",
      "execution_count": 44,
      "metadata": {
        "id": "4dusLaJOsTY5",
        "colab": {
          "base_uri": "https://localhost:8080/"
        },
        "outputId": "76fab4d1-dbfc-4f54-d44a-05b7ba955d99"
      },
      "outputs": [
        {
          "output_type": "stream",
          "name": "stdout",
          "text": [
            "Collecting llama-cpp-python\n",
            "  Downloading llama_cpp_python-0.3.8.tar.gz (67.3 MB)\n",
            "\u001b[2K     \u001b[90m━━━━━━━━━━━━━━━━━━━━━━━━━━━━━━━━━━━━━━━━\u001b[0m \u001b[32m67.3/67.3 MB\u001b[0m \u001b[31m10.8 MB/s\u001b[0m eta \u001b[36m0:00:00\u001b[0m\n",
            "\u001b[?25h  Installing build dependencies ... \u001b[?25l\u001b[?25hdone\n",
            "  Getting requirements to build wheel ... \u001b[?25l\u001b[?25hdone\n",
            "  Installing backend dependencies ... \u001b[?25l\u001b[?25hdone\n",
            "  Preparing metadata (pyproject.toml) ... \u001b[?25l\u001b[?25hdone\n",
            "Requirement already satisfied: typing-extensions>=4.5.0 in /usr/local/lib/python3.11/dist-packages (from llama-cpp-python) (4.13.2)\n",
            "Requirement already satisfied: numpy>=1.20.0 in /usr/local/lib/python3.11/dist-packages (from llama-cpp-python) (2.0.2)\n",
            "Collecting diskcache>=5.6.1 (from llama-cpp-python)\n",
            "  Downloading diskcache-5.6.3-py3-none-any.whl.metadata (20 kB)\n",
            "Requirement already satisfied: jinja2>=2.11.3 in /usr/local/lib/python3.11/dist-packages (from llama-cpp-python) (3.1.6)\n",
            "Requirement already satisfied: uvicorn>=0.22.0 in /usr/local/lib/python3.11/dist-packages (from llama-cpp-python[server]) (0.34.2)\n",
            "Requirement already satisfied: fastapi>=0.100.0 in /usr/local/lib/python3.11/dist-packages (from llama-cpp-python[server]) (0.115.9)\n",
            "Collecting pydantic-settings>=2.0.1 (from llama-cpp-python[server])\n",
            "  Downloading pydantic_settings-2.9.1-py3-none-any.whl.metadata (3.8 kB)\n",
            "Collecting sse-starlette>=1.6.1 (from llama-cpp-python[server])\n",
            "  Downloading sse_starlette-2.3.3-py3-none-any.whl.metadata (7.8 kB)\n",
            "Collecting starlette-context<0.4,>=0.3.6 (from llama-cpp-python[server])\n",
            "  Downloading starlette_context-0.3.6-py3-none-any.whl.metadata (4.3 kB)\n",
            "Requirement already satisfied: PyYAML>=5.1 in /usr/local/lib/python3.11/dist-packages (from llama-cpp-python[server]) (6.0.2)\n",
            "Requirement already satisfied: starlette<0.46.0,>=0.40.0 in /usr/local/lib/python3.11/dist-packages (from fastapi>=0.100.0->llama-cpp-python[server]) (0.45.3)\n",
            "Requirement already satisfied: pydantic!=1.8,!=1.8.1,!=2.0.0,!=2.0.1,!=2.1.0,<3.0.0,>=1.7.4 in /usr/local/lib/python3.11/dist-packages (from fastapi>=0.100.0->llama-cpp-python[server]) (2.11.3)\n",
            "Requirement already satisfied: MarkupSafe>=2.0 in /usr/local/lib/python3.11/dist-packages (from jinja2>=2.11.3->llama-cpp-python) (3.0.2)\n",
            "Requirement already satisfied: python-dotenv>=0.21.0 in /usr/local/lib/python3.11/dist-packages (from pydantic-settings>=2.0.1->llama-cpp-python[server]) (1.1.0)\n",
            "Requirement already satisfied: typing-inspection>=0.4.0 in /usr/local/lib/python3.11/dist-packages (from pydantic-settings>=2.0.1->llama-cpp-python[server]) (0.4.0)\n",
            "Requirement already satisfied: anyio>=4.7.0 in /usr/local/lib/python3.11/dist-packages (from sse-starlette>=1.6.1->llama-cpp-python[server]) (4.9.0)\n",
            "Requirement already satisfied: click>=7.0 in /usr/local/lib/python3.11/dist-packages (from uvicorn>=0.22.0->llama-cpp-python[server]) (8.1.8)\n",
            "Requirement already satisfied: h11>=0.8 in /usr/local/lib/python3.11/dist-packages (from uvicorn>=0.22.0->llama-cpp-python[server]) (0.14.0)\n",
            "Requirement already satisfied: idna>=2.8 in /usr/local/lib/python3.11/dist-packages (from anyio>=4.7.0->sse-starlette>=1.6.1->llama-cpp-python[server]) (3.10)\n",
            "Requirement already satisfied: sniffio>=1.1 in /usr/local/lib/python3.11/dist-packages (from anyio>=4.7.0->sse-starlette>=1.6.1->llama-cpp-python[server]) (1.3.1)\n",
            "Requirement already satisfied: annotated-types>=0.6.0 in /usr/local/lib/python3.11/dist-packages (from pydantic!=1.8,!=1.8.1,!=2.0.0,!=2.0.1,!=2.1.0,<3.0.0,>=1.7.4->fastapi>=0.100.0->llama-cpp-python[server]) (0.7.0)\n",
            "Requirement already satisfied: pydantic-core==2.33.1 in /usr/local/lib/python3.11/dist-packages (from pydantic!=1.8,!=1.8.1,!=2.0.0,!=2.0.1,!=2.1.0,<3.0.0,>=1.7.4->fastapi>=0.100.0->llama-cpp-python[server]) (2.33.1)\n",
            "Downloading diskcache-5.6.3-py3-none-any.whl (45 kB)\n",
            "\u001b[2K   \u001b[90m━━━━━━━━━━━━━━━━━━━━━━━━━━━━━━━━━━━━━━━━\u001b[0m \u001b[32m45.5/45.5 kB\u001b[0m \u001b[31m3.2 MB/s\u001b[0m eta \u001b[36m0:00:00\u001b[0m\n",
            "\u001b[?25hDownloading pydantic_settings-2.9.1-py3-none-any.whl (44 kB)\n",
            "\u001b[2K   \u001b[90m━━━━━━━━━━━━━━━━━━━━━━━━━━━━━━━━━━━━━━━━\u001b[0m \u001b[32m44.4/44.4 kB\u001b[0m \u001b[31m2.8 MB/s\u001b[0m eta \u001b[36m0:00:00\u001b[0m\n",
            "\u001b[?25hDownloading sse_starlette-2.3.3-py3-none-any.whl (10 kB)\n",
            "Downloading starlette_context-0.3.6-py3-none-any.whl (12 kB)\n",
            "Building wheels for collected packages: llama-cpp-python\n",
            "  Building wheel for llama-cpp-python (pyproject.toml) ... \u001b[?25l\u001b[?25hdone\n",
            "  Created wheel for llama-cpp-python: filename=llama_cpp_python-0.3.8-cp311-cp311-linux_x86_64.whl size=5959629 sha256=125cf3ddcfaf0baa0ed1c4c72a99345f9aac67ac773f2027cac3b775863a4f71\n",
            "  Stored in directory: /root/.cache/pip/wheels/c0/03/66/eb3810eafd55d921b2be32896d1f44313996982360663aa80b\n",
            "Successfully built llama-cpp-python\n",
            "Installing collected packages: diskcache, llama-cpp-python, starlette-context, sse-starlette, pydantic-settings\n",
            "Successfully installed diskcache-5.6.3 llama-cpp-python-0.3.8 pydantic-settings-2.9.1 sse-starlette-2.3.3 starlette-context-0.3.6\n"
          ]
        }
      ],
      "source": [
        "!pip install llama-cpp-python  'llama-cpp-python[server]'"
      ]
    },
    {
      "cell_type": "code",
      "execution_count": 45,
      "metadata": {
        "colab": {
          "base_uri": "https://localhost:8080/"
        },
        "id": "wKdB6KQUzHvn",
        "outputId": "30c72172-3e7f-46e3-a1e4-a258ca4a3f41"
      },
      "outputs": [
        {
          "output_type": "stream",
          "name": "stdout",
          "text": [
            "/usr/local/lib/python3.11/dist-packages/huggingface_hub/commands/download.py:139: FutureWarning: Ignoring --local-dir-use-symlinks. Downloading to a local directory does not use symlinks anymore.\n",
            "  warnings.warn(\n",
            "Downloading 'qwen2-1_5b-instruct-q5_k_m.gguf' to '.cache/huggingface/download/KTMs9U9gg0ocAPYeBH2wkvtbIz0=.4448818b560c9f79d79671045d9f475b291851633274cf285edab8785c68eb3e.incomplete'\n",
            "qwen2-1_5b-instruct-q5_k_m.gguf: 100% 1.13G/1.13G [00:15<00:00, 72.6MB/s]\n",
            "Download complete. Moving file to qwen2-1_5b-instruct-q5_k_m.gguf\n",
            "qwen2-1_5b-instruct-q5_k_m.gguf\n"
          ]
        }
      ],
      "source": [
        "!huggingface-cli download Qwen/Qwen2-1.5B-Instruct-GGUF qwen2-1_5b-instruct-q5_k_m.gguf --local-dir . --local-dir-use-symlinks False\n"
      ]
    },
    {
      "cell_type": "code",
      "source": [
        "!fuser 9095/tcp"
      ],
      "metadata": {
        "id": "ODOmx4G4O2s9"
      },
      "execution_count": 84,
      "outputs": []
    },
    {
      "cell_type": "code",
      "execution_count": 85,
      "metadata": {
        "colab": {
          "base_uri": "https://localhost:8080/"
        },
        "id": "DF45XiOL8ny2",
        "outputId": "6ed7c607-17ea-44ef-b676-61f31658dee3"
      },
      "outputs": [
        {
          "output_type": "stream",
          "name": "stdout",
          "text": [
            "nohup: redirecting stderr to stdout\n"
          ]
        }
      ],
      "source": [
        "!nohup sudo python3 -m llama_cpp.server --model /content/qwen2-1_5b-instruct-q5_k_m.gguf --host 0.0.0.0 --port 9095 > qwen.gguf.log &"
      ]
    },
    {
      "cell_type": "markdown",
      "source": [
        "# Device Helper App"
      ],
      "metadata": {
        "id": "-JEkrLl05I50"
      }
    },
    {
      "cell_type": "code",
      "execution_count": 53,
      "metadata": {
        "id": "D1trd-qQsa6I"
      },
      "outputs": [],
      "source": [
        "def graph_rag(user_query):\n",
        "  # Find the destination Node\n",
        "\n",
        "\n",
        "  # Find the path\n",
        "  final_node =  predict_final_node(question)\n",
        "\n",
        "  # Shortest Path\n",
        "  query = f\"\"\"\n",
        "  MATCH p = (a:MenuItem)-[:Links* SHORTEST 1..4]->(b:MenuItem)\n",
        "  WHERE b.name = '{final_node}'\n",
        "  RETURN p\n",
        "  \"\"\"\n",
        "\n",
        "  res = ku.execute(query)\n",
        "  node_list = res.get_as_df()[\"p\"][0]\n",
        "  # Summerise path\n",
        "  # Add the Path to Context, and create Prompt\n",
        "  context = \"\"\n",
        "  step = 0\n",
        "  for node in res.get_as_df()[\"p\"][0][\"_nodes\"]:\n",
        "    menue_item = node[\"name\"]\n",
        "    description = node[\"description\"]\n",
        "    text = f\"Step-{step+1}:{menue_item}; {description} \\n\"\n",
        "    context+= text\n",
        "    step += 1\n",
        "  return context\n"
      ]
    },
    {
      "cell_type": "code",
      "execution_count": 79,
      "metadata": {
        "colab": {
          "base_uri": "https://localhost:8080/",
          "height": 143
        },
        "id": "n31aIsAP9X09",
        "outputId": "f70f3a40-c447-49eb-8189-dcf2c3fa94cf"
      },
      "outputs": [
        {
          "output_type": "execute_result",
          "data": {
            "text/plain": [
              "'Step-1:Apps; \"Apps\" is a menu providing access to your device\\'s applications.  It allows you to manage installed apps, create folders to organize them, and potentially update or delete them.  You can also set default apps for various categories.  The \"Apps\" menu is a central hub for all your device\\'s software.\\n \\nStep-2:Samsung apps; Samsung apps is a collection of pre-installed applications on Samsung devices.  These apps offer various functionalities, from managing contacts and emails to taking photos and browsing the web.  They include tools like Samsung Notes, Samsung Internet, and Samsung Pay.  These apps provide a convenient and integrated user experience within the Samsung ecosystem.\\n \\nStep-3:Email; The Email app lets you access and manage all your email accounts in one place.  It provides a unified inbox for easy viewing and organization of your messages.  Adding new accounts is simple and straightforward.  This app simplifies email management by consolidating all your inboxes into a single application.\\n \\n'"
            ],
            "application/vnd.google.colaboratory.intrinsic+json": {
              "type": "string"
            }
          },
          "metadata": {},
          "execution_count": 79
        }
      ],
      "source": [
        "question = \"How to send an Email?\"\n",
        "graph_rag(question)"
      ]
    },
    {
      "cell_type": "code",
      "execution_count": 80,
      "metadata": {
        "id": "8ozmsT8U9ReE"
      },
      "outputs": [],
      "source": [
        "from openai import OpenAI\n",
        "\n",
        "def graph_rag_slm(user_query,llm_url):\n",
        "  question = \"\"\n",
        "\n",
        "\n",
        "  content = graph_rag(user_query)\n",
        "\n",
        "  messages = []\n",
        "  messages.append({\"role\": \"system\", \"content\": \"You are a helpful assistant to help the user with questions about the Android Device by giving step by step information based on user provided text\"})\n",
        "  messages.append({\"role\": \"user\", \"content\": f\"Answer the question: '{user_query}', using the given text, Dont use Serial number for steps\"})\n",
        "  messages.append({\"role\":\"user\",\"content\":content})\n",
        "  client = OpenAI(base_url=llm_url, api_key=\"sk-xxx\")\n",
        "  response = client.chat.completions.create(\n",
        "      model=\"xxxxx-x_xx-xxxxxx\",\n",
        "      messages=messages,\n",
        "  )\n",
        "  return response.choices[0].message.content\n"
      ]
    },
    {
      "cell_type": "code",
      "source": [
        "gemini2b_response = graph_rag_slm(\"How to send an Email?\",\"http://localhost:8081/v1\")"
      ],
      "metadata": {
        "id": "7--6sNMVPhM5"
      },
      "execution_count": 88,
      "outputs": []
    },
    {
      "cell_type": "code",
      "source": [
        "# render markdown variable\n",
        "from IPython.display import display, Markdown\n",
        "display(Markdown(gemini2b_response))\n"
      ],
      "metadata": {
        "colab": {
          "base_uri": "https://localhost:8080/",
          "height": 361
        },
        "id": "HB9HkQog2ibU",
        "outputId": "c11ee3d2-68dc-440a-a8ca-4832800a303e"
      },
      "execution_count": 89,
      "outputs": [
        {
          "output_type": "display_data",
          "data": {
            "text/plain": [
              "<IPython.core.display.Markdown object>"
            ],
            "text/markdown": "Here's how to send an email on your Android device:\n\n**1. Find the Email App:**\n\n* Look for the \"Email\" app on your home screen or in the \"Apps\" menu. It's usually a recognizable icon with an envelope.\n\n**2. Open the Email App:**\n\n* Tap on the \"Email\" app icon to open it.\n\n**3. Add an Email Account:**\n\n* If you haven't already, you'll need to add your email account.  \n    * You'll likely be prompted to enter your email address and password. \n    * Follow the on-screen instructions to complete the setup.\n\n**4. Compose a New Email:**\n\n* Once your account is set up, you'll see a screen where you can compose a new email.\n* You can add a recipient's email address, subject line, and message body.\n\n**5. Send the Email:**\n\n* Once you've written your email, tap the \"Send\" button. \n\n\nThat's it! You've successfully sent an email. \n<end_of_turn>"
          },
          "metadata": {}
        }
      ]
    },
    {
      "cell_type": "code",
      "source": [
        "qwen_response = graph_rag_slm(\"How to turn on GPS?\",\"http://localhost:9095/v1\")"
      ],
      "metadata": {
        "id": "_Rww12nvPF75"
      },
      "execution_count": 86,
      "outputs": []
    },
    {
      "cell_type": "code",
      "source": [
        "# render markdown variable\n",
        "from IPython.display import display, Markdown\n",
        "display(Markdown(qwen_response))\n"
      ],
      "metadata": {
        "colab": {
          "base_uri": "https://localhost:8080/",
          "height": 395
        },
        "id": "8HQxtImyOsDz",
        "outputId": "d816ca84-10bd-4f0a-fc0b-4243c641b62c"
      },
      "execution_count": 87,
      "outputs": [
        {
          "output_type": "display_data",
          "data": {
            "text/plain": [
              "<IPython.core.display.Markdown object>"
            ],
            "text/markdown": "In order to turn on GPS, you should follow these steps:\n\nStep-1: Apps - The \"Apps\" menu is a central hub for all your device's software. You can use this menu to manage installed apps, create folders to organize them, and potentially update or delete them.\n\nStep-2: Samsung Apps - These pre-installed applications offer various functionalities such as managing contacts and emails, taking photos, and browsing the web. They include tools like Samsung Notes, Samsung Internet, and Samsung Pay, providing an integrated user experience within the Samsung ecosystem.\n\nStep-3: Email - The \"Email\" app allows you to access and manage all your email accounts in one place. It provides a unified inbox for easy viewing and organization of messages, making it simple and straightforward to add new accounts.\n\nIf you are referring to the GPS functionality on your phone, you can try these steps:\n\nStep-1: Apps - In the \"Apps\" menu, navigate to the \"Location\" or \"Maps\" option. This will give you a list of various location services, including GPS tracking. Select one of those options and make sure it's turned on.\n\nFor instance, if your phone has GPS enabled by default, this step may be redundant. If not, check for an application such as Maps or Google Maps that offers GPS functionality and ensure it's enabled.\n\nStep-2: Samsung Apps - Find the \"GPS\" option within Samsung apps, which is often found in the device settings menu. This will usually give you options to turn on, off or customize the GPS service.\n\nStep-3: Email - In the \"Email\" app, navigate through your account management tools if necessary (e.g., Gmail) to ensure that the 'Location' option is activated and properly enabled for your email account.\n\nIf all else fails, refer to the device manufacturer's documentation or consult online forums for specific device models. They might have detailed instructions on how to set up GPS functionality."
          },
          "metadata": {}
        }
      ]
    },
    {
      "cell_type": "code",
      "source": [],
      "metadata": {
        "id": "wc-3QXuuRZ-y"
      },
      "execution_count": null,
      "outputs": []
    }
  ],
  "metadata": {
    "colab": {
      "collapsed_sections": [
        "7A0IFOPl5s0f",
        "7ZIhMTFtLBbR",
        "FhD2zJgXLFx5",
        "fJfjcvVJhcHL",
        "nSl6Pgu0h_wu",
        "H5f4UsysnsDj",
        "6ZndRDfLnlXW"
      ],
      "provenance": []
    },
    "kernelspec": {
      "display_name": "Python 3",
      "name": "python3"
    },
    "language_info": {
      "name": "python"
    },
    "widgets": {
      "application/vnd.jupyter.widget-state+json": {
        "89b4206da97042be820eb865398b6fa1": {
          "model_module": "yfiles-jupyter-graphs",
          "model_name": "GraphModel",
          "model_module_version": "^1.10.3",
          "state": {
            "_context_pane_mapping": [
              {
                "id": "Neighborhood",
                "title": "Neighborhood"
              },
              {
                "id": "Data",
                "title": "Data"
              },
              {
                "id": "Search",
                "title": "Search"
              },
              {
                "id": "About",
                "title": "About"
              }
            ],
            "_data_importer": "networkx",
            "_directed": false,
            "_dom_classes": [],
            "_edges": [
              {
                "id": 0,
                "start": 0,
                "end": 1,
                "properties": {
                  "_src": {
                    "offset": 0,
                    "table": 0
                  },
                  "_dst": {
                    "offset": 1,
                    "table": 0
                  },
                  "_label": "Links",
                  "_id": {
                    "offset": 0,
                    "table": 1
                  }
                },
                "color": "#15AFAC",
                "thickness_factor": 1,
                "directed": false,
                "styles": {},
                "label": ""
              },
              {
                "id": 1,
                "start": 0,
                "end": 1,
                "properties": {
                  "_src": {
                    "offset": 0,
                    "table": 0
                  },
                  "_dst": {
                    "offset": 1,
                    "table": 0
                  },
                  "_label": "Links",
                  "_id": {
                    "offset": 11,
                    "table": 1
                  }
                },
                "color": "#15AFAC",
                "thickness_factor": 1,
                "directed": false,
                "styles": {},
                "label": ""
              },
              {
                "id": 2,
                "start": 0,
                "end": 1,
                "properties": {
                  "_src": {
                    "offset": 0,
                    "table": 0
                  },
                  "_dst": {
                    "offset": 1,
                    "table": 0
                  },
                  "_label": "Links",
                  "_id": {
                    "offset": 17,
                    "table": 1
                  }
                },
                "color": "#15AFAC",
                "thickness_factor": 1,
                "directed": false,
                "styles": {},
                "label": ""
              },
              {
                "id": 3,
                "start": 0,
                "end": 1,
                "properties": {
                  "_src": {
                    "offset": 0,
                    "table": 0
                  },
                  "_dst": {
                    "offset": 1,
                    "table": 0
                  },
                  "_label": "Links",
                  "_id": {
                    "offset": 20,
                    "table": 1
                  }
                },
                "color": "#15AFAC",
                "thickness_factor": 1,
                "directed": false,
                "styles": {},
                "label": ""
              },
              {
                "id": 4,
                "start": 0,
                "end": 1,
                "properties": {
                  "_src": {
                    "offset": 0,
                    "table": 0
                  },
                  "_dst": {
                    "offset": 1,
                    "table": 0
                  },
                  "_label": "Links",
                  "_id": {
                    "offset": 29,
                    "table": 1
                  }
                },
                "color": "#15AFAC",
                "thickness_factor": 1,
                "directed": false,
                "styles": {},
                "label": ""
              },
              {
                "id": 5,
                "start": 0,
                "end": 1,
                "properties": {
                  "_src": {
                    "offset": 0,
                    "table": 0
                  },
                  "_dst": {
                    "offset": 1,
                    "table": 0
                  },
                  "_label": "Links",
                  "_id": {
                    "offset": 36,
                    "table": 1
                  }
                },
                "color": "#15AFAC",
                "thickness_factor": 1,
                "directed": false,
                "styles": {},
                "label": ""
              },
              {
                "id": 6,
                "start": 0,
                "end": 1,
                "properties": {
                  "_src": {
                    "offset": 0,
                    "table": 0
                  },
                  "_dst": {
                    "offset": 1,
                    "table": 0
                  },
                  "_label": "Links",
                  "_id": {
                    "offset": 38,
                    "table": 1
                  }
                },
                "color": "#15AFAC",
                "thickness_factor": 1,
                "directed": false,
                "styles": {},
                "label": ""
              },
              {
                "id": 7,
                "start": 0,
                "end": 1,
                "properties": {
                  "_src": {
                    "offset": 0,
                    "table": 0
                  },
                  "_dst": {
                    "offset": 1,
                    "table": 0
                  },
                  "_label": "Links",
                  "_id": {
                    "offset": 47,
                    "table": 1
                  }
                },
                "color": "#15AFAC",
                "thickness_factor": 1,
                "directed": false,
                "styles": {},
                "label": ""
              },
              {
                "id": 8,
                "start": 0,
                "end": 1,
                "properties": {
                  "_src": {
                    "offset": 0,
                    "table": 0
                  },
                  "_dst": {
                    "offset": 1,
                    "table": 0
                  },
                  "_label": "Links",
                  "_id": {
                    "offset": 56,
                    "table": 1
                  }
                },
                "color": "#15AFAC",
                "thickness_factor": 1,
                "directed": false,
                "styles": {},
                "label": ""
              },
              {
                "id": 9,
                "start": 0,
                "end": 1,
                "properties": {
                  "_src": {
                    "offset": 0,
                    "table": 0
                  },
                  "_dst": {
                    "offset": 1,
                    "table": 0
                  },
                  "_label": "Links",
                  "_id": {
                    "offset": 59,
                    "table": 1
                  }
                },
                "color": "#15AFAC",
                "thickness_factor": 1,
                "directed": false,
                "styles": {},
                "label": ""
              },
              {
                "id": 10,
                "start": 0,
                "end": 1,
                "properties": {
                  "_src": {
                    "offset": 0,
                    "table": 0
                  },
                  "_dst": {
                    "offset": 1,
                    "table": 0
                  },
                  "_label": "Links",
                  "_id": {
                    "offset": 65,
                    "table": 1
                  }
                },
                "color": "#15AFAC",
                "thickness_factor": 1,
                "directed": false,
                "styles": {},
                "label": ""
              },
              {
                "id": 11,
                "start": 0,
                "end": 1,
                "properties": {
                  "_src": {
                    "offset": 0,
                    "table": 0
                  },
                  "_dst": {
                    "offset": 1,
                    "table": 0
                  },
                  "_label": "Links",
                  "_id": {
                    "offset": 71,
                    "table": 1
                  }
                },
                "color": "#15AFAC",
                "thickness_factor": 1,
                "directed": false,
                "styles": {},
                "label": ""
              },
              {
                "id": 12,
                "start": 0,
                "end": 1,
                "properties": {
                  "_src": {
                    "offset": 0,
                    "table": 0
                  },
                  "_dst": {
                    "offset": 1,
                    "table": 0
                  },
                  "_label": "Links",
                  "_id": {
                    "offset": 75,
                    "table": 1
                  }
                },
                "color": "#15AFAC",
                "thickness_factor": 1,
                "directed": false,
                "styles": {},
                "label": ""
              },
              {
                "id": 13,
                "start": 0,
                "end": 1,
                "properties": {
                  "_src": {
                    "offset": 0,
                    "table": 0
                  },
                  "_dst": {
                    "offset": 1,
                    "table": 0
                  },
                  "_label": "Links",
                  "_id": {
                    "offset": 77,
                    "table": 1
                  }
                },
                "color": "#15AFAC",
                "thickness_factor": 1,
                "directed": false,
                "styles": {},
                "label": ""
              },
              {
                "id": 14,
                "start": 0,
                "end": 1,
                "properties": {
                  "_src": {
                    "offset": 0,
                    "table": 0
                  },
                  "_dst": {
                    "offset": 1,
                    "table": 0
                  },
                  "_label": "Links",
                  "_id": {
                    "offset": 97,
                    "table": 1
                  }
                },
                "color": "#15AFAC",
                "thickness_factor": 1,
                "directed": false,
                "styles": {},
                "label": ""
              },
              {
                "id": 15,
                "start": 0,
                "end": 1,
                "properties": {
                  "_src": {
                    "offset": 0,
                    "table": 0
                  },
                  "_dst": {
                    "offset": 1,
                    "table": 0
                  },
                  "_label": "Links",
                  "_id": {
                    "offset": 102,
                    "table": 1
                  }
                },
                "color": "#15AFAC",
                "thickness_factor": 1,
                "directed": false,
                "styles": {},
                "label": ""
              },
              {
                "id": 16,
                "start": 0,
                "end": 1,
                "properties": {
                  "_src": {
                    "offset": 0,
                    "table": 0
                  },
                  "_dst": {
                    "offset": 1,
                    "table": 0
                  },
                  "_label": "Links",
                  "_id": {
                    "offset": 105,
                    "table": 1
                  }
                },
                "color": "#15AFAC",
                "thickness_factor": 1,
                "directed": false,
                "styles": {},
                "label": ""
              },
              {
                "id": 17,
                "start": 0,
                "end": 1,
                "properties": {
                  "_src": {
                    "offset": 0,
                    "table": 0
                  },
                  "_dst": {
                    "offset": 1,
                    "table": 0
                  },
                  "_label": "Links",
                  "_id": {
                    "offset": 108,
                    "table": 1
                  }
                },
                "color": "#15AFAC",
                "thickness_factor": 1,
                "directed": false,
                "styles": {},
                "label": ""
              },
              {
                "id": 18,
                "start": 0,
                "end": 1,
                "properties": {
                  "_src": {
                    "offset": 0,
                    "table": 0
                  },
                  "_dst": {
                    "offset": 1,
                    "table": 0
                  },
                  "_label": "Links",
                  "_id": {
                    "offset": 111,
                    "table": 1
                  }
                },
                "color": "#15AFAC",
                "thickness_factor": 1,
                "directed": false,
                "styles": {},
                "label": ""
              },
              {
                "id": 19,
                "start": 0,
                "end": 2,
                "properties": {
                  "_src": {
                    "offset": 0,
                    "table": 0
                  },
                  "_dst": {
                    "offset": 35,
                    "table": 0
                  },
                  "_label": "Links",
                  "_id": {
                    "offset": 41,
                    "table": 1
                  }
                },
                "color": "#15AFAC",
                "thickness_factor": 1,
                "directed": false,
                "styles": {},
                "label": ""
              },
              {
                "id": 20,
                "start": 0,
                "end": 2,
                "properties": {
                  "_src": {
                    "offset": 0,
                    "table": 0
                  },
                  "_dst": {
                    "offset": 35,
                    "table": 0
                  },
                  "_label": "Links",
                  "_id": {
                    "offset": 54,
                    "table": 1
                  }
                },
                "color": "#15AFAC",
                "thickness_factor": 1,
                "directed": false,
                "styles": {},
                "label": ""
              },
              {
                "id": 21,
                "start": 0,
                "end": 2,
                "properties": {
                  "_src": {
                    "offset": 0,
                    "table": 0
                  },
                  "_dst": {
                    "offset": 35,
                    "table": 0
                  },
                  "_label": "Links",
                  "_id": {
                    "offset": 73,
                    "table": 1
                  }
                },
                "color": "#15AFAC",
                "thickness_factor": 1,
                "directed": false,
                "styles": {},
                "label": ""
              },
              {
                "id": 22,
                "start": 0,
                "end": 3,
                "properties": {
                  "_src": {
                    "offset": 0,
                    "table": 0
                  },
                  "_dst": {
                    "offset": 66,
                    "table": 0
                  },
                  "_label": "Links",
                  "_id": {
                    "offset": 119,
                    "table": 1
                  }
                },
                "color": "#15AFAC",
                "thickness_factor": 1,
                "directed": false,
                "styles": {},
                "label": ""
              },
              {
                "id": 23,
                "start": 1,
                "end": 4,
                "properties": {
                  "_src": {
                    "offset": 1,
                    "table": 0
                  },
                  "_dst": {
                    "offset": 2,
                    "table": 0
                  },
                  "_label": "Links",
                  "_id": {
                    "offset": 1,
                    "table": 1
                  }
                },
                "color": "#15AFAC",
                "thickness_factor": 1,
                "directed": false,
                "styles": {},
                "label": ""
              },
              {
                "id": 24,
                "start": 1,
                "end": 4,
                "properties": {
                  "_src": {
                    "offset": 1,
                    "table": 0
                  },
                  "_dst": {
                    "offset": 2,
                    "table": 0
                  },
                  "_label": "Links",
                  "_id": {
                    "offset": 60,
                    "table": 1
                  }
                },
                "color": "#15AFAC",
                "thickness_factor": 1,
                "directed": false,
                "styles": {},
                "label": ""
              },
              {
                "id": 25,
                "start": 1,
                "end": 4,
                "properties": {
                  "_src": {
                    "offset": 1,
                    "table": 0
                  },
                  "_dst": {
                    "offset": 2,
                    "table": 0
                  },
                  "_label": "Links",
                  "_id": {
                    "offset": 66,
                    "table": 1
                  }
                },
                "color": "#15AFAC",
                "thickness_factor": 1,
                "directed": false,
                "styles": {},
                "label": ""
              },
              {
                "id": 26,
                "start": 1,
                "end": 4,
                "properties": {
                  "_src": {
                    "offset": 1,
                    "table": 0
                  },
                  "_dst": {
                    "offset": 2,
                    "table": 0
                  },
                  "_label": "Links",
                  "_id": {
                    "offset": 103,
                    "table": 1
                  }
                },
                "color": "#15AFAC",
                "thickness_factor": 1,
                "directed": false,
                "styles": {},
                "label": ""
              },
              {
                "id": 27,
                "start": 1,
                "end": 5,
                "properties": {
                  "_src": {
                    "offset": 1,
                    "table": 0
                  },
                  "_dst": {
                    "offset": 13,
                    "table": 0
                  },
                  "_label": "Links",
                  "_id": {
                    "offset": 12,
                    "table": 1
                  }
                },
                "color": "#15AFAC",
                "thickness_factor": 1,
                "directed": false,
                "styles": {},
                "label": ""
              },
              {
                "id": 28,
                "start": 1,
                "end": 5,
                "properties": {
                  "_src": {
                    "offset": 1,
                    "table": 0
                  },
                  "_dst": {
                    "offset": 13,
                    "table": 0
                  },
                  "_label": "Links",
                  "_id": {
                    "offset": 109,
                    "table": 1
                  }
                },
                "color": "#15AFAC",
                "thickness_factor": 1,
                "directed": false,
                "styles": {},
                "label": ""
              },
              {
                "id": 29,
                "start": 1,
                "end": 6,
                "properties": {
                  "_src": {
                    "offset": 1,
                    "table": 0
                  },
                  "_dst": {
                    "offset": 18,
                    "table": 0
                  },
                  "_label": "Links",
                  "_id": {
                    "offset": 18,
                    "table": 1
                  }
                },
                "color": "#15AFAC",
                "thickness_factor": 1,
                "directed": false,
                "styles": {},
                "label": ""
              },
              {
                "id": 30,
                "start": 1,
                "end": 6,
                "properties": {
                  "_src": {
                    "offset": 1,
                    "table": 0
                  },
                  "_dst": {
                    "offset": 18,
                    "table": 0
                  },
                  "_label": "Links",
                  "_id": {
                    "offset": 57,
                    "table": 1
                  }
                },
                "color": "#15AFAC",
                "thickness_factor": 1,
                "directed": false,
                "styles": {},
                "label": ""
              },
              {
                "id": 31,
                "start": 1,
                "end": 6,
                "properties": {
                  "_src": {
                    "offset": 1,
                    "table": 0
                  },
                  "_dst": {
                    "offset": 18,
                    "table": 0
                  },
                  "_label": "Links",
                  "_id": {
                    "offset": 106,
                    "table": 1
                  }
                },
                "color": "#15AFAC",
                "thickness_factor": 1,
                "directed": false,
                "styles": {},
                "label": ""
              },
              {
                "id": 32,
                "start": 1,
                "end": 7,
                "properties": {
                  "_src": {
                    "offset": 1,
                    "table": 0
                  },
                  "_dst": {
                    "offset": 20,
                    "table": 0
                  },
                  "_label": "Links",
                  "_id": {
                    "offset": 21,
                    "table": 1
                  }
                },
                "color": "#15AFAC",
                "thickness_factor": 1,
                "directed": false,
                "styles": {},
                "label": ""
              },
              {
                "id": 33,
                "start": 1,
                "end": 7,
                "properties": {
                  "_src": {
                    "offset": 1,
                    "table": 0
                  },
                  "_dst": {
                    "offset": 20,
                    "table": 0
                  },
                  "_label": "Links",
                  "_id": {
                    "offset": 48,
                    "table": 1
                  }
                },
                "color": "#15AFAC",
                "thickness_factor": 1,
                "directed": false,
                "styles": {},
                "label": ""
              },
              {
                "id": 34,
                "start": 1,
                "end": 7,
                "properties": {
                  "_src": {
                    "offset": 1,
                    "table": 0
                  },
                  "_dst": {
                    "offset": 20,
                    "table": 0
                  },
                  "_label": "Links",
                  "_id": {
                    "offset": 98,
                    "table": 1
                  }
                },
                "color": "#15AFAC",
                "thickness_factor": 1,
                "directed": false,
                "styles": {},
                "label": ""
              },
              {
                "id": 35,
                "start": 1,
                "end": 8,
                "properties": {
                  "_src": {
                    "offset": 1,
                    "table": 0
                  },
                  "_dst": {
                    "offset": 27,
                    "table": 0
                  },
                  "_label": "Links",
                  "_id": {
                    "offset": 30,
                    "table": 1
                  }
                },
                "color": "#15AFAC",
                "thickness_factor": 1,
                "directed": false,
                "styles": {},
                "label": ""
              },
              {
                "id": 36,
                "start": 1,
                "end": 9,
                "properties": {
                  "_src": {
                    "offset": 1,
                    "table": 0
                  },
                  "_dst": {
                    "offset": 32,
                    "table": 0
                  },
                  "_label": "Links",
                  "_id": {
                    "offset": 37,
                    "table": 1
                  }
                },
                "color": "#15AFAC",
                "thickness_factor": 1,
                "directed": false,
                "styles": {},
                "label": ""
              },
              {
                "id": 37,
                "start": 1,
                "end": 10,
                "properties": {
                  "_src": {
                    "offset": 1,
                    "table": 0
                  },
                  "_dst": {
                    "offset": 33,
                    "table": 0
                  },
                  "_label": "Links",
                  "_id": {
                    "offset": 39,
                    "table": 1
                  }
                },
                "color": "#15AFAC",
                "thickness_factor": 1,
                "directed": false,
                "styles": {},
                "label": ""
              },
              {
                "id": 38,
                "start": 1,
                "end": 10,
                "properties": {
                  "_src": {
                    "offset": 1,
                    "table": 0
                  },
                  "_dst": {
                    "offset": 33,
                    "table": 0
                  },
                  "_label": "Links",
                  "_id": {
                    "offset": 78,
                    "table": 1
                  }
                },
                "color": "#15AFAC",
                "thickness_factor": 1,
                "directed": false,
                "styles": {},
                "label": ""
              },
              {
                "id": 39,
                "start": 1,
                "end": 10,
                "properties": {
                  "_src": {
                    "offset": 1,
                    "table": 0
                  },
                  "_dst": {
                    "offset": 33,
                    "table": 0
                  },
                  "_label": "Links",
                  "_id": {
                    "offset": 112,
                    "table": 1
                  }
                },
                "color": "#15AFAC",
                "thickness_factor": 1,
                "directed": false,
                "styles": {},
                "label": ""
              },
              {
                "id": 40,
                "start": 1,
                "end": 11,
                "properties": {
                  "_src": {
                    "offset": 1,
                    "table": 0
                  },
                  "_dst": {
                    "offset": 48,
                    "table": 0
                  },
                  "_label": "Links",
                  "_id": {
                    "offset": 72,
                    "table": 1
                  }
                },
                "color": "#15AFAC",
                "thickness_factor": 1,
                "directed": false,
                "styles": {},
                "label": ""
              },
              {
                "id": 41,
                "start": 1,
                "end": 12,
                "properties": {
                  "_src": {
                    "offset": 1,
                    "table": 0
                  },
                  "_dst": {
                    "offset": 49,
                    "table": 0
                  },
                  "_label": "Links",
                  "_id": {
                    "offset": 76,
                    "table": 1
                  }
                },
                "color": "#15AFAC",
                "thickness_factor": 1,
                "directed": false,
                "styles": {},
                "label": ""
              },
              {
                "id": 42,
                "start": 2,
                "end": 61,
                "properties": {
                  "_src": {
                    "offset": 35,
                    "table": 0
                  },
                  "_dst": {
                    "offset": 36,
                    "table": 0
                  },
                  "_label": "Links",
                  "_id": {
                    "offset": 42,
                    "table": 1
                  }
                },
                "color": "#15AFAC",
                "thickness_factor": 1,
                "directed": false,
                "styles": {},
                "label": ""
              },
              {
                "id": 43,
                "start": 2,
                "end": 62,
                "properties": {
                  "_src": {
                    "offset": 35,
                    "table": 0
                  },
                  "_dst": {
                    "offset": 43,
                    "table": 0
                  },
                  "_label": "Links",
                  "_id": {
                    "offset": 55,
                    "table": 1
                  }
                },
                "color": "#15AFAC",
                "thickness_factor": 1,
                "directed": false,
                "styles": {},
                "label": ""
              },
              {
                "id": 44,
                "start": 2,
                "end": 62,
                "properties": {
                  "_src": {
                    "offset": 35,
                    "table": 0
                  },
                  "_dst": {
                    "offset": 43,
                    "table": 0
                  },
                  "_label": "Links",
                  "_id": {
                    "offset": 74,
                    "table": 1
                  }
                },
                "color": "#15AFAC",
                "thickness_factor": 1,
                "directed": false,
                "styles": {},
                "label": ""
              },
              {
                "id": 45,
                "start": 3,
                "end": 70,
                "properties": {
                  "_src": {
                    "offset": 66,
                    "table": 0
                  },
                  "_dst": {
                    "offset": 67,
                    "table": 0
                  },
                  "_label": "Links",
                  "_id": {
                    "offset": 120,
                    "table": 1
                  }
                },
                "color": "#15AFAC",
                "thickness_factor": 1,
                "directed": false,
                "styles": {},
                "label": ""
              },
              {
                "id": 46,
                "start": 4,
                "end": 13,
                "properties": {
                  "_src": {
                    "offset": 2,
                    "table": 0
                  },
                  "_dst": {
                    "offset": 3,
                    "table": 0
                  },
                  "_label": "Links",
                  "_id": {
                    "offset": 2,
                    "table": 1
                  }
                },
                "color": "#15AFAC",
                "thickness_factor": 1,
                "directed": false,
                "styles": {},
                "label": ""
              },
              {
                "id": 47,
                "start": 4,
                "end": 13,
                "properties": {
                  "_src": {
                    "offset": 2,
                    "table": 0
                  },
                  "_dst": {
                    "offset": 3,
                    "table": 0
                  },
                  "_label": "Links",
                  "_id": {
                    "offset": 67,
                    "table": 1
                  }
                },
                "color": "#15AFAC",
                "thickness_factor": 1,
                "directed": false,
                "styles": {},
                "label": ""
              },
              {
                "id": 48,
                "start": 4,
                "end": 13,
                "properties": {
                  "_src": {
                    "offset": 2,
                    "table": 0
                  },
                  "_dst": {
                    "offset": 3,
                    "table": 0
                  },
                  "_label": "Links",
                  "_id": {
                    "offset": 104,
                    "table": 1
                  }
                },
                "color": "#15AFAC",
                "thickness_factor": 1,
                "directed": false,
                "styles": {},
                "label": ""
              },
              {
                "id": 49,
                "start": 4,
                "end": 14,
                "properties": {
                  "_src": {
                    "offset": 2,
                    "table": 0
                  },
                  "_dst": {
                    "offset": 45,
                    "table": 0
                  },
                  "_label": "Links",
                  "_id": {
                    "offset": 61,
                    "table": 1
                  }
                },
                "color": "#15AFAC",
                "thickness_factor": 1,
                "directed": false,
                "styles": {},
                "label": ""
              },
              {
                "id": 50,
                "start": 5,
                "end": 38,
                "properties": {
                  "_src": {
                    "offset": 13,
                    "table": 0
                  },
                  "_dst": {
                    "offset": 14,
                    "table": 0
                  },
                  "_label": "Links",
                  "_id": {
                    "offset": 13,
                    "table": 1
                  }
                },
                "color": "#15AFAC",
                "thickness_factor": 1,
                "directed": false,
                "styles": {},
                "label": ""
              },
              {
                "id": 51,
                "start": 5,
                "end": 39,
                "properties": {
                  "_src": {
                    "offset": 13,
                    "table": 0
                  },
                  "_dst": {
                    "offset": 63,
                    "table": 0
                  },
                  "_label": "Links",
                  "_id": {
                    "offset": 110,
                    "table": 1
                  }
                },
                "color": "#15AFAC",
                "thickness_factor": 1,
                "directed": false,
                "styles": {},
                "label": ""
              },
              {
                "id": 52,
                "start": 6,
                "end": 43,
                "properties": {
                  "_src": {
                    "offset": 18,
                    "table": 0
                  },
                  "_dst": {
                    "offset": 19,
                    "table": 0
                  },
                  "_label": "Links",
                  "_id": {
                    "offset": 19,
                    "table": 1
                  }
                },
                "color": "#15AFAC",
                "thickness_factor": 1,
                "directed": false,
                "styles": {},
                "label": ""
              },
              {
                "id": 53,
                "start": 6,
                "end": 43,
                "properties": {
                  "_src": {
                    "offset": 18,
                    "table": 0
                  },
                  "_dst": {
                    "offset": 19,
                    "table": 0
                  },
                  "_label": "Links",
                  "_id": {
                    "offset": 107,
                    "table": 1
                  }
                },
                "color": "#15AFAC",
                "thickness_factor": 1,
                "directed": false,
                "styles": {},
                "label": ""
              },
              {
                "id": 54,
                "start": 6,
                "end": 44,
                "properties": {
                  "_src": {
                    "offset": 18,
                    "table": 0
                  },
                  "_dst": {
                    "offset": 44,
                    "table": 0
                  },
                  "_label": "Links",
                  "_id": {
                    "offset": 58,
                    "table": 1
                  }
                },
                "color": "#15AFAC",
                "thickness_factor": 1,
                "directed": false,
                "styles": {},
                "label": ""
              },
              {
                "id": 55,
                "start": 7,
                "end": 45,
                "properties": {
                  "_src": {
                    "offset": 20,
                    "table": 0
                  },
                  "_dst": {
                    "offset": 21,
                    "table": 0
                  },
                  "_label": "Links",
                  "_id": {
                    "offset": 22,
                    "table": 1
                  }
                },
                "color": "#15AFAC",
                "thickness_factor": 1,
                "directed": false,
                "styles": {},
                "label": ""
              },
              {
                "id": 56,
                "start": 7,
                "end": 46,
                "properties": {
                  "_src": {
                    "offset": 20,
                    "table": 0
                  },
                  "_dst": {
                    "offset": 40,
                    "table": 0
                  },
                  "_label": "Links",
                  "_id": {
                    "offset": 49,
                    "table": 1
                  }
                },
                "color": "#15AFAC",
                "thickness_factor": 1,
                "directed": false,
                "styles": {},
                "label": ""
              },
              {
                "id": 57,
                "start": 7,
                "end": 47,
                "properties": {
                  "_src": {
                    "offset": 20,
                    "table": 0
                  },
                  "_dst": {
                    "offset": 61,
                    "table": 0
                  },
                  "_label": "Links",
                  "_id": {
                    "offset": 99,
                    "table": 1
                  }
                },
                "color": "#15AFAC",
                "thickness_factor": 1,
                "directed": false,
                "styles": {},
                "label": ""
              },
              {
                "id": 58,
                "start": 10,
                "end": 58,
                "properties": {
                  "_src": {
                    "offset": 33,
                    "table": 0
                  },
                  "_dst": {
                    "offset": 34,
                    "table": 0
                  },
                  "_label": "Links",
                  "_id": {
                    "offset": 40,
                    "table": 1
                  }
                },
                "color": "#15AFAC",
                "thickness_factor": 1,
                "directed": false,
                "styles": {},
                "label": ""
              },
              {
                "id": 59,
                "start": 10,
                "end": 59,
                "properties": {
                  "_src": {
                    "offset": 33,
                    "table": 0
                  },
                  "_dst": {
                    "offset": 50,
                    "table": 0
                  },
                  "_label": "Links",
                  "_id": {
                    "offset": 79,
                    "table": 1
                  }
                },
                "color": "#15AFAC",
                "thickness_factor": 1,
                "directed": false,
                "styles": {},
                "label": ""
              },
              {
                "id": 60,
                "start": 10,
                "end": 60,
                "properties": {
                  "_src": {
                    "offset": 33,
                    "table": 0
                  },
                  "_dst": {
                    "offset": 64,
                    "table": 0
                  },
                  "_label": "Links",
                  "_id": {
                    "offset": 113,
                    "table": 1
                  }
                },
                "color": "#15AFAC",
                "thickness_factor": 1,
                "directed": false,
                "styles": {},
                "label": ""
              },
              {
                "id": 61,
                "start": 15,
                "end": 16,
                "properties": {
                  "_src": {
                    "offset": 4,
                    "table": 0
                  },
                  "_dst": {
                    "offset": 5,
                    "table": 0
                  },
                  "_label": "Links",
                  "_id": {
                    "offset": 3,
                    "table": 1
                  }
                },
                "color": "#15AFAC",
                "thickness_factor": 1,
                "directed": false,
                "styles": {},
                "label": ""
              },
              {
                "id": 62,
                "start": 15,
                "end": 16,
                "properties": {
                  "_src": {
                    "offset": 4,
                    "table": 0
                  },
                  "_dst": {
                    "offset": 5,
                    "table": 0
                  },
                  "_label": "Links",
                  "_id": {
                    "offset": 8,
                    "table": 1
                  }
                },
                "color": "#15AFAC",
                "thickness_factor": 1,
                "directed": false,
                "styles": {},
                "label": ""
              },
              {
                "id": 63,
                "start": 15,
                "end": 16,
                "properties": {
                  "_src": {
                    "offset": 4,
                    "table": 0
                  },
                  "_dst": {
                    "offset": 5,
                    "table": 0
                  },
                  "_label": "Links",
                  "_id": {
                    "offset": 45,
                    "table": 1
                  }
                },
                "color": "#15AFAC",
                "thickness_factor": 1,
                "directed": false,
                "styles": {},
                "label": ""
              },
              {
                "id": 64,
                "start": 15,
                "end": 16,
                "properties": {
                  "_src": {
                    "offset": 4,
                    "table": 0
                  },
                  "_dst": {
                    "offset": 5,
                    "table": 0
                  },
                  "_label": "Links",
                  "_id": {
                    "offset": 50,
                    "table": 1
                  }
                },
                "color": "#15AFAC",
                "thickness_factor": 1,
                "directed": false,
                "styles": {},
                "label": ""
              },
              {
                "id": 65,
                "start": 15,
                "end": 16,
                "properties": {
                  "_src": {
                    "offset": 4,
                    "table": 0
                  },
                  "_dst": {
                    "offset": 5,
                    "table": 0
                  },
                  "_label": "Links",
                  "_id": {
                    "offset": 68,
                    "table": 1
                  }
                },
                "color": "#15AFAC",
                "thickness_factor": 1,
                "directed": false,
                "styles": {},
                "label": ""
              },
              {
                "id": 66,
                "start": 15,
                "end": 16,
                "properties": {
                  "_src": {
                    "offset": 4,
                    "table": 0
                  },
                  "_dst": {
                    "offset": 5,
                    "table": 0
                  },
                  "_label": "Links",
                  "_id": {
                    "offset": 92,
                    "table": 1
                  }
                },
                "color": "#15AFAC",
                "thickness_factor": 1,
                "directed": false,
                "styles": {},
                "label": ""
              },
              {
                "id": 67,
                "start": 15,
                "end": 16,
                "properties": {
                  "_src": {
                    "offset": 4,
                    "table": 0
                  },
                  "_dst": {
                    "offset": 5,
                    "table": 0
                  },
                  "_label": "Links",
                  "_id": {
                    "offset": 128,
                    "table": 1
                  }
                },
                "color": "#15AFAC",
                "thickness_factor": 1,
                "directed": false,
                "styles": {},
                "label": ""
              },
              {
                "id": 68,
                "start": 15,
                "end": 17,
                "properties": {
                  "_src": {
                    "offset": 4,
                    "table": 0
                  },
                  "_dst": {
                    "offset": 15,
                    "table": 0
                  },
                  "_label": "Links",
                  "_id": {
                    "offset": 14,
                    "table": 1
                  }
                },
                "color": "#15AFAC",
                "thickness_factor": 1,
                "directed": false,
                "styles": {},
                "label": ""
              },
              {
                "id": 69,
                "start": 15,
                "end": 17,
                "properties": {
                  "_src": {
                    "offset": 4,
                    "table": 0
                  },
                  "_dst": {
                    "offset": 15,
                    "table": 0
                  },
                  "_label": "Links",
                  "_id": {
                    "offset": 100,
                    "table": 1
                  }
                },
                "color": "#15AFAC",
                "thickness_factor": 1,
                "directed": false,
                "styles": {},
                "label": ""
              },
              {
                "id": 70,
                "start": 15,
                "end": 18,
                "properties": {
                  "_src": {
                    "offset": 4,
                    "table": 0
                  },
                  "_dst": {
                    "offset": 24,
                    "table": 0
                  },
                  "_label": "Links",
                  "_id": {
                    "offset": 26,
                    "table": 1
                  }
                },
                "color": "#15AFAC",
                "thickness_factor": 1,
                "directed": false,
                "styles": {},
                "label": ""
              },
              {
                "id": 71,
                "start": 15,
                "end": 18,
                "properties": {
                  "_src": {
                    "offset": 4,
                    "table": 0
                  },
                  "_dst": {
                    "offset": 24,
                    "table": 0
                  },
                  "_label": "Links",
                  "_id": {
                    "offset": 52,
                    "table": 1
                  }
                },
                "color": "#15AFAC",
                "thickness_factor": 1,
                "directed": false,
                "styles": {},
                "label": ""
              },
              {
                "id": 72,
                "start": 15,
                "end": 18,
                "properties": {
                  "_src": {
                    "offset": 4,
                    "table": 0
                  },
                  "_dst": {
                    "offset": 24,
                    "table": 0
                  },
                  "_label": "Links",
                  "_id": {
                    "offset": 94,
                    "table": 1
                  }
                },
                "color": "#15AFAC",
                "thickness_factor": 1,
                "directed": false,
                "styles": {},
                "label": ""
              },
              {
                "id": 73,
                "start": 15,
                "end": 19,
                "properties": {
                  "_src": {
                    "offset": 4,
                    "table": 0
                  },
                  "_dst": {
                    "offset": 30,
                    "table": 0
                  },
                  "_label": "Links",
                  "_id": {
                    "offset": 34,
                    "table": 1
                  }
                },
                "color": "#15AFAC",
                "thickness_factor": 1,
                "directed": false,
                "styles": {},
                "label": ""
              },
              {
                "id": 74,
                "start": 15,
                "end": 20,
                "properties": {
                  "_src": {
                    "offset": 4,
                    "table": 0
                  },
                  "_dst": {
                    "offset": 37,
                    "table": 0
                  },
                  "_label": "Links",
                  "_id": {
                    "offset": 43,
                    "table": 1
                  }
                },
                "color": "#15AFAC",
                "thickness_factor": 1,
                "directed": false,
                "styles": {},
                "label": ""
              },
              {
                "id": 75,
                "start": 15,
                "end": 20,
                "properties": {
                  "_src": {
                    "offset": 4,
                    "table": 0
                  },
                  "_dst": {
                    "offset": 37,
                    "table": 0
                  },
                  "_label": "Links",
                  "_id": {
                    "offset": 117,
                    "table": 1
                  }
                },
                "color": "#15AFAC",
                "thickness_factor": 1,
                "directed": false,
                "styles": {},
                "label": ""
              },
              {
                "id": 76,
                "start": 15,
                "end": 21,
                "properties": {
                  "_src": {
                    "offset": 4,
                    "table": 0
                  },
                  "_dst": {
                    "offset": 51,
                    "table": 0
                  },
                  "_label": "Links",
                  "_id": {
                    "offset": 82,
                    "table": 1
                  }
                },
                "color": "#15AFAC",
                "thickness_factor": 1,
                "directed": false,
                "styles": {},
                "label": ""
              },
              {
                "id": 77,
                "start": 15,
                "end": 22,
                "properties": {
                  "_src": {
                    "offset": 4,
                    "table": 0
                  },
                  "_dst": {
                    "offset": 53,
                    "table": 0
                  },
                  "_label": "Links",
                  "_id": {
                    "offset": 84,
                    "table": 1
                  }
                },
                "color": "#15AFAC",
                "thickness_factor": 1,
                "directed": false,
                "styles": {},
                "label": ""
              },
              {
                "id": 78,
                "start": 15,
                "end": 23,
                "properties": {
                  "_src": {
                    "offset": 4,
                    "table": 0
                  },
                  "_dst": {
                    "offset": 56,
                    "table": 0
                  },
                  "_label": "Links",
                  "_id": {
                    "offset": 87,
                    "table": 1
                  }
                },
                "color": "#15AFAC",
                "thickness_factor": 1,
                "directed": false,
                "styles": {},
                "label": ""
              },
              {
                "id": 79,
                "start": 16,
                "end": 24,
                "properties": {
                  "_src": {
                    "offset": 5,
                    "table": 0
                  },
                  "_dst": {
                    "offset": 6,
                    "table": 0
                  },
                  "_label": "Links",
                  "_id": {
                    "offset": 4,
                    "table": 1
                  }
                },
                "color": "#15AFAC",
                "thickness_factor": 1,
                "directed": false,
                "styles": {},
                "label": ""
              },
              {
                "id": 80,
                "start": 16,
                "end": 25,
                "properties": {
                  "_src": {
                    "offset": 5,
                    "table": 0
                  },
                  "_dst": {
                    "offset": 11,
                    "table": 0
                  },
                  "_label": "Links",
                  "_id": {
                    "offset": 9,
                    "table": 1
                  }
                },
                "color": "#15AFAC",
                "thickness_factor": 1,
                "directed": false,
                "styles": {},
                "label": ""
              },
              {
                "id": 81,
                "start": 16,
                "end": 25,
                "properties": {
                  "_src": {
                    "offset": 5,
                    "table": 0
                  },
                  "_dst": {
                    "offset": 11,
                    "table": 0
                  },
                  "_label": "Links",
                  "_id": {
                    "offset": 69,
                    "table": 1
                  }
                },
                "color": "#15AFAC",
                "thickness_factor": 1,
                "directed": false,
                "styles": {},
                "label": ""
              },
              {
                "id": 82,
                "start": 16,
                "end": 26,
                "properties": {
                  "_src": {
                    "offset": 5,
                    "table": 0
                  },
                  "_dst": {
                    "offset": 39,
                    "table": 0
                  },
                  "_label": "Links",
                  "_id": {
                    "offset": 46,
                    "table": 1
                  }
                },
                "color": "#15AFAC",
                "thickness_factor": 1,
                "directed": false,
                "styles": {},
                "label": ""
              },
              {
                "id": 83,
                "start": 16,
                "end": 26,
                "properties": {
                  "_src": {
                    "offset": 5,
                    "table": 0
                  },
                  "_dst": {
                    "offset": 39,
                    "table": 0
                  },
                  "_label": "Links",
                  "_id": {
                    "offset": 93,
                    "table": 1
                  }
                },
                "color": "#15AFAC",
                "thickness_factor": 1,
                "directed": false,
                "styles": {},
                "label": ""
              },
              {
                "id": 84,
                "start": 16,
                "end": 27,
                "properties": {
                  "_src": {
                    "offset": 5,
                    "table": 0
                  },
                  "_dst": {
                    "offset": 41,
                    "table": 0
                  },
                  "_label": "Links",
                  "_id": {
                    "offset": 51,
                    "table": 1
                  }
                },
                "color": "#15AFAC",
                "thickness_factor": 1,
                "directed": false,
                "styles": {},
                "label": ""
              },
              {
                "id": 85,
                "start": 16,
                "end": 28,
                "properties": {
                  "_src": {
                    "offset": 5,
                    "table": 0
                  },
                  "_dst": {
                    "offset": 71,
                    "table": 0
                  },
                  "_label": "Links",
                  "_id": {
                    "offset": 129,
                    "table": 1
                  }
                },
                "color": "#15AFAC",
                "thickness_factor": 1,
                "directed": false,
                "styles": {},
                "label": ""
              },
              {
                "id": 86,
                "start": 17,
                "end": 40,
                "properties": {
                  "_src": {
                    "offset": 15,
                    "table": 0
                  },
                  "_dst": {
                    "offset": 16,
                    "table": 0
                  },
                  "_label": "Links",
                  "_id": {
                    "offset": 15,
                    "table": 1
                  }
                },
                "color": "#15AFAC",
                "thickness_factor": 1,
                "directed": false,
                "styles": {},
                "label": ""
              },
              {
                "id": 87,
                "start": 17,
                "end": 41,
                "properties": {
                  "_src": {
                    "offset": 15,
                    "table": 0
                  },
                  "_dst": {
                    "offset": 62,
                    "table": 0
                  },
                  "_label": "Links",
                  "_id": {
                    "offset": 101,
                    "table": 1
                  }
                },
                "color": "#15AFAC",
                "thickness_factor": 1,
                "directed": false,
                "styles": {},
                "label": ""
              },
              {
                "id": 88,
                "start": 18,
                "end": 50,
                "properties": {
                  "_src": {
                    "offset": 24,
                    "table": 0
                  },
                  "_dst": {
                    "offset": 25,
                    "table": 0
                  },
                  "_label": "Links",
                  "_id": {
                    "offset": 27,
                    "table": 1
                  }
                },
                "color": "#15AFAC",
                "thickness_factor": 1,
                "directed": false,
                "styles": {},
                "label": ""
              },
              {
                "id": 89,
                "start": 18,
                "end": 51,
                "properties": {
                  "_src": {
                    "offset": 24,
                    "table": 0
                  },
                  "_dst": {
                    "offset": 42,
                    "table": 0
                  },
                  "_label": "Links",
                  "_id": {
                    "offset": 53,
                    "table": 1
                  }
                },
                "color": "#15AFAC",
                "thickness_factor": 1,
                "directed": false,
                "styles": {},
                "label": ""
              },
              {
                "id": 90,
                "start": 18,
                "end": 52,
                "properties": {
                  "_src": {
                    "offset": 24,
                    "table": 0
                  },
                  "_dst": {
                    "offset": 59,
                    "table": 0
                  },
                  "_label": "Links",
                  "_id": {
                    "offset": 95,
                    "table": 1
                  }
                },
                "color": "#15AFAC",
                "thickness_factor": 1,
                "directed": false,
                "styles": {},
                "label": ""
              },
              {
                "id": 91,
                "start": 19,
                "end": 57,
                "properties": {
                  "_src": {
                    "offset": 30,
                    "table": 0
                  },
                  "_dst": {
                    "offset": 31,
                    "table": 0
                  },
                  "_label": "Links",
                  "_id": {
                    "offset": 35,
                    "table": 1
                  }
                },
                "color": "#15AFAC",
                "thickness_factor": 1,
                "directed": false,
                "styles": {},
                "label": ""
              },
              {
                "id": 92,
                "start": 20,
                "end": 63,
                "properties": {
                  "_src": {
                    "offset": 37,
                    "table": 0
                  },
                  "_dst": {
                    "offset": 38,
                    "table": 0
                  },
                  "_label": "Links",
                  "_id": {
                    "offset": 44,
                    "table": 1
                  }
                },
                "color": "#15AFAC",
                "thickness_factor": 1,
                "directed": false,
                "styles": {},
                "label": ""
              },
              {
                "id": 93,
                "start": 20,
                "end": 64,
                "properties": {
                  "_src": {
                    "offset": 37,
                    "table": 0
                  },
                  "_dst": {
                    "offset": 65,
                    "table": 0
                  },
                  "_label": "Links",
                  "_id": {
                    "offset": 118,
                    "table": 1
                  }
                },
                "color": "#15AFAC",
                "thickness_factor": 1,
                "directed": false,
                "styles": {},
                "label": ""
              },
              {
                "id": 94,
                "start": 21,
                "end": 65,
                "properties": {
                  "_src": {
                    "offset": 51,
                    "table": 0
                  },
                  "_dst": {
                    "offset": 52,
                    "table": 0
                  },
                  "_label": "Links",
                  "_id": {
                    "offset": 83,
                    "table": 1
                  }
                },
                "color": "#15AFAC",
                "thickness_factor": 1,
                "directed": false,
                "styles": {},
                "label": ""
              },
              {
                "id": 95,
                "start": 22,
                "end": 66,
                "properties": {
                  "_src": {
                    "offset": 53,
                    "table": 0
                  },
                  "_dst": {
                    "offset": 54,
                    "table": 0
                  },
                  "_label": "Links",
                  "_id": {
                    "offset": 85,
                    "table": 1
                  }
                },
                "color": "#15AFAC",
                "thickness_factor": 1,
                "directed": false,
                "styles": {},
                "label": ""
              },
              {
                "id": 96,
                "start": 23,
                "end": 68,
                "properties": {
                  "_src": {
                    "offset": 56,
                    "table": 0
                  },
                  "_dst": {
                    "offset": 57,
                    "table": 0
                  },
                  "_label": "Links",
                  "_id": {
                    "offset": 88,
                    "table": 1
                  }
                },
                "color": "#15AFAC",
                "thickness_factor": 1,
                "directed": false,
                "styles": {},
                "label": ""
              },
              {
                "id": 97,
                "start": 23,
                "end": 71,
                "properties": {
                  "_src": {
                    "offset": 69,
                    "table": 0
                  },
                  "_dst": {
                    "offset": 56,
                    "table": 0
                  },
                  "_label": "Links",
                  "_id": {
                    "offset": 124,
                    "table": 1
                  }
                },
                "color": "#15AFAC",
                "thickness_factor": 1,
                "directed": false,
                "styles": {},
                "label": ""
              },
              {
                "id": 98,
                "start": 25,
                "end": 36,
                "properties": {
                  "_src": {
                    "offset": 11,
                    "table": 0
                  },
                  "_dst": {
                    "offset": 12,
                    "table": 0
                  },
                  "_label": "Links",
                  "_id": {
                    "offset": 10,
                    "table": 1
                  }
                },
                "color": "#15AFAC",
                "thickness_factor": 1,
                "directed": false,
                "styles": {},
                "label": ""
              },
              {
                "id": 99,
                "start": 25,
                "end": 37,
                "properties": {
                  "_src": {
                    "offset": 11,
                    "table": 0
                  },
                  "_dst": {
                    "offset": 47,
                    "table": 0
                  },
                  "_label": "Links",
                  "_id": {
                    "offset": 70,
                    "table": 1
                  }
                },
                "color": "#15AFAC",
                "thickness_factor": 1,
                "directed": false,
                "styles": {},
                "label": ""
              },
              {
                "id": 100,
                "start": 29,
                "end": 30,
                "properties": {
                  "_src": {
                    "offset": 7,
                    "table": 0
                  },
                  "_dst": {
                    "offset": 8,
                    "table": 0
                  },
                  "_label": "Links",
                  "_id": {
                    "offset": 5,
                    "table": 1
                  }
                },
                "color": "#15AFAC",
                "thickness_factor": 1,
                "directed": false,
                "styles": {},
                "label": ""
              },
              {
                "id": 101,
                "start": 29,
                "end": 30,
                "properties": {
                  "_src": {
                    "offset": 7,
                    "table": 0
                  },
                  "_dst": {
                    "offset": 8,
                    "table": 0
                  },
                  "_label": "Links",
                  "_id": {
                    "offset": 23,
                    "table": 1
                  }
                },
                "color": "#15AFAC",
                "thickness_factor": 1,
                "directed": false,
                "styles": {},
                "label": ""
              },
              {
                "id": 102,
                "start": 29,
                "end": 30,
                "properties": {
                  "_src": {
                    "offset": 7,
                    "table": 0
                  },
                  "_dst": {
                    "offset": 8,
                    "table": 0
                  },
                  "_label": "Links",
                  "_id": {
                    "offset": 31,
                    "table": 1
                  }
                },
                "color": "#15AFAC",
                "thickness_factor": 1,
                "directed": false,
                "styles": {},
                "label": ""
              },
              {
                "id": 103,
                "start": 29,
                "end": 30,
                "properties": {
                  "_src": {
                    "offset": 7,
                    "table": 0
                  },
                  "_dst": {
                    "offset": 8,
                    "table": 0
                  },
                  "_label": "Links",
                  "_id": {
                    "offset": 62,
                    "table": 1
                  }
                },
                "color": "#15AFAC",
                "thickness_factor": 1,
                "directed": false,
                "styles": {},
                "label": ""
              },
              {
                "id": 104,
                "start": 29,
                "end": 30,
                "properties": {
                  "_src": {
                    "offset": 7,
                    "table": 0
                  },
                  "_dst": {
                    "offset": 8,
                    "table": 0
                  },
                  "_label": "Links",
                  "_id": {
                    "offset": 80,
                    "table": 1
                  }
                },
                "color": "#15AFAC",
                "thickness_factor": 1,
                "directed": false,
                "styles": {},
                "label": ""
              },
              {
                "id": 105,
                "start": 29,
                "end": 30,
                "properties": {
                  "_src": {
                    "offset": 7,
                    "table": 0
                  },
                  "_dst": {
                    "offset": 8,
                    "table": 0
                  },
                  "_label": "Links",
                  "_id": {
                    "offset": 89,
                    "table": 1
                  }
                },
                "color": "#15AFAC",
                "thickness_factor": 1,
                "directed": false,
                "styles": {},
                "label": ""
              },
              {
                "id": 106,
                "start": 29,
                "end": 30,
                "properties": {
                  "_src": {
                    "offset": 7,
                    "table": 0
                  },
                  "_dst": {
                    "offset": 8,
                    "table": 0
                  },
                  "_label": "Links",
                  "_id": {
                    "offset": 114,
                    "table": 1
                  }
                },
                "color": "#15AFAC",
                "thickness_factor": 1,
                "directed": false,
                "styles": {},
                "label": ""
              },
              {
                "id": 107,
                "start": 29,
                "end": 30,
                "properties": {
                  "_src": {
                    "offset": 7,
                    "table": 0
                  },
                  "_dst": {
                    "offset": 8,
                    "table": 0
                  },
                  "_label": "Links",
                  "_id": {
                    "offset": 121,
                    "table": 1
                  }
                },
                "color": "#15AFAC",
                "thickness_factor": 1,
                "directed": false,
                "styles": {},
                "label": ""
              },
              {
                "id": 108,
                "start": 29,
                "end": 30,
                "properties": {
                  "_src": {
                    "offset": 7,
                    "table": 0
                  },
                  "_dst": {
                    "offset": 8,
                    "table": 0
                  },
                  "_label": "Links",
                  "_id": {
                    "offset": 125,
                    "table": 1
                  }
                },
                "color": "#15AFAC",
                "thickness_factor": 1,
                "directed": false,
                "styles": {},
                "label": ""
              },
              {
                "id": 109,
                "start": 30,
                "end": 31,
                "properties": {
                  "_src": {
                    "offset": 8,
                    "table": 0
                  },
                  "_dst": {
                    "offset": 9,
                    "table": 0
                  },
                  "_label": "Links",
                  "_id": {
                    "offset": 6,
                    "table": 1
                  }
                },
                "color": "#15AFAC",
                "thickness_factor": 1,
                "directed": false,
                "styles": {},
                "label": ""
              },
              {
                "id": 110,
                "start": 30,
                "end": 31,
                "properties": {
                  "_src": {
                    "offset": 8,
                    "table": 0
                  },
                  "_dst": {
                    "offset": 9,
                    "table": 0
                  },
                  "_label": "Links",
                  "_id": {
                    "offset": 81,
                    "table": 1
                  }
                },
                "color": "#15AFAC",
                "thickness_factor": 1,
                "directed": false,
                "styles": {},
                "label": ""
              },
              {
                "id": 111,
                "start": 30,
                "end": 32,
                "properties": {
                  "_src": {
                    "offset": 8,
                    "table": 0
                  },
                  "_dst": {
                    "offset": 22,
                    "table": 0
                  },
                  "_label": "Links",
                  "_id": {
                    "offset": 24,
                    "table": 1
                  }
                },
                "color": "#15AFAC",
                "thickness_factor": 1,
                "directed": false,
                "styles": {},
                "label": ""
              },
              {
                "id": 112,
                "start": 30,
                "end": 32,
                "properties": {
                  "_src": {
                    "offset": 8,
                    "table": 0
                  },
                  "_dst": {
                    "offset": 22,
                    "table": 0
                  },
                  "_label": "Links",
                  "_id": {
                    "offset": 63,
                    "table": 1
                  }
                },
                "color": "#15AFAC",
                "thickness_factor": 1,
                "directed": false,
                "styles": {},
                "label": ""
              },
              {
                "id": 113,
                "start": 30,
                "end": 32,
                "properties": {
                  "_src": {
                    "offset": 8,
                    "table": 0
                  },
                  "_dst": {
                    "offset": 22,
                    "table": 0
                  },
                  "_label": "Links",
                  "_id": {
                    "offset": 115,
                    "table": 1
                  }
                },
                "color": "#15AFAC",
                "thickness_factor": 1,
                "directed": false,
                "styles": {},
                "label": ""
              },
              {
                "id": 114,
                "start": 30,
                "end": 33,
                "properties": {
                  "_src": {
                    "offset": 8,
                    "table": 0
                  },
                  "_dst": {
                    "offset": 28,
                    "table": 0
                  },
                  "_label": "Links",
                  "_id": {
                    "offset": 32,
                    "table": 1
                  }
                },
                "color": "#15AFAC",
                "thickness_factor": 1,
                "directed": false,
                "styles": {},
                "label": ""
              },
              {
                "id": 115,
                "start": 30,
                "end": 33,
                "properties": {
                  "_src": {
                    "offset": 8,
                    "table": 0
                  },
                  "_dst": {
                    "offset": 28,
                    "table": 0
                  },
                  "_label": "Links",
                  "_id": {
                    "offset": 90,
                    "table": 1
                  }
                },
                "color": "#15AFAC",
                "thickness_factor": 1,
                "directed": false,
                "styles": {},
                "label": ""
              },
              {
                "id": 116,
                "start": 30,
                "end": 33,
                "properties": {
                  "_src": {
                    "offset": 8,
                    "table": 0
                  },
                  "_dst": {
                    "offset": 28,
                    "table": 0
                  },
                  "_label": "Links",
                  "_id": {
                    "offset": 126,
                    "table": 1
                  }
                },
                "color": "#15AFAC",
                "thickness_factor": 1,
                "directed": false,
                "styles": {},
                "label": ""
              },
              {
                "id": 117,
                "start": 30,
                "end": 34,
                "properties": {
                  "_src": {
                    "offset": 8,
                    "table": 0
                  },
                  "_dst": {
                    "offset": 68,
                    "table": 0
                  },
                  "_label": "Links",
                  "_id": {
                    "offset": 122,
                    "table": 1
                  }
                },
                "color": "#15AFAC",
                "thickness_factor": 1,
                "directed": false,
                "styles": {},
                "label": ""
              },
              {
                "id": 118,
                "start": 31,
                "end": 35,
                "properties": {
                  "_src": {
                    "offset": 9,
                    "table": 0
                  },
                  "_dst": {
                    "offset": 10,
                    "table": 0
                  },
                  "_label": "Links",
                  "_id": {
                    "offset": 7,
                    "table": 1
                  }
                },
                "color": "#15AFAC",
                "thickness_factor": 1,
                "directed": false,
                "styles": {},
                "label": ""
              },
              {
                "id": 119,
                "start": 32,
                "end": 48,
                "properties": {
                  "_src": {
                    "offset": 22,
                    "table": 0
                  },
                  "_dst": {
                    "offset": 23,
                    "table": 0
                  },
                  "_label": "Links",
                  "_id": {
                    "offset": 25,
                    "table": 1
                  }
                },
                "color": "#15AFAC",
                "thickness_factor": 1,
                "directed": false,
                "styles": {},
                "label": ""
              },
              {
                "id": 120,
                "start": 32,
                "end": 49,
                "properties": {
                  "_src": {
                    "offset": 22,
                    "table": 0
                  },
                  "_dst": {
                    "offset": 46,
                    "table": 0
                  },
                  "_label": "Links",
                  "_id": {
                    "offset": 64,
                    "table": 1
                  }
                },
                "color": "#15AFAC",
                "thickness_factor": 1,
                "directed": false,
                "styles": {},
                "label": ""
              },
              {
                "id": 121,
                "start": 32,
                "end": 49,
                "properties": {
                  "_src": {
                    "offset": 22,
                    "table": 0
                  },
                  "_dst": {
                    "offset": 46,
                    "table": 0
                  },
                  "_label": "Links",
                  "_id": {
                    "offset": 116,
                    "table": 1
                  }
                },
                "color": "#15AFAC",
                "thickness_factor": 1,
                "directed": false,
                "styles": {},
                "label": ""
              },
              {
                "id": 122,
                "start": 33,
                "end": 54,
                "properties": {
                  "_src": {
                    "offset": 28,
                    "table": 0
                  },
                  "_dst": {
                    "offset": 29,
                    "table": 0
                  },
                  "_label": "Links",
                  "_id": {
                    "offset": 33,
                    "table": 1
                  }
                },
                "color": "#15AFAC",
                "thickness_factor": 1,
                "directed": false,
                "styles": {},
                "label": ""
              },
              {
                "id": 123,
                "start": 33,
                "end": 55,
                "properties": {
                  "_src": {
                    "offset": 28,
                    "table": 0
                  },
                  "_dst": {
                    "offset": 58,
                    "table": 0
                  },
                  "_label": "Links",
                  "_id": {
                    "offset": 91,
                    "table": 1
                  }
                },
                "color": "#15AFAC",
                "thickness_factor": 1,
                "directed": false,
                "styles": {},
                "label": ""
              },
              {
                "id": 124,
                "start": 33,
                "end": 56,
                "properties": {
                  "_src": {
                    "offset": 28,
                    "table": 0
                  },
                  "_dst": {
                    "offset": 70,
                    "table": 0
                  },
                  "_label": "Links",
                  "_id": {
                    "offset": 127,
                    "table": 1
                  }
                },
                "color": "#15AFAC",
                "thickness_factor": 1,
                "directed": false,
                "styles": {},
                "label": ""
              },
              {
                "id": 125,
                "start": 34,
                "end": 71,
                "properties": {
                  "_src": {
                    "offset": 68,
                    "table": 0
                  },
                  "_dst": {
                    "offset": 69,
                    "table": 0
                  },
                  "_label": "Links",
                  "_id": {
                    "offset": 123,
                    "table": 1
                  }
                },
                "color": "#15AFAC",
                "thickness_factor": 1,
                "directed": false,
                "styles": {},
                "label": ""
              },
              {
                "id": 126,
                "start": 40,
                "end": 42,
                "properties": {
                  "_src": {
                    "offset": 16,
                    "table": 0
                  },
                  "_dst": {
                    "offset": 17,
                    "table": 0
                  },
                  "_label": "Links",
                  "_id": {
                    "offset": 16,
                    "table": 1
                  }
                },
                "color": "#15AFAC",
                "thickness_factor": 1,
                "directed": false,
                "styles": {},
                "label": ""
              },
              {
                "id": 127,
                "start": 50,
                "end": 53,
                "properties": {
                  "_src": {
                    "offset": 25,
                    "table": 0
                  },
                  "_dst": {
                    "offset": 26,
                    "table": 0
                  },
                  "_label": "Links",
                  "_id": {
                    "offset": 28,
                    "table": 1
                  }
                },
                "color": "#15AFAC",
                "thickness_factor": 1,
                "directed": false,
                "styles": {},
                "label": ""
              },
              {
                "id": 128,
                "start": 52,
                "end": 69,
                "properties": {
                  "_src": {
                    "offset": 59,
                    "table": 0
                  },
                  "_dst": {
                    "offset": 60,
                    "table": 0
                  },
                  "_label": "Links",
                  "_id": {
                    "offset": 96,
                    "table": 1
                  }
                },
                "color": "#15AFAC",
                "thickness_factor": 1,
                "directed": false,
                "styles": {},
                "label": ""
              },
              {
                "id": 129,
                "start": 66,
                "end": 67,
                "properties": {
                  "_src": {
                    "offset": 54,
                    "table": 0
                  },
                  "_dst": {
                    "offset": 55,
                    "table": 0
                  },
                  "_label": "Links",
                  "_id": {
                    "offset": 86,
                    "table": 1
                  }
                },
                "color": "#15AFAC",
                "thickness_factor": 1,
                "directed": false,
                "styles": {},
                "label": ""
              }
            ],
            "_graph_layout": {},
            "_highlight": [],
            "_license": {},
            "_model_module": "yfiles-jupyter-graphs",
            "_model_module_version": "^1.10.3",
            "_model_name": "GraphModel",
            "_neighborhood": {},
            "_nodes": [
              {
                "id": 0,
                "properties": {
                  "_id": {
                    "offset": 0,
                    "table": 0
                  },
                  "_label": "MenuItem",
                  "name": "Apps",
                  "description": "\"Apps\" is a menu providing access to your device's applications.  It allows you to manage installed apps, create folders to organize them, and potentially update or delete them.  You can also set default apps for various categories.  The \"Apps\" menu is a central hub for all your device's software.\n",
                  "MenuItem": true,
                  "label": "MenuItem_Apps"
                },
                "color": "#15AFAC",
                "styles": {},
                "label": "MenuItem_Apps",
                "scale_factor": 1,
                "type": "#15AFAC",
                "size": [
                  55,
                  55
                ],
                "position": [
                  0,
                  0
                ]
              },
              {
                "id": 1,
                "properties": {
                  "_id": {
                    "offset": 1,
                    "table": 0
                  },
                  "_label": "MenuItem",
                  "name": "Samsung apps",
                  "description": "Samsung apps is a collection of pre-installed applications on Samsung devices.  These apps offer various functionalities, from managing contacts and emails to taking photos and browsing the web.  They include tools like Samsung Notes, Samsung Internet, and Samsung Pay.  These apps provide a convenient and integrated user experience within the Samsung ecosystem.\n",
                  "MenuItem": true,
                  "label": "MenuItem_Samsung apps"
                },
                "color": "#15AFAC",
                "styles": {},
                "label": "MenuItem_Samsung apps",
                "scale_factor": 1,
                "type": "#15AFAC",
                "size": [
                  55,
                  55
                ],
                "position": [
                  0,
                  0
                ]
              },
              {
                "id": 2,
                "properties": {
                  "_id": {
                    "offset": 35,
                    "table": 0
                  },
                  "_label": "MenuItem",
                  "name": "Using apps",
                  "description": "\"Using Apps\" describes how to manage applications on your device.  It covers organizing apps into folders for easier access by dragging and dropping shortcuts.  The section also details how to view app information, including memory usage and the ability to set default apps.  Finally, it explains how to update and manage both downloaded and pre-installed applications.\n",
                  "MenuItem": true,
                  "label": "MenuItem_Using apps"
                },
                "color": "#15AFAC",
                "styles": {},
                "label": "MenuItem_Using apps",
                "scale_factor": 1,
                "type": "#15AFAC",
                "size": [
                  55,
                  55
                ],
                "position": [
                  0,
                  0
                ]
              },
              {
                "id": 3,
                "properties": {
                  "_id": {
                    "offset": 66,
                    "table": 0
                  },
                  "_label": "MenuItem",
                  "name": "Google apps",
                  "description": "Google Apps is a collection of applications developed by Google.  These apps are available on various devices and platforms.  They provide a range of services, including email, maps, and document creation.  Google Apps aims to enhance productivity and simplify everyday tasks.\n",
                  "MenuItem": true,
                  "label": "MenuItem_Google apps"
                },
                "color": "#15AFAC",
                "styles": {},
                "label": "MenuItem_Google apps",
                "scale_factor": 1,
                "type": "#15AFAC",
                "size": [
                  55,
                  55
                ],
                "position": [
                  0,
                  0
                ]
              },
              {
                "id": 4,
                "properties": {
                  "_id": {
                    "offset": 2,
                    "table": 0
                  },
                  "_label": "MenuItem",
                  "name": "Camera",
                  "description": "The Camera feature lets you take photos and videos.  Access advanced settings through the main camera screen's icons and a dedicated settings menu.  Customize video recording with options like HEVC and HDR10+ for enhanced quality and efficiency.  Additional settings control storage location and shutter sound.\n",
                  "MenuItem": true,
                  "label": "MenuItem_Camera"
                },
                "color": "#15AFAC",
                "styles": {},
                "label": "MenuItem_Camera",
                "scale_factor": 1,
                "type": "#15AFAC",
                "size": [
                  55,
                  55
                ],
                "position": [
                  0,
                  0
                ]
              },
              {
                "id": 5,
                "properties": {
                  "_id": {
                    "offset": 13,
                    "table": 0
                  },
                  "_label": "MenuItem",
                  "name": "Clock",
                  "description": "The Clock app displays the current time and allows you to set a custom time.  It includes a World Clock feature to view times across multiple cities.  A Timer function offers customizable sound and vibration settings. You can add and manage cities within the World Clock.\n",
                  "MenuItem": true,
                  "label": "MenuItem_Clock"
                },
                "color": "#15AFAC",
                "styles": {},
                "label": "MenuItem_Clock",
                "scale_factor": 1,
                "type": "#15AFAC",
                "size": [
                  55,
                  55
                ],
                "position": [
                  0,
                  0
                ]
              },
              {
                "id": 6,
                "properties": {
                  "_id": {
                    "offset": 18,
                    "table": 0
                  },
                  "_label": "MenuItem",
                  "name": "Samsung Notes",
                  "description": "Samsung Notes is a note-taking app where you can create and edit text notes.  It allows you to organize notes into categories for easy access.  Deleted notes are stored in the trash for up to 15 days.  You can view all your notes or filter by category.\n",
                  "MenuItem": true,
                  "label": "MenuItem_Samsung Notes"
                },
                "color": "#15AFAC",
                "styles": {},
                "label": "MenuItem_Samsung Notes",
                "scale_factor": 1,
                "type": "#15AFAC",
                "size": [
                  55,
                  55
                ],
                "position": [
                  0,
                  0
                ]
              },
              {
                "id": 7,
                "properties": {
                  "_id": {
                    "offset": 20,
                    "table": 0
                  },
                  "_label": "MenuItem",
                  "name": "Gallery",
                  "description": "The Gallery is where you can view and edit your saved pictures.  It offers tools to enhance images with filters, stickers, text, and drawings.  You can also perform basic transformations like cropping and rotating.  Access advanced screenshot and screen recording settings through the Gallery's settings menu.\n",
                  "MenuItem": true,
                  "label": "MenuItem_Gallery"
                },
                "color": "#15AFAC",
                "styles": {},
                "label": "MenuItem_Gallery",
                "scale_factor": 1,
                "type": "#15AFAC",
                "size": [
                  55,
                  55
                ],
                "position": [
                  0,
                  0
                ]
              },
              {
                "id": 8,
                "properties": {
                  "_id": {
                    "offset": 27,
                    "table": 0
                  },
                  "_label": "MenuItem",
                  "name": "Email",
                  "description": "The Email app lets you access and manage all your email accounts in one place.  It provides a unified inbox for easy viewing and organization of your messages.  Adding new accounts is simple and straightforward.  This app simplifies email management by consolidating all your inboxes into a single application.\n",
                  "MenuItem": true,
                  "label": "MenuItem_Email"
                },
                "color": "#15AFAC",
                "styles": {},
                "label": "MenuItem_Email",
                "scale_factor": 1,
                "type": "#15AFAC",
                "size": [
                  55,
                  55
                ],
                "position": [
                  0,
                  0
                ]
              },
              {
                "id": 9,
                "properties": {
                  "_id": {
                    "offset": 32,
                    "table": 0
                  },
                  "_label": "MenuItem",
                  "name": "Smart Switch",
                  "description": "Smart Switch is a tool that helps you move your data from an old phone to a new one.  It effortlessly transfers various types of content, including contacts and photos.  This simplifies the process of setting up a new device.  Essentially, it makes switching phones much easier and less time-consuming.\n",
                  "MenuItem": true,
                  "label": "MenuItem_Smart Switch"
                },
                "color": "#15AFAC",
                "styles": {},
                "label": "MenuItem_Smart Switch",
                "scale_factor": 1,
                "type": "#15AFAC",
                "size": [
                  55,
                  55
                ],
                "position": [
                  0,
                  0
                ]
              },
              {
                "id": 10,
                "properties": {
                  "_id": {
                    "offset": 33,
                    "table": 0
                  },
                  "_label": "MenuItem",
                  "name": "Contacts",
                  "description": "\"Contacts\" is a feature for managing your contact list.  You can organize contacts into groups, add or remove contacts from those groups.  It also allows you to merge duplicate contact entries.  The feature provides tools to delete groups, either individually or with their associated contacts.\n",
                  "MenuItem": true,
                  "label": "MenuItem_Contacts"
                },
                "color": "#15AFAC",
                "styles": {},
                "label": "MenuItem_Contacts",
                "scale_factor": 1,
                "type": "#15AFAC",
                "size": [
                  55,
                  55
                ],
                "position": [
                  0,
                  0
                ]
              },
              {
                "id": 11,
                "properties": {
                  "_id": {
                    "offset": 48,
                    "table": 0
                  },
                  "_label": "MenuItem",
                  "name": "Internet",
                  "description": "\"Internet\" is the Samsung Internet browser app, pre-installed on your device.  It provides a quick and secure way to browse the web.  Features include Secret Mode for privacy and biometric login for added security.  Access it by tapping the \"Internet\" icon in your Apps menu.\n",
                  "MenuItem": true,
                  "label": "MenuItem_Internet"
                },
                "color": "#15AFAC",
                "styles": {},
                "label": "MenuItem_Internet",
                "scale_factor": 1,
                "type": "#15AFAC",
                "size": [
                  55,
                  55
                ],
                "position": [
                  0,
                  0
                ]
              },
              {
                "id": 12,
                "properties": {
                  "_id": {
                    "offset": 49,
                    "table": 0
                  },
                  "_label": "MenuItem",
                  "name": "Samsung Pay",
                  "description": "Samsung Pay is a mobile payment service that lets you pay for goods and services using your Samsung device.  It works wherever contactless payments are accepted, just like tapping your credit card.  You'll need a Samsung account to use it.  For help or troubleshooting, visit the Samsung support website.\n",
                  "MenuItem": true,
                  "label": "MenuItem_Samsung Pay"
                },
                "color": "#15AFAC",
                "styles": {},
                "label": "MenuItem_Samsung Pay",
                "scale_factor": 1,
                "type": "#15AFAC",
                "size": [
                  55,
                  55
                ],
                "position": [
                  0,
                  0
                ]
              },
              {
                "id": 13,
                "properties": {
                  "_id": {
                    "offset": 3,
                    "table": 0
                  },
                  "_label": "MenuItem",
                  "name": "Camera settings",
                  "description": "Camera settings allow you to customize your camera's functionality.  These settings are accessed through the main camera screen's icons and a dedicated settings menu.  You can adjust video recording options, including high-efficiency and HDR formats.  Additional settings control storage location and whether a shutter sound plays when capturing images.\n",
                  "MenuItem": true,
                  "label": "MenuItem_Camera settings"
                },
                "color": "#15AFAC",
                "styles": {},
                "label": "MenuItem_Camera settings",
                "scale_factor": 1,
                "type": "#15AFAC",
                "size": [
                  55,
                  55
                ],
                "position": [
                  0,
                  0
                ]
              },
              {
                "id": 14,
                "properties": {
                  "_id": {
                    "offset": 45,
                    "table": 0
                  },
                  "_label": "MenuItem",
                  "name": "Super steady",
                  "description": "Super steady is a video stabilization feature that smooths out shaky footage.  It uses advanced algorithms to create professional-looking video, even when recording with significant movement.  However, it's incompatible with certain other features like Zoom-in mic and Slow motion.  For best results, use Super steady when recording with the rear camera and without Live focus video.\n",
                  "MenuItem": true,
                  "label": "MenuItem_Super steady"
                },
                "color": "#15AFAC",
                "styles": {},
                "label": "MenuItem_Super steady",
                "scale_factor": 1,
                "type": "#15AFAC",
                "size": [
                  55,
                  55
                ],
                "position": [
                  0,
                  0
                ]
              },
              {
                "id": 15,
                "properties": {
                  "_id": {
                    "offset": 4,
                    "table": 0
                  },
                  "_label": "MenuItem",
                  "name": "Settings",
                  "description": "Settings is your device's central control panel.  It allows you to customize various aspects of your phone's functionality.  From managing network connections to adjusting display settings and security features, Settings offers extensive personalization options.  Essentially, it's where you configure your device to meet your individual needs and preferences.\n",
                  "MenuItem": true,
                  "label": "MenuItem_Settings"
                },
                "color": "#15AFAC",
                "styles": {},
                "label": "MenuItem_Settings",
                "scale_factor": 1,
                "type": "#15AFAC",
                "size": [
                  55,
                  55
                ],
                "position": [
                  0,
                  0
                ]
              },
              {
                "id": 16,
                "properties": {
                  "_id": {
                    "offset": 5,
                    "table": 0
                  },
                  "_label": "MenuItem",
                  "name": "Lock screen and security",
                  "description": "The \"Lock screen and security\" menu manages your device's screen lock settings (pattern, PIN, password), allowing you to choose a secure method to protect your data.  It also controls notification visibility on the lock screen and Always-On Display.  Furthermore, this menu offers options to manage security certificates, encrypt an SD card (if present), and control app permissions for background access to device features.  Essentially, it centralizes settings for both screen locking and overall device security.\n",
                  "MenuItem": true,
                  "label": "MenuItem_Lock screen and security"
                },
                "color": "#15AFAC",
                "styles": {},
                "label": "MenuItem_Lock screen and security",
                "scale_factor": 1,
                "type": "#15AFAC",
                "size": [
                  55,
                  55
                ],
                "position": [
                  0,
                  0
                ]
              },
              {
                "id": 17,
                "properties": {
                  "_id": {
                    "offset": 15,
                    "table": 0
                  },
                  "_label": "MenuItem",
                  "name": "Connections",
                  "description": "\"Connections\" is a settings menu allowing you to manage your device's network capabilities.  It includes options for configuring mobile hotspot settings like security and network name.  You can also control power-saving modes for the hotspot.  Additionally, it provides information about Near Field Communication (NFC) functionality on your device.\n",
                  "MenuItem": true,
                  "label": "MenuItem_Connections"
                },
                "color": "#15AFAC",
                "styles": {},
                "label": "MenuItem_Connections",
                "scale_factor": 1,
                "type": "#15AFAC",
                "size": [
                  55,
                  55
                ],
                "position": [
                  0,
                  0
                ]
              },
              {
                "id": 18,
                "properties": {
                  "_id": {
                    "offset": 24,
                    "table": 0
                  },
                  "_label": "MenuItem",
                  "name": "Device maintenance",
                  "description": "Device maintenance optimizes your device's storage, freeing up valuable memory space.  It also allows you to monitor battery usage, identifying power-hungry apps.  Furthermore, you can customize text-to-speech settings like pitch for improved accessibility.  These features ensure your device runs smoothly and efficiently.\n",
                  "MenuItem": true,
                  "label": "MenuItem_Device maintenance"
                },
                "color": "#15AFAC",
                "styles": {},
                "label": "MenuItem_Device maintenance",
                "scale_factor": 1,
                "type": "#15AFAC",
                "size": [
                  55,
                  55
                ],
                "position": [
                  0,
                  0
                ]
              },
              {
                "id": 19,
                "properties": {
                  "_id": {
                    "offset": 30,
                    "table": 0
                  },
                  "_label": "MenuItem",
                  "name": "Sounds and vibration",
                  "description": "\"Sounds and vibration\" lets you control notification sounds across your device.  You can select a single default sound for all alerts.  It also allows you to set unique notification sounds for individual apps. This menu manages both audio alerts and haptic feedback (vibration) settings.\n",
                  "MenuItem": true,
                  "label": "MenuItem_Sounds and vibration"
                },
                "color": "#15AFAC",
                "styles": {},
                "label": "MenuItem_Sounds and vibration",
                "scale_factor": 1,
                "type": "#15AFAC",
                "size": [
                  55,
                  55
                ],
                "position": [
                  0,
                  0
                ]
              },
              {
                "id": 20,
                "properties": {
                  "_id": {
                    "offset": 37,
                    "table": 0
                  },
                  "_label": "MenuItem",
                  "name": "Display",
                  "description": "The 'Display' menu controls your screen's appearance and behavior.  It lets you adjust the screen timeout, determining how long it stays on before turning off.  You can also manage the blue light filter, reducing blue light emission for improved nighttime viewing.  This filter's intensity can be customized to your preference.\n",
                  "MenuItem": true,
                  "label": "MenuItem_Display"
                },
                "color": "#15AFAC",
                "styles": {},
                "label": "MenuItem_Display",
                "scale_factor": 1,
                "type": "#15AFAC",
                "size": [
                  55,
                  55
                ],
                "position": [
                  0,
                  0
                ]
              },
              {
                "id": 21,
                "properties": {
                  "_id": {
                    "offset": 51,
                    "table": 0
                  },
                  "_label": "MenuItem",
                  "name": "Accounts",
                  "description": "The \"Accounts\" menu manages the accounts connected to your device.  It allows you to view all linked accounts.  You can remove unwanted accounts from this menu. This ensures privacy and control over your device's data access.\n",
                  "MenuItem": true,
                  "label": "MenuItem_Accounts"
                },
                "color": "#15AFAC",
                "styles": {},
                "label": "MenuItem_Accounts",
                "scale_factor": 1,
                "type": "#15AFAC",
                "size": [
                  55,
                  55
                ],
                "position": [
                  0,
                  0
                ]
              },
              {
                "id": 22,
                "properties": {
                  "_id": {
                    "offset": 53,
                    "table": 0
                  },
                  "_label": "MenuItem",
                  "name": "Accessibility",
                  "description": "Accessibility features help make your device easier to use.  They adjust display settings like colors and contrast for better readability.  Options include modifying keyboard size and colors for improved visibility.  This ensures comfortable and convenient use for everyone, regardless of visual abilities.\n",
                  "MenuItem": true,
                  "label": "MenuItem_Accessibility"
                },
                "color": "#15AFAC",
                "styles": {},
                "label": "MenuItem_Accessibility",
                "scale_factor": 1,
                "type": "#15AFAC",
                "size": [
                  55,
                  55
                ],
                "position": [
                  0,
                  0
                ]
              },
              {
                "id": 23,
                "properties": {
                  "_id": {
                    "offset": 56,
                    "table": 0
                  },
                  "_label": "MenuItem",
                  "name": "Notifications",
                  "description": "The Notifications menu lets you customize how your phone alerts you.  You can control notifications from individual apps and even snooze them.  It also allows you to view and manage your phone's notifications directly from your PC.  This menu provides comprehensive control over your notification settings.\n",
                  "MenuItem": true,
                  "label": "MenuItem_Notifications"
                },
                "color": "#15AFAC",
                "styles": {},
                "label": "MenuItem_Notifications",
                "scale_factor": 1,
                "type": "#15AFAC",
                "size": [
                  55,
                  55
                ],
                "position": [
                  0,
                  0
                ]
              },
              {
                "id": 24,
                "properties": {
                  "_id": {
                    "offset": 6,
                    "table": 0
                  },
                  "_label": "MenuItem",
                  "name": "Location",
                  "description": "\"Location\" in your device settings controls access to your device's precise geographical position.  It uses GPS, Wi-Fi, and mobile network data to pinpoint your whereabouts.  Turning location services on allows apps to use this information.  Turning it off prevents apps from accessing your location.\n",
                  "MenuItem": true,
                  "label": "MenuItem_Location"
                },
                "color": "#15AFAC",
                "styles": {},
                "label": "MenuItem_Location",
                "scale_factor": 1,
                "type": "#15AFAC",
                "size": [
                  55,
                  55
                ],
                "position": [
                  0,
                  0
                ]
              },
              {
                "id": 25,
                "properties": {
                  "_id": {
                    "offset": 11,
                    "table": 0
                  },
                  "_label": "MenuItem",
                  "name": "Screen lock types",
                  "description": "Screen lock types refer to the methods you use to secure your device from unauthorized access.  Options typically include patterns, PINs, and passwords, offering varying levels of security.  Biometric locks, like fingerprint or facial recognition, often require a backup screen lock type for added protection.  Choosing a strong screen lock is crucial for protecting your personal data and privacy.\n",
                  "MenuItem": true,
                  "label": "MenuItem_Screen lock types"
                },
                "color": "#15AFAC",
                "styles": {},
                "label": "MenuItem_Screen lock types",
                "scale_factor": 1,
                "type": "#15AFAC",
                "size": [
                  55,
                  55
                ],
                "position": [
                  0,
                  0
                ]
              },
              {
                "id": 26,
                "properties": {
                  "_id": {
                    "offset": 39,
                    "table": 0
                  },
                  "_label": "MenuItem",
                  "name": "Credential storage",
                  "description": "Credential storage securely holds digital certificates that verify the identity of websites and servers.  This ensures your connections are safe and trustworthy.  It allows you to manage and remove these certificates as needed.  Clearing credentials erases saved login information and resets passwords for enhanced security.\n",
                  "MenuItem": true,
                  "label": "MenuItem_Credential storage"
                },
                "color": "#15AFAC",
                "styles": {},
                "label": "MenuItem_Credential storage",
                "scale_factor": 1,
                "type": "#15AFAC",
                "size": [
                  55,
                  55
                ],
                "position": [
                  0,
                  0
                ]
              },
              {
                "id": 27,
                "properties": {
                  "_id": {
                    "offset": 41,
                    "table": 0
                  },
                  "_label": "MenuItem",
                  "name": "Encrypt or decrypt SD card",
                  "description": "The \"Encrypt or decrypt SD card\" menu option lets you protect your optional SD card's data with a password.  Encryption prevents unauthorized access to the card's contents.  Decryption removes the password protection, making the data accessible again.  This feature is found within your device's Biometrics and security settings.\n",
                  "MenuItem": true,
                  "label": "MenuItem_Encrypt or decrypt SD card"
                },
                "color": "#15AFAC",
                "styles": {},
                "label": "MenuItem_Encrypt or decrypt SD card",
                "scale_factor": 1,
                "type": "#15AFAC",
                "size": [
                  55,
                  55
                ],
                "position": [
                  0,
                  0
                ]
              },
              {
                "id": 28,
                "properties": {
                  "_id": {
                    "offset": 71,
                    "table": 0
                  },
                  "_label": "MenuItem",
                  "name": "Permission manager",
                  "description": "The Permission Manager controls which apps can access your device's features like the camera or microphone, even when running in the background.  It lets you choose whether to allow or deny these permissions on an app-by-app basis.  You receive notifications when apps request access to these features. This ensures you have control over your device's privacy settings.\n",
                  "MenuItem": true,
                  "label": "MenuItem_Permission manager"
                },
                "color": "#15AFAC",
                "styles": {},
                "label": "MenuItem_Permission manager",
                "scale_factor": 1,
                "type": "#15AFAC",
                "size": [
                  55,
                  55
                ],
                "position": [
                  0,
                  0
                ]
              },
              {
                "id": 29,
                "properties": {
                  "_id": {
                    "offset": 7,
                    "table": 0
                  },
                  "_label": "MenuItem",
                  "name": "Getting started",
                  "description": "\"Getting started\" guides you through initial phone setup, covering customization of the Always On Display, fingerprint and face recognition security features, and home screen widgets.  It also shows you how to personalize notification settings and access them from your PC.  The guide explains how to manage these features through the phone's settings menu. Finally, it provides instructions for basic navigation and notification management on the phone itself.\n",
                  "MenuItem": true,
                  "label": "MenuItem_Getting started"
                },
                "color": "#15AFAC",
                "styles": {},
                "label": "MenuItem_Getting started",
                "scale_factor": 1,
                "type": "#15AFAC",
                "size": [
                  55,
                  55
                ],
                "position": [
                  0,
                  0
                ]
              },
              {
                "id": 30,
                "properties": {
                  "_id": {
                    "offset": 8,
                    "table": 0
                  },
                  "_label": "MenuItem",
                  "name": "Start using your device",
                  "description": "\"Start using your device\" guides you through initial setup and personalization.  It covers customizing your display (Always On Display, wallpapers, widgets), and securing your device (fingerprint and face recognition).  You'll also learn to manage notifications and customize home and app screens.  This section helps you tailor your phone's functionality and appearance to your preferences.\n",
                  "MenuItem": true,
                  "label": "MenuItem_Start using your device"
                },
                "color": "#15AFAC",
                "styles": {},
                "label": "MenuItem_Start using your device",
                "scale_factor": 1,
                "type": "#15AFAC",
                "size": [
                  55,
                  55
                ],
                "position": [
                  0,
                  0
                ]
              },
              {
                "id": 31,
                "properties": {
                  "_id": {
                    "offset": 9,
                    "table": 0
                  },
                  "_label": "MenuItem",
                  "name": "Always On Display",
                  "description": "Always On Display (AOD) keeps your phone's clock and notifications visible on the screen even when the device is idle.  You can customize the AOD's appearance with various themes and wallpapers.  The AOD's visibility can be scheduled or set to always be on. This feature offers convenient access to time and notifications without needing to wake your phone.\n",
                  "MenuItem": true,
                  "label": "MenuItem_Always On Display"
                },
                "color": "#15AFAC",
                "styles": {},
                "label": "MenuItem_Always On Display",
                "scale_factor": 1,
                "type": "#15AFAC",
                "size": [
                  55,
                  55
                ],
                "position": [
                  0,
                  0
                ]
              },
              {
                "id": 32,
                "properties": {
                  "_id": {
                    "offset": 22,
                    "table": 0
                  },
                  "_label": "MenuItem",
                  "name": "Flexible security",
                  "description": "Flexible security offers multiple biometric authentication options, including fingerprint and face recognition.  You can customize the sensitivity and speed of these methods to balance convenience and security.  Fingerprint recognition allows quick unlocking with a touch of the power button (on select models).  Face recognition settings let you adjust screen brightness for better low-light performance and prioritize speed or enhanced security.\n",
                  "MenuItem": true,
                  "label": "MenuItem_Flexible security"
                },
                "color": "#15AFAC",
                "styles": {},
                "label": "MenuItem_Flexible security",
                "scale_factor": 1,
                "type": "#15AFAC",
                "size": [
                  55,
                  55
                ],
                "position": [
                  0,
                  0
                ]
              },
              {
                "id": 33,
                "properties": {
                  "_id": {
                    "offset": 28,
                    "table": 0
                  },
                  "_label": "MenuItem",
                  "name": "Customize your home screen",
                  "description": "\"Customize your home screen\" lets you personalize your phone's main display.  You can add or remove widgets for quick access to apps and information.  It allows rearranging app icons and widgets for optimal placement.  This setting also controls the appearance of the app drawer button.\n",
                  "MenuItem": true,
                  "label": "MenuItem_Customize your home screen"
                },
                "color": "#15AFAC",
                "styles": {},
                "label": "MenuItem_Customize your home screen",
                "scale_factor": 1,
                "type": "#15AFAC",
                "size": [
                  55,
                  55
                ],
                "position": [
                  0,
                  0
                ]
              },
              {
                "id": 34,
                "properties": {
                  "_id": {
                    "offset": 68,
                    "table": 0
                  },
                  "_label": "MenuItem",
                  "name": "Mobile continuity",
                  "description": "Mobile Continuity lets you view and manage your phone's notifications directly on your Windows PC.  It displays these notifications as pop-ups on your computer screen.  You can also customize which apps send notifications to your PC. This feature seamlessly integrates your phone and computer experience.\n",
                  "MenuItem": true,
                  "label": "MenuItem_Mobile continuity"
                },
                "color": "#15AFAC",
                "styles": {},
                "label": "MenuItem_Mobile continuity",
                "scale_factor": 1,
                "type": "#15AFAC",
                "size": [
                  55,
                  55
                ],
                "position": [
                  0,
                  0
                ]
              },
              {
                "id": 35,
                "properties": {
                  "_id": {
                    "offset": 10,
                    "table": 0
                  },
                  "_label": "MenuItem",
                  "name": "AOD themes",
                  "description": "AOD themes are customizable designs for your phone's Always On Display (AOD) feature.  They offer a variety of visual styles to personalize your lock screen even when the phone is asleep.  You can download and apply these themes from within your phone's wallpaper settings.  Enjoy a unique and expressive AOD that reflects your personal taste.\n",
                  "MenuItem": true,
                  "label": "MenuItem_AOD themes"
                },
                "color": "#15AFAC",
                "styles": {},
                "label": "MenuItem_AOD themes",
                "scale_factor": 1,
                "type": "#15AFAC",
                "size": [
                  55,
                  55
                ],
                "position": [
                  0,
                  0
                ]
              },
              {
                "id": 36,
                "properties": {
                  "_id": {
                    "offset": 12,
                    "table": 0
                  },
                  "_label": "MenuItem",
                  "name": "Clock and information",
                  "description": "\"Clock and Information\" lets you customize your lock screen's appearance.  It controls the display of the clock and other helpful data. You can choose which notifications appear on the lock screen and Always On Display.  This setting is accessed through the device's main Settings menu.\n",
                  "MenuItem": true,
                  "label": "MenuItem_Clock and information"
                },
                "color": "#15AFAC",
                "styles": {},
                "label": "MenuItem_Clock and information",
                "scale_factor": 1,
                "type": "#15AFAC",
                "size": [
                  55,
                  55
                ],
                "position": [
                  0,
                  0
                ]
              },
              {
                "id": 37,
                "properties": {
                  "_id": {
                    "offset": 47,
                    "table": 0
                  },
                  "_label": "MenuItem",
                  "name": "Set a secure screen lock",
                  "description": "\"Set a secure screen lock\" lets you protect your device with a pattern, PIN, or password.  This added security is a prerequisite for using biometric locks like fingerprint or facial recognition.  You can also customize notification display on your lock screen.  Finally, tap \"Done\" to save your chosen settings.\n",
                  "MenuItem": true,
                  "label": "MenuItem_Set a secure screen lock"
                },
                "color": "#15AFAC",
                "styles": {},
                "label": "MenuItem_Set a secure screen lock",
                "scale_factor": 1,
                "type": "#15AFAC",
                "size": [
                  55,
                  55
                ],
                "position": [
                  0,
                  0
                ]
              },
              {
                "id": 38,
                "properties": {
                  "_id": {
                    "offset": 14,
                    "table": 0
                  },
                  "_label": "MenuItem",
                  "name": "Time zone converter",
                  "description": "The Time Zone Converter shows you the corresponding local times in multiple cities when you set a time in one specific city.  It uses your existing World Clock city list.  Simply adjust the time for your chosen city, and the converter instantly updates the times for all other listed cities.  Resetting the clock returns all times to the current time in each location.\n",
                  "MenuItem": true,
                  "label": "MenuItem_Time zone converter"
                },
                "color": "#15AFAC",
                "styles": {},
                "label": "MenuItem_Time zone converter",
                "scale_factor": 1,
                "type": "#15AFAC",
                "size": [
                  55,
                  55
                ],
                "position": [
                  0,
                  0
                ]
              },
              {
                "id": 39,
                "properties": {
                  "_id": {
                    "offset": 63,
                    "table": 0
                  },
                  "_label": "MenuItem",
                  "name": "Timer options",
                  "description": "Timer options let you personalize your timer experience.  You can select a sound for the timer's alarm.  Vibration can be enabled or disabled for alerts.  These settings are accessed through the Clock app.\n",
                  "MenuItem": true,
                  "label": "MenuItem_Timer options"
                },
                "color": "#15AFAC",
                "styles": {},
                "label": "MenuItem_Timer options",
                "scale_factor": 1,
                "type": "#15AFAC",
                "size": [
                  55,
                  55
                ],
                "position": [
                  0,
                  0
                ]
              },
              {
                "id": 40,
                "properties": {
                  "_id": {
                    "offset": 16,
                    "table": 0
                  },
                  "_label": "MenuItem",
                  "name": "Mobile hotspot",
                  "description": "Mobile Hotspot shares your phone's internet connection with other devices.  It creates a Wi-Fi network using your phone's data plan. You can customize the network name, password, and security settings.  This lets you securely share your internet access with laptops, tablets, or other gadgets.\n",
                  "MenuItem": true,
                  "label": "MenuItem_Mobile hotspot"
                },
                "color": "#15AFAC",
                "styles": {},
                "label": "MenuItem_Mobile hotspot",
                "scale_factor": 1,
                "type": "#15AFAC",
                "size": [
                  55,
                  55
                ],
                "position": [
                  0,
                  0
                ]
              },
              {
                "id": 41,
                "properties": {
                  "_id": {
                    "offset": 62,
                    "table": 0
                  },
                  "_label": "MenuItem",
                  "name": "NFC and payment",
                  "description": "NFC, or Near Field Communication, enables contactless data transfer between devices within a few centimeters.  This technology facilitates quick, secure payments using compatible apps.  Your phone must have NFC enabled, and the payment terminal needs NFC capability as well.  Simply hold your phone near the terminal to complete the transaction.\n",
                  "MenuItem": true,
                  "label": "MenuItem_NFC and payment"
                },
                "color": "#15AFAC",
                "styles": {},
                "label": "MenuItem_NFC and payment",
                "scale_factor": 1,
                "type": "#15AFAC",
                "size": [
                  55,
                  55
                ],
                "position": [
                  0,
                  0
                ]
              },
              {
                "id": 42,
                "properties": {
                  "_id": {
                    "offset": 17,
                    "table": 0
                  },
                  "_label": "MenuItem",
                  "name": "Configure mobile hotspot settings",
                  "description": "Configure mobile hotspot settings lets you customize your phone's Wi-Fi hotspot.  You can change the hotspot's name and password, and choose its security level.  It also allows you to hide your hotspot from other devices for increased privacy.  Additionally, you can enable power saving mode to extend your battery life.\n",
                  "MenuItem": true,
                  "label": "MenuItem_Configure mobile hotspot settings"
                },
                "color": "#15AFAC",
                "styles": {},
                "label": "MenuItem_Configure mobile hotspot settings",
                "scale_factor": 1,
                "type": "#15AFAC",
                "size": [
                  55,
                  55
                ],
                "position": [
                  0,
                  0
                ]
              },
              {
                "id": 43,
                "properties": {
                  "_id": {
                    "offset": 19,
                    "table": 0
                  },
                  "_label": "MenuItem",
                  "name": "Notes menu",
                  "description": "The Notes menu provides access to all your saved notes.  You can organize and view your notes by category.  It also includes a Trash folder for recently deleted notes (up to 15 days).  This menu allows for easy management and retrieval of your notes.\n",
                  "MenuItem": true,
                  "label": "MenuItem_Notes menu"
                },
                "color": "#15AFAC",
                "styles": {},
                "label": "MenuItem_Notes menu",
                "scale_factor": 1,
                "type": "#15AFAC",
                "size": [
                  55,
                  55
                ],
                "position": [
                  0,
                  0
                ]
              },
              {
                "id": 44,
                "properties": {
                  "_id": {
                    "offset": 44,
                    "table": 0
                  },
                  "_label": "MenuItem",
                  "name": "Edit notes",
                  "description": "\"Edit Notes\" lets you modify existing notes created in Samsung Notes.  Open a note by tapping on it.  Make your changes using the editing tools provided.  Save your revised note to keep the updates.\n",
                  "MenuItem": true,
                  "label": "MenuItem_Edit notes"
                },
                "color": "#15AFAC",
                "styles": {},
                "label": "MenuItem_Edit notes",
                "scale_factor": 1,
                "type": "#15AFAC",
                "size": [
                  55,
                  55
                ],
                "position": [
                  0,
                  0
                ]
              },
              {
                "id": 45,
                "properties": {
                  "_id": {
                    "offset": 21,
                    "table": 0
                  },
                  "_label": "MenuItem",
                  "name": "Screenshot Settings",
                  "description": "Screenshot Settings lets you customize how screenshots and screen recordings are handled on your device.  You can choose whether a toolbar appears with extra options after taking a screenshot.  This menu is accessed through your device's main Settings menu.  Here, you'll find options to adjust various screenshot and screen recording behaviors.\n",
                  "MenuItem": true,
                  "label": "MenuItem_Screenshot Settings"
                },
                "color": "#15AFAC",
                "styles": {},
                "label": "MenuItem_Screenshot Settings",
                "scale_factor": 1,
                "type": "#15AFAC",
                "size": [
                  55,
                  55
                ],
                "position": [
                  0,
                  0
                ]
              },
              {
                "id": 46,
                "properties": {
                  "_id": {
                    "offset": 40,
                    "table": 0
                  },
                  "_label": "MenuItem",
                  "name": "Palm swipe to capture a screenshot",
                  "description": "Palm swipe to capture is a screenshot method using a hand gesture.  Swipe the edge of your hand across the screen to take a picture of what's displayed.  This feature needs to be enabled in your device's settings.  Locate it under Advanced features > Motions and gestures > Palm swipe to capture.\n",
                  "MenuItem": true,
                  "label": "MenuItem_Palm swipe to capture a screenshot"
                },
                "color": "#15AFAC",
                "styles": {},
                "label": "MenuItem_Palm swipe to capture a screenshot",
                "scale_factor": 1,
                "type": "#15AFAC",
                "size": [
                  55,
                  55
                ],
                "position": [
                  0,
                  0
                ]
              },
              {
                "id": 47,
                "properties": {
                  "_id": {
                    "offset": 61,
                    "table": 0
                  },
                  "_label": "MenuItem",
                  "name": "Edit pictures",
                  "description": "\"Edit Pictures\" lets you enhance photos directly within the Gallery app.  It provides tools to transform images (rotate, crop, etc.), apply filters and stickers, and add text or drawings. You can also fine-tune the brightness and tone.  Save your edited picture once you're happy with the results.\n",
                  "MenuItem": true,
                  "label": "MenuItem_Edit pictures"
                },
                "color": "#15AFAC",
                "styles": {},
                "label": "MenuItem_Edit pictures",
                "scale_factor": 1,
                "type": "#15AFAC",
                "size": [
                  55,
                  55
                ],
                "position": [
                  0,
                  0
                ]
              },
              {
                "id": 48,
                "properties": {
                  "_id": {
                    "offset": 23,
                    "table": 0
                  },
                  "_label": "MenuItem",
                  "name": "Fingerprint verification settings",
                  "description": "Fingerprint verification settings allow you to use your fingerprint to authenticate yourself within various apps and system functions.  This feature enhances security by adding a biometric layer to your device's access controls.  On supported devices, like the Galaxy S10e,  you can even enable quick unlocking using only your fingerprint and the power button.  This setting manages the sensitivity and overall functionality of your fingerprint sensor.\n",
                  "MenuItem": true,
                  "label": "MenuItem_Fingerprint verification settings"
                },
                "color": "#15AFAC",
                "styles": {},
                "label": "MenuItem_Fingerprint verification settings",
                "scale_factor": 1,
                "type": "#15AFAC",
                "size": [
                  55,
                  55
                ],
                "position": [
                  0,
                  0
                ]
              },
              {
                "id": 49,
                "properties": {
                  "_id": {
                    "offset": 46,
                    "table": 0
                  },
                  "_label": "MenuItem",
                  "name": "Face recognition management",
                  "description": "Face recognition management lets you adjust how your device uses face recognition to unlock.  You can control screen brightness for better recognition in low light.  A \"faster recognition\" option prioritizes speed over security.  Alternatively, you can disable faster recognition for enhanced security against spoofing.\n",
                  "MenuItem": true,
                  "label": "MenuItem_Face recognition management"
                },
                "color": "#15AFAC",
                "styles": {},
                "label": "MenuItem_Face recognition management",
                "scale_factor": 1,
                "type": "#15AFAC",
                "size": [
                  55,
                  55
                ],
                "position": [
                  0,
                  0
                ]
              },
              {
                "id": 50,
                "properties": {
                  "_id": {
                    "offset": 25,
                    "table": 0
                  },
                  "_label": "MenuItem",
                  "name": "Storage",
                  "description": "Storage refers to the total space available on your device to save files, apps, photos, and other data.  It shows how much space is currently used and how much is free.  Managing storage helps prevent performance issues caused by a full drive.  Regularly cleaning up unnecessary files keeps your device running smoothly.\n",
                  "MenuItem": true,
                  "label": "MenuItem_Storage"
                },
                "color": "#15AFAC",
                "styles": {},
                "label": "MenuItem_Storage",
                "scale_factor": 1,
                "type": "#15AFAC",
                "size": [
                  55,
                  55
                ],
                "position": [
                  0,
                  0
                ]
              },
              {
                "id": 51,
                "properties": {
                  "_id": {
                    "offset": 42,
                    "table": 0
                  },
                  "_label": "MenuItem",
                  "name": "Battery",
                  "description": "The \"Battery\" menu shows your device's power consumption.  It details how much battery life each app and service uses.  This allows you to identify power-hungry applications.  Understanding this information helps optimize battery life and manage your device's power usage effectively.\n",
                  "MenuItem": true,
                  "label": "MenuItem_Battery"
                },
                "color": "#15AFAC",
                "styles": {},
                "label": "MenuItem_Battery",
                "scale_factor": 1,
                "type": "#15AFAC",
                "size": [
                  55,
                  55
                ],
                "position": [
                  0,
                  0
                ]
              },
              {
                "id": 52,
                "properties": {
                  "_id": {
                    "offset": 59,
                    "table": 0
                  },
                  "_label": "MenuItem",
                  "name": "Language and input",
                  "description": "\"Language and input\" lets you customize how your device handles text and spoken language.  It includes settings for text-to-speech (TTS), allowing you to adjust voice characteristics.  You can also manage different keyboard layouts and input methods here. This menu provides control over your device's language preferences and how you interact with text.\n",
                  "MenuItem": true,
                  "label": "MenuItem_Language and input"
                },
                "color": "#15AFAC",
                "styles": {},
                "label": "MenuItem_Language and input",
                "scale_factor": 1,
                "type": "#15AFAC",
                "size": [
                  55,
                  55
                ],
                "position": [
                  0,
                  0
                ]
              },
              {
                "id": 53,
                "properties": {
                  "_id": {
                    "offset": 26,
                    "table": 0
                  },
                  "_label": "MenuItem",
                  "name": "Device storage",
                  "description": "Device storage refers to the total space available on your device to save files, apps, and data.  It's like a digital filing cabinet holding everything your device needs to function.  When storage is full, your device may slow down or struggle to run apps properly.  Managing device storage ensures optimal performance and prevents data loss.\n",
                  "MenuItem": true,
                  "label": "MenuItem_Device storage"
                },
                "color": "#15AFAC",
                "styles": {},
                "label": "MenuItem_Device storage",
                "scale_factor": 1,
                "type": "#15AFAC",
                "size": [
                  55,
                  55
                ],
                "position": [
                  0,
                  0
                ]
              },
              {
                "id": 54,
                "properties": {
                  "_id": {
                    "offset": 29,
                    "table": 0
                  },
                  "_label": "MenuItem",
                  "name": "Home screen settings",
                  "description": "Home screen settings lets you personalize your phone's home screen.  It allows you to customize the appearance and functionality of your home screen and app screens.  One option is adding an Apps button for quick access to all your apps.  Essentially, it controls how your home screen looks and works.\n",
                  "MenuItem": true,
                  "label": "MenuItem_Home screen settings"
                },
                "color": "#15AFAC",
                "styles": {},
                "label": "MenuItem_Home screen settings",
                "scale_factor": 1,
                "type": "#15AFAC",
                "size": [
                  55,
                  55
                ],
                "position": [
                  0,
                  0
                ]
              },
              {
                "id": 55,
                "properties": {
                  "_id": {
                    "offset": 58,
                    "table": 0
                  },
                  "_label": "MenuItem",
                  "name": "Customize Widgets",
                  "description": "\"Customize Widgets\" lets you personalize your widgets' placement on your home screen.  You can reposition them by touch and hold, then drag to a new location.  The \"App info\" option provides details about a widget's usage and permissions. This allows you to tailor your home screen to your preferences and needs.\n",
                  "MenuItem": true,
                  "label": "MenuItem_Customize Widgets"
                },
                "color": "#15AFAC",
                "styles": {},
                "label": "MenuItem_Customize Widgets",
                "scale_factor": 1,
                "type": "#15AFAC",
                "size": [
                  55,
                  55
                ],
                "position": [
                  0,
                  0
                ]
              },
              {
                "id": 56,
                "properties": {
                  "_id": {
                    "offset": 70,
                    "table": 0
                  },
                  "_label": "MenuItem",
                  "name": "View the Notification panel",
                  "description": "The Notification panel displays all your recent alerts and notifications.  Access it by pulling down the Status bar.  Each notification can be opened, individually dismissed, or cleared all at once.  Close the panel by swiping up or tapping the Back button.\n",
                  "MenuItem": true,
                  "label": "MenuItem_View the Notification panel"
                },
                "color": "#15AFAC",
                "styles": {},
                "label": "MenuItem_View the Notification panel",
                "scale_factor": 1,
                "type": "#15AFAC",
                "size": [
                  55,
                  55
                ],
                "position": [
                  0,
                  0
                ]
              },
              {
                "id": 57,
                "properties": {
                  "_id": {
                    "offset": 31,
                    "table": 0
                  },
                  "_label": "MenuItem",
                  "name": "Notification sound",
                  "description": "Notification sound sets the audio alert for all your app notifications.  You can select a pre-set sound from your device's options.  A preview function lets you hear each sound before choosing.  Individual app notification sounds can also be customized.\n",
                  "MenuItem": true,
                  "label": "MenuItem_Notification sound"
                },
                "color": "#15AFAC",
                "styles": {},
                "label": "MenuItem_Notification sound",
                "scale_factor": 1,
                "type": "#15AFAC",
                "size": [
                  55,
                  55
                ],
                "position": [
                  0,
                  0
                ]
              },
              {
                "id": 58,
                "properties": {
                  "_id": {
                    "offset": 34,
                    "table": 0
                  },
                  "_label": "MenuItem",
                  "name": "Add or remove group contacts",
                  "description": "\"Add or remove group contacts\" lets you modify the members of your contact groups.  You can remove existing contacts from a group by selecting and deleting them.  Adding new contacts involves selecting them from your contact list.  This feature allows for flexible management of your grouped contacts.\n",
                  "MenuItem": true,
                  "label": "MenuItem_Add or remove group contacts"
                },
                "color": "#15AFAC",
                "styles": {},
                "label": "MenuItem_Add or remove group contacts",
                "scale_factor": 1,
                "type": "#15AFAC",
                "size": [
                  55,
                  55
                ],
                "position": [
                  0,
                  0
                ]
              },
              {
                "id": 59,
                "properties": {
                  "_id": {
                    "offset": 50,
                    "table": 0
                  },
                  "_label": "MenuItem",
                  "name": "Delete a group",
                  "description": "\"Delete a Group\" removes a group you've created from your contact list.  You can choose to delete only the group itself, preserving the contacts within. Alternatively, you can delete both the group and all its associated contacts.  This action is irreversible, so proceed with caution.\n",
                  "MenuItem": true,
                  "label": "MenuItem_Delete a group"
                },
                "color": "#15AFAC",
                "styles": {},
                "label": "MenuItem_Delete a group",
                "scale_factor": 1,
                "type": "#15AFAC",
                "size": [
                  55,
                  55
                ],
                "position": [
                  0,
                  0
                ]
              },
              {
                "id": 60,
                "properties": {
                  "_id": {
                    "offset": 64,
                    "table": 0
                  },
                  "_label": "MenuItem",
                  "name": "Link contacts",
                  "description": "\"Link contacts\" merges multiple, separate contact entries into a single, unified profile.  This combines information from different sources into one convenient location.  To use it, select a contact and choose the \"Link to another contact\" option. Then, select the contacts you wish to merge and confirm the link.\n",
                  "MenuItem": true,
                  "label": "MenuItem_Link contacts"
                },
                "color": "#15AFAC",
                "styles": {},
                "label": "MenuItem_Link contacts",
                "scale_factor": 1,
                "type": "#15AFAC",
                "size": [
                  55,
                  55
                ],
                "position": [
                  0,
                  0
                ]
              },
              {
                "id": 61,
                "properties": {
                  "_id": {
                    "offset": 36,
                    "table": 0
                  },
                  "_label": "MenuItem",
                  "name": "Create and use folders",
                  "description": "Create folders to group app shortcuts for better organization on your Apps list.  Drag and drop one app shortcut onto another to create a folder.  Customize the folder's color using the Palette option. Close the folder by tapping the Back button.\n",
                  "MenuItem": true,
                  "label": "MenuItem_Create and use folders"
                },
                "color": "#15AFAC",
                "styles": {},
                "label": "MenuItem_Create and use folders",
                "scale_factor": 1,
                "type": "#15AFAC",
                "size": [
                  55,
                  55
                ],
                "position": [
                  0,
                  0
                ]
              },
              {
                "id": 62,
                "properties": {
                  "_id": {
                    "offset": 43,
                    "table": 0
                  },
                  "_label": "MenuItem",
                  "name": "App settings",
                  "description": "App settings lets you manage your device's installed applications, both downloaded and pre-installed.  You can view memory usage for each app.  Some apps allow you to designate them as the default for specific tasks.  Options available within app settings vary depending on the individual application.\n",
                  "MenuItem": true,
                  "label": "MenuItem_App settings"
                },
                "color": "#15AFAC",
                "styles": {},
                "label": "MenuItem_App settings",
                "scale_factor": 1,
                "type": "#15AFAC",
                "size": [
                  55,
                  55
                ],
                "position": [
                  0,
                  0
                ]
              },
              {
                "id": 63,
                "properties": {
                  "_id": {
                    "offset": 38,
                    "table": 0
                  },
                  "_label": "MenuItem",
                  "name": "Screen timeout",
                  "description": "Screen timeout automatically turns off your screen after a period of inactivity.  This conserves battery power and extends your device's lifespan. You can customize the length of this inactivity period.  Choose a timeout duration that suits your usage habits.\n",
                  "MenuItem": true,
                  "label": "MenuItem_Screen timeout"
                },
                "color": "#15AFAC",
                "styles": {},
                "label": "MenuItem_Screen timeout",
                "scale_factor": 1,
                "type": "#15AFAC",
                "size": [
                  55,
                  55
                ],
                "position": [
                  0,
                  0
                ]
              },
              {
                "id": 64,
                "properties": {
                  "_id": {
                    "offset": 65,
                    "table": 0
                  },
                  "_label": "MenuItem",
                  "name": "Blue light filter",
                  "description": "The Blue light filter reduces the amount of blue light emitted from your device's screen.  This helps to reduce eye strain and improve sleep quality, especially at night.  You can adjust the filter's intensity using an opacity slider.  Scheduling options allow automatic on/off times for convenient use.\n",
                  "MenuItem": true,
                  "label": "MenuItem_Blue light filter"
                },
                "color": "#15AFAC",
                "styles": {},
                "label": "MenuItem_Blue light filter",
                "scale_factor": 1,
                "type": "#15AFAC",
                "size": [
                  55,
                  55
                ],
                "position": [
                  0,
                  0
                ]
              },
              {
                "id": 65,
                "properties": {
                  "_id": {
                    "offset": 52,
                    "table": 0
                  },
                  "_label": "MenuItem",
                  "name": "Remove an account",
                  "description": "Removing an account deletes all associated data from your device.  This action is permanent and cannot be undone.  It's useful for clearing old or unused accounts.  To remove an account, follow the steps in your device's settings.\n",
                  "MenuItem": true,
                  "label": "MenuItem_Remove an account"
                },
                "color": "#15AFAC",
                "styles": {},
                "label": "MenuItem_Remove an account",
                "scale_factor": 1,
                "type": "#15AFAC",
                "size": [
                  55,
                  55
                ],
                "position": [
                  0,
                  0
                ]
              },
              {
                "id": 66,
                "properties": {
                  "_id": {
                    "offset": 54,
                    "table": 0
                  },
                  "_label": "MenuItem",
                  "name": "Visibility enhancements",
                  "description": "\"Visibility enhancements\" lets you customize your screen's appearance for better readability.  It allows adjustments to text and element colors and contrast levels.  This feature improves viewing comfort, especially for users with visual impairments.  Access it through your device's Settings menu under Accessibility.\n",
                  "MenuItem": true,
                  "label": "MenuItem_Visibility enhancements"
                },
                "color": "#15AFAC",
                "styles": {},
                "label": "MenuItem_Visibility enhancements",
                "scale_factor": 1,
                "type": "#15AFAC",
                "size": [
                  55,
                  55
                ],
                "position": [
                  0,
                  0
                ]
              },
              {
                "id": 67,
                "properties": {
                  "_id": {
                    "offset": 55,
                    "table": 0
                  },
                  "_label": "MenuItem",
                  "name": "Colors and clarity",
                  "description": "\"Colors and clarity\" lets you customize the visual appearance of your screen.  It enhances readability by adjusting text and element colors.  This feature offers options for increased contrast, making the display easier on the eyes.  Specifically, it includes a high-contrast keyboard option for improved key visibility.\n",
                  "MenuItem": true,
                  "label": "MenuItem_Colors and clarity"
                },
                "color": "#15AFAC",
                "styles": {},
                "label": "MenuItem_Colors and clarity",
                "scale_factor": 1,
                "type": "#15AFAC",
                "size": [
                  55,
                  55
                ],
                "position": [
                  0,
                  0
                ]
              },
              {
                "id": 68,
                "properties": {
                  "_id": {
                    "offset": 57,
                    "table": 0
                  },
                  "_label": "MenuItem",
                  "name": "Manage notifications",
                  "description": "Manage Notifications lets you customize how apps and services alert you.  It allows you to control which apps send notifications.  You can also adjust notification settings for individual apps.  This includes features like a snooze option to postpone alerts.\n",
                  "MenuItem": true,
                  "label": "MenuItem_Manage notifications"
                },
                "color": "#15AFAC",
                "styles": {},
                "label": "MenuItem_Manage notifications",
                "scale_factor": 1,
                "type": "#15AFAC",
                "size": [
                  55,
                  55
                ],
                "position": [
                  0,
                  0
                ]
              },
              {
                "id": 69,
                "properties": {
                  "_id": {
                    "offset": 60,
                    "table": 0
                  },
                  "_label": "MenuItem",
                  "name": "Text-to-speech",
                  "description": "Text-to-speech (TTS) converts written text into spoken words.  It's a helpful accessibility feature.  You can adjust the pitch of the synthesized voice.  TTS is used in applications like Voice Assistants.\n",
                  "MenuItem": true,
                  "label": "MenuItem_Text-to-speech"
                },
                "color": "#15AFAC",
                "styles": {},
                "label": "MenuItem_Text-to-speech",
                "scale_factor": 1,
                "type": "#15AFAC",
                "size": [
                  55,
                  55
                ],
                "position": [
                  0,
                  0
                ]
              },
              {
                "id": 70,
                "properties": {
                  "_id": {
                    "offset": 67,
                    "table": 0
                  },
                  "_label": "MenuItem",
                  "name": "Maps",
                  "description": "The Maps feature provides location-based services.  It offers directions to various destinations.  Accurate location information requires enabling location services on your device.  Access additional help and resources through the provided support link.\n",
                  "MenuItem": true,
                  "label": "MenuItem_Maps"
                },
                "color": "#15AFAC",
                "styles": {},
                "label": "MenuItem_Maps",
                "scale_factor": 1,
                "type": "#15AFAC",
                "size": [
                  55,
                  55
                ],
                "position": [
                  0,
                  0
                ]
              },
              {
                "id": 71,
                "properties": {
                  "_id": {
                    "offset": 69,
                    "table": 0
                  },
                  "_label": "MenuItem",
                  "name": "Link to Windows",
                  "description": "Link to Windows connects your phone and PC, mirroring your phone's notifications on your computer screen.  This lets you see and manage these notifications directly from your Windows desktop. You can even customize which apps send notifications to your PC.  It provides a convenient way to stay on top of your phone's alerts without constantly checking your device.\n",
                  "MenuItem": true,
                  "label": "MenuItem_Link to Windows"
                },
                "color": "#15AFAC",
                "styles": {},
                "label": "MenuItem_Link to Windows",
                "scale_factor": 1,
                "type": "#15AFAC",
                "size": [
                  55,
                  55
                ],
                "position": [
                  0,
                  0
                ]
              }
            ],
            "_overview": {
              "enabled": null,
              "overview_set": false
            },
            "_selected_graph": [
              [
                {
                  "id": 71,
                  "properties": {
                    "_id": {
                      "offset": 69,
                      "table": 0
                    },
                    "_label": "MenuItem",
                    "name": "Link to Windows",
                    "description": "Link to Windows connects your phone and PC, mirroring your phone's notifications on your computer screen.  This lets you see and manage these notifications directly from your Windows desktop. You can even customize which apps send notifications to your PC.  It provides a convenient way to stay on top of your phone's alerts without constantly checking your device.\n",
                    "MenuItem": true,
                    "label": "MenuItem_Link to Windows"
                  }
                }
              ],
              []
            ],
            "_sidebar": {
              "enabled": false,
              "start_with": ""
            },
            "_view_count": null,
            "_view_module": "yfiles-jupyter-graphs",
            "_view_module_version": "^1.10.3",
            "_view_name": "GraphView",
            "layout": "IPY_MODEL_56836467b9c84333b17d18c1e69815bd"
          }
        },
        "56836467b9c84333b17d18c1e69815bd": {
          "model_module": "@jupyter-widgets/base",
          "model_name": "LayoutModel",
          "model_module_version": "1.2.0",
          "state": {
            "_model_module": "@jupyter-widgets/base",
            "_model_module_version": "1.2.0",
            "_model_name": "LayoutModel",
            "_view_count": null,
            "_view_module": "@jupyter-widgets/base",
            "_view_module_version": "1.2.0",
            "_view_name": "LayoutView",
            "align_content": null,
            "align_items": null,
            "align_self": null,
            "border": null,
            "bottom": null,
            "display": null,
            "flex": null,
            "flex_flow": null,
            "grid_area": null,
            "grid_auto_columns": null,
            "grid_auto_flow": null,
            "grid_auto_rows": null,
            "grid_column": null,
            "grid_gap": null,
            "grid_row": null,
            "grid_template_areas": null,
            "grid_template_columns": null,
            "grid_template_rows": null,
            "height": "800px",
            "justify_content": null,
            "justify_items": null,
            "left": null,
            "margin": null,
            "max_height": null,
            "max_width": null,
            "min_height": null,
            "min_width": null,
            "object_fit": null,
            "object_position": null,
            "order": null,
            "overflow": null,
            "overflow_x": null,
            "overflow_y": null,
            "padding": null,
            "right": null,
            "top": null,
            "visibility": null,
            "width": "100%"
          }
        },
        "4a5e3d26c1074a62a10653b2a294ce82": {
          "model_module": "@jupyter-widgets/controls",
          "model_name": "HBoxModel",
          "model_module_version": "1.5.0",
          "state": {
            "_dom_classes": [],
            "_model_module": "@jupyter-widgets/controls",
            "_model_module_version": "1.5.0",
            "_model_name": "HBoxModel",
            "_view_count": null,
            "_view_module": "@jupyter-widgets/controls",
            "_view_module_version": "1.5.0",
            "_view_name": "HBoxView",
            "box_style": "",
            "children": [
              "IPY_MODEL_d45af8387fcd4e788326d4c2367e7cf3",
              "IPY_MODEL_09d54b2730ce4d8989a515240332afe1",
              "IPY_MODEL_c14ae69edf60484aacdfa26d98e94f84"
            ],
            "layout": "IPY_MODEL_561e4398d290452d88c8c0af8f5263ee"
          }
        },
        "d45af8387fcd4e788326d4c2367e7cf3": {
          "model_module": "@jupyter-widgets/controls",
          "model_name": "HTMLModel",
          "model_module_version": "1.5.0",
          "state": {
            "_dom_classes": [],
            "_model_module": "@jupyter-widgets/controls",
            "_model_module_version": "1.5.0",
            "_model_name": "HTMLModel",
            "_view_count": null,
            "_view_module": "@jupyter-widgets/controls",
            "_view_module_version": "1.5.0",
            "_view_name": "HTMLView",
            "description": "",
            "description_tooltip": null,
            "layout": "IPY_MODEL_0c2132b2519a45d0b067e6667d3f27c4",
            "placeholder": "​",
            "style": "IPY_MODEL_24e3f937770e410aad4e1d3087085375",
            "value": "tokenizer_config.json: 100%"
          }
        },
        "09d54b2730ce4d8989a515240332afe1": {
          "model_module": "@jupyter-widgets/controls",
          "model_name": "FloatProgressModel",
          "model_module_version": "1.5.0",
          "state": {
            "_dom_classes": [],
            "_model_module": "@jupyter-widgets/controls",
            "_model_module_version": "1.5.0",
            "_model_name": "FloatProgressModel",
            "_view_count": null,
            "_view_module": "@jupyter-widgets/controls",
            "_view_module_version": "1.5.0",
            "_view_name": "ProgressView",
            "bar_style": "success",
            "description": "",
            "description_tooltip": null,
            "layout": "IPY_MODEL_85550cca3ee742d6901b5f76119d38f0",
            "max": 48,
            "min": 0,
            "orientation": "horizontal",
            "style": "IPY_MODEL_99e513eb68ef47a4804288eecd86c0c1",
            "value": 48
          }
        },
        "c14ae69edf60484aacdfa26d98e94f84": {
          "model_module": "@jupyter-widgets/controls",
          "model_name": "HTMLModel",
          "model_module_version": "1.5.0",
          "state": {
            "_dom_classes": [],
            "_model_module": "@jupyter-widgets/controls",
            "_model_module_version": "1.5.0",
            "_model_name": "HTMLModel",
            "_view_count": null,
            "_view_module": "@jupyter-widgets/controls",
            "_view_module_version": "1.5.0",
            "_view_name": "HTMLView",
            "description": "",
            "description_tooltip": null,
            "layout": "IPY_MODEL_f3b9425075e74e08b998a965026ca4a1",
            "placeholder": "​",
            "style": "IPY_MODEL_207fcff5b42645838ca31b0ff28f8fe5",
            "value": " 48.0/48.0 [00:00&lt;00:00, 3.87kB/s]"
          }
        },
        "561e4398d290452d88c8c0af8f5263ee": {
          "model_module": "@jupyter-widgets/base",
          "model_name": "LayoutModel",
          "model_module_version": "1.2.0",
          "state": {
            "_model_module": "@jupyter-widgets/base",
            "_model_module_version": "1.2.0",
            "_model_name": "LayoutModel",
            "_view_count": null,
            "_view_module": "@jupyter-widgets/base",
            "_view_module_version": "1.2.0",
            "_view_name": "LayoutView",
            "align_content": null,
            "align_items": null,
            "align_self": null,
            "border": null,
            "bottom": null,
            "display": null,
            "flex": null,
            "flex_flow": null,
            "grid_area": null,
            "grid_auto_columns": null,
            "grid_auto_flow": null,
            "grid_auto_rows": null,
            "grid_column": null,
            "grid_gap": null,
            "grid_row": null,
            "grid_template_areas": null,
            "grid_template_columns": null,
            "grid_template_rows": null,
            "height": null,
            "justify_content": null,
            "justify_items": null,
            "left": null,
            "margin": null,
            "max_height": null,
            "max_width": null,
            "min_height": null,
            "min_width": null,
            "object_fit": null,
            "object_position": null,
            "order": null,
            "overflow": null,
            "overflow_x": null,
            "overflow_y": null,
            "padding": null,
            "right": null,
            "top": null,
            "visibility": null,
            "width": null
          }
        },
        "0c2132b2519a45d0b067e6667d3f27c4": {
          "model_module": "@jupyter-widgets/base",
          "model_name": "LayoutModel",
          "model_module_version": "1.2.0",
          "state": {
            "_model_module": "@jupyter-widgets/base",
            "_model_module_version": "1.2.0",
            "_model_name": "LayoutModel",
            "_view_count": null,
            "_view_module": "@jupyter-widgets/base",
            "_view_module_version": "1.2.0",
            "_view_name": "LayoutView",
            "align_content": null,
            "align_items": null,
            "align_self": null,
            "border": null,
            "bottom": null,
            "display": null,
            "flex": null,
            "flex_flow": null,
            "grid_area": null,
            "grid_auto_columns": null,
            "grid_auto_flow": null,
            "grid_auto_rows": null,
            "grid_column": null,
            "grid_gap": null,
            "grid_row": null,
            "grid_template_areas": null,
            "grid_template_columns": null,
            "grid_template_rows": null,
            "height": null,
            "justify_content": null,
            "justify_items": null,
            "left": null,
            "margin": null,
            "max_height": null,
            "max_width": null,
            "min_height": null,
            "min_width": null,
            "object_fit": null,
            "object_position": null,
            "order": null,
            "overflow": null,
            "overflow_x": null,
            "overflow_y": null,
            "padding": null,
            "right": null,
            "top": null,
            "visibility": null,
            "width": null
          }
        },
        "24e3f937770e410aad4e1d3087085375": {
          "model_module": "@jupyter-widgets/controls",
          "model_name": "DescriptionStyleModel",
          "model_module_version": "1.5.0",
          "state": {
            "_model_module": "@jupyter-widgets/controls",
            "_model_module_version": "1.5.0",
            "_model_name": "DescriptionStyleModel",
            "_view_count": null,
            "_view_module": "@jupyter-widgets/base",
            "_view_module_version": "1.2.0",
            "_view_name": "StyleView",
            "description_width": ""
          }
        },
        "85550cca3ee742d6901b5f76119d38f0": {
          "model_module": "@jupyter-widgets/base",
          "model_name": "LayoutModel",
          "model_module_version": "1.2.0",
          "state": {
            "_model_module": "@jupyter-widgets/base",
            "_model_module_version": "1.2.0",
            "_model_name": "LayoutModel",
            "_view_count": null,
            "_view_module": "@jupyter-widgets/base",
            "_view_module_version": "1.2.0",
            "_view_name": "LayoutView",
            "align_content": null,
            "align_items": null,
            "align_self": null,
            "border": null,
            "bottom": null,
            "display": null,
            "flex": null,
            "flex_flow": null,
            "grid_area": null,
            "grid_auto_columns": null,
            "grid_auto_flow": null,
            "grid_auto_rows": null,
            "grid_column": null,
            "grid_gap": null,
            "grid_row": null,
            "grid_template_areas": null,
            "grid_template_columns": null,
            "grid_template_rows": null,
            "height": null,
            "justify_content": null,
            "justify_items": null,
            "left": null,
            "margin": null,
            "max_height": null,
            "max_width": null,
            "min_height": null,
            "min_width": null,
            "object_fit": null,
            "object_position": null,
            "order": null,
            "overflow": null,
            "overflow_x": null,
            "overflow_y": null,
            "padding": null,
            "right": null,
            "top": null,
            "visibility": null,
            "width": null
          }
        },
        "99e513eb68ef47a4804288eecd86c0c1": {
          "model_module": "@jupyter-widgets/controls",
          "model_name": "ProgressStyleModel",
          "model_module_version": "1.5.0",
          "state": {
            "_model_module": "@jupyter-widgets/controls",
            "_model_module_version": "1.5.0",
            "_model_name": "ProgressStyleModel",
            "_view_count": null,
            "_view_module": "@jupyter-widgets/base",
            "_view_module_version": "1.2.0",
            "_view_name": "StyleView",
            "bar_color": null,
            "description_width": ""
          }
        },
        "f3b9425075e74e08b998a965026ca4a1": {
          "model_module": "@jupyter-widgets/base",
          "model_name": "LayoutModel",
          "model_module_version": "1.2.0",
          "state": {
            "_model_module": "@jupyter-widgets/base",
            "_model_module_version": "1.2.0",
            "_model_name": "LayoutModel",
            "_view_count": null,
            "_view_module": "@jupyter-widgets/base",
            "_view_module_version": "1.2.0",
            "_view_name": "LayoutView",
            "align_content": null,
            "align_items": null,
            "align_self": null,
            "border": null,
            "bottom": null,
            "display": null,
            "flex": null,
            "flex_flow": null,
            "grid_area": null,
            "grid_auto_columns": null,
            "grid_auto_flow": null,
            "grid_auto_rows": null,
            "grid_column": null,
            "grid_gap": null,
            "grid_row": null,
            "grid_template_areas": null,
            "grid_template_columns": null,
            "grid_template_rows": null,
            "height": null,
            "justify_content": null,
            "justify_items": null,
            "left": null,
            "margin": null,
            "max_height": null,
            "max_width": null,
            "min_height": null,
            "min_width": null,
            "object_fit": null,
            "object_position": null,
            "order": null,
            "overflow": null,
            "overflow_x": null,
            "overflow_y": null,
            "padding": null,
            "right": null,
            "top": null,
            "visibility": null,
            "width": null
          }
        },
        "207fcff5b42645838ca31b0ff28f8fe5": {
          "model_module": "@jupyter-widgets/controls",
          "model_name": "DescriptionStyleModel",
          "model_module_version": "1.5.0",
          "state": {
            "_model_module": "@jupyter-widgets/controls",
            "_model_module_version": "1.5.0",
            "_model_name": "DescriptionStyleModel",
            "_view_count": null,
            "_view_module": "@jupyter-widgets/base",
            "_view_module_version": "1.2.0",
            "_view_name": "StyleView",
            "description_width": ""
          }
        },
        "2db2d049b6774512a1fb0320062db490": {
          "model_module": "@jupyter-widgets/base",
          "model_name": "LayoutModel",
          "model_module_version": "1.2.0",
          "state": {
            "_model_module": "@jupyter-widgets/base",
            "_model_module_version": "1.2.0",
            "_model_name": "LayoutModel",
            "_view_count": null,
            "_view_module": "@jupyter-widgets/base",
            "_view_module_version": "1.2.0",
            "_view_name": "LayoutView",
            "align_content": null,
            "align_items": null,
            "align_self": null,
            "border": null,
            "bottom": null,
            "display": null,
            "flex": null,
            "flex_flow": null,
            "grid_area": null,
            "grid_auto_columns": null,
            "grid_auto_flow": null,
            "grid_auto_rows": null,
            "grid_column": null,
            "grid_gap": null,
            "grid_row": null,
            "grid_template_areas": null,
            "grid_template_columns": null,
            "grid_template_rows": null,
            "height": null,
            "justify_content": null,
            "justify_items": null,
            "left": null,
            "margin": null,
            "max_height": null,
            "max_width": null,
            "min_height": null,
            "min_width": null,
            "object_fit": null,
            "object_position": null,
            "order": null,
            "overflow": null,
            "overflow_x": null,
            "overflow_y": null,
            "padding": null,
            "right": null,
            "top": null,
            "visibility": null,
            "width": null
          }
        },
        "2cd4f761fc9e4d69840ef422a5409af7": {
          "model_module": "@jupyter-widgets/controls",
          "model_name": "ProgressStyleModel",
          "model_module_version": "1.5.0",
          "state": {
            "_model_module": "@jupyter-widgets/controls",
            "_model_module_version": "1.5.0",
            "_model_name": "ProgressStyleModel",
            "_view_count": null,
            "_view_module": "@jupyter-widgets/base",
            "_view_module_version": "1.2.0",
            "_view_name": "StyleView",
            "bar_color": null,
            "description_width": ""
          }
        },
        "97c05772dbb040dca638b9830a38303a": {
          "model_module": "@jupyter-widgets/base",
          "model_name": "LayoutModel",
          "model_module_version": "1.2.0",
          "state": {
            "_model_module": "@jupyter-widgets/base",
            "_model_module_version": "1.2.0",
            "_model_name": "LayoutModel",
            "_view_count": null,
            "_view_module": "@jupyter-widgets/base",
            "_view_module_version": "1.2.0",
            "_view_name": "LayoutView",
            "align_content": null,
            "align_items": null,
            "align_self": null,
            "border": null,
            "bottom": null,
            "display": null,
            "flex": null,
            "flex_flow": null,
            "grid_area": null,
            "grid_auto_columns": null,
            "grid_auto_flow": null,
            "grid_auto_rows": null,
            "grid_column": null,
            "grid_gap": null,
            "grid_row": null,
            "grid_template_areas": null,
            "grid_template_columns": null,
            "grid_template_rows": null,
            "height": null,
            "justify_content": null,
            "justify_items": null,
            "left": null,
            "margin": null,
            "max_height": null,
            "max_width": null,
            "min_height": null,
            "min_width": null,
            "object_fit": null,
            "object_position": null,
            "order": null,
            "overflow": null,
            "overflow_x": null,
            "overflow_y": null,
            "padding": null,
            "right": null,
            "top": null,
            "visibility": null,
            "width": null
          }
        },
        "412960ac454e4097895c71d9efe4e7ce": {
          "model_module": "@jupyter-widgets/controls",
          "model_name": "DescriptionStyleModel",
          "model_module_version": "1.5.0",
          "state": {
            "_model_module": "@jupyter-widgets/controls",
            "_model_module_version": "1.5.0",
            "_model_name": "DescriptionStyleModel",
            "_view_count": null,
            "_view_module": "@jupyter-widgets/base",
            "_view_module_version": "1.2.0",
            "_view_name": "StyleView",
            "description_width": ""
          }
        },
        "3d367bb738d0451d9bd4013f29ce49e4": {
          "model_module": "@jupyter-widgets/base",
          "model_name": "LayoutModel",
          "model_module_version": "1.2.0",
          "state": {
            "_model_module": "@jupyter-widgets/base",
            "_model_module_version": "1.2.0",
            "_model_name": "LayoutModel",
            "_view_count": null,
            "_view_module": "@jupyter-widgets/base",
            "_view_module_version": "1.2.0",
            "_view_name": "LayoutView",
            "align_content": null,
            "align_items": null,
            "align_self": null,
            "border": null,
            "bottom": null,
            "display": null,
            "flex": null,
            "flex_flow": null,
            "grid_area": null,
            "grid_auto_columns": null,
            "grid_auto_flow": null,
            "grid_auto_rows": null,
            "grid_column": null,
            "grid_gap": null,
            "grid_row": null,
            "grid_template_areas": null,
            "grid_template_columns": null,
            "grid_template_rows": null,
            "height": null,
            "justify_content": null,
            "justify_items": null,
            "left": null,
            "margin": null,
            "max_height": null,
            "max_width": null,
            "min_height": null,
            "min_width": null,
            "object_fit": null,
            "object_position": null,
            "order": null,
            "overflow": null,
            "overflow_x": null,
            "overflow_y": null,
            "padding": null,
            "right": null,
            "top": null,
            "visibility": null,
            "width": null
          }
        },
        "c7a063fa48934f66bd4744edce5ca3ee": {
          "model_module": "@jupyter-widgets/controls",
          "model_name": "DescriptionStyleModel",
          "model_module_version": "1.5.0",
          "state": {
            "_model_module": "@jupyter-widgets/controls",
            "_model_module_version": "1.5.0",
            "_model_name": "DescriptionStyleModel",
            "_view_count": null,
            "_view_module": "@jupyter-widgets/base",
            "_view_module_version": "1.2.0",
            "_view_name": "StyleView",
            "description_width": ""
          }
        },
        "38a5ce6b534e454c96223217fb58d5d4": {
          "model_module": "@jupyter-widgets/controls",
          "model_name": "HTMLModel",
          "model_module_version": "1.5.0",
          "state": {
            "_dom_classes": [],
            "_model_module": "@jupyter-widgets/controls",
            "_model_module_version": "1.5.0",
            "_model_name": "HTMLModel",
            "_view_count": null,
            "_view_module": "@jupyter-widgets/controls",
            "_view_module_version": "1.5.0",
            "_view_name": "HTMLView",
            "description": "",
            "description_tooltip": null,
            "layout": "IPY_MODEL_97c05772dbb040dca638b9830a38303a",
            "placeholder": "​",
            "style": "IPY_MODEL_412960ac454e4097895c71d9efe4e7ce",
            "value": "vocab.txt: 100%"
          }
        },
        "c91bb09c46f242ffbade0a9cff816c6e": {
          "model_module": "@jupyter-widgets/controls",
          "model_name": "FloatProgressModel",
          "model_module_version": "1.5.0",
          "state": {
            "_dom_classes": [],
            "_model_module": "@jupyter-widgets/controls",
            "_model_module_version": "1.5.0",
            "_model_name": "FloatProgressModel",
            "_view_count": null,
            "_view_module": "@jupyter-widgets/controls",
            "_view_module_version": "1.5.0",
            "_view_name": "ProgressView",
            "bar_style": "success",
            "description": "",
            "description_tooltip": null,
            "layout": "IPY_MODEL_2db2d049b6774512a1fb0320062db490",
            "max": 231508,
            "min": 0,
            "orientation": "horizontal",
            "style": "IPY_MODEL_2cd4f761fc9e4d69840ef422a5409af7",
            "value": 231508
          }
        },
        "3d38f06e8e4c42dabdba447898ed2681": {
          "model_module": "@jupyter-widgets/controls",
          "model_name": "HTMLModel",
          "model_module_version": "1.5.0",
          "state": {
            "_dom_classes": [],
            "_model_module": "@jupyter-widgets/controls",
            "_model_module_version": "1.5.0",
            "_model_name": "HTMLModel",
            "_view_count": null,
            "_view_module": "@jupyter-widgets/controls",
            "_view_module_version": "1.5.0",
            "_view_name": "HTMLView",
            "description": "",
            "description_tooltip": null,
            "layout": "IPY_MODEL_3d367bb738d0451d9bd4013f29ce49e4",
            "placeholder": "​",
            "style": "IPY_MODEL_c7a063fa48934f66bd4744edce5ca3ee",
            "value": " 232k/232k [00:00&lt;00:00, 6.29MB/s]"
          }
        },
        "0d3f4d84a08d483089f84b8c3dda2e7a": {
          "model_module": "@jupyter-widgets/base",
          "model_name": "LayoutModel",
          "model_module_version": "1.2.0",
          "state": {
            "_model_module": "@jupyter-widgets/base",
            "_model_module_version": "1.2.0",
            "_model_name": "LayoutModel",
            "_view_count": null,
            "_view_module": "@jupyter-widgets/base",
            "_view_module_version": "1.2.0",
            "_view_name": "LayoutView",
            "align_content": null,
            "align_items": null,
            "align_self": null,
            "border": null,
            "bottom": null,
            "display": null,
            "flex": null,
            "flex_flow": null,
            "grid_area": null,
            "grid_auto_columns": null,
            "grid_auto_flow": null,
            "grid_auto_rows": null,
            "grid_column": null,
            "grid_gap": null,
            "grid_row": null,
            "grid_template_areas": null,
            "grid_template_columns": null,
            "grid_template_rows": null,
            "height": null,
            "justify_content": null,
            "justify_items": null,
            "left": null,
            "margin": null,
            "max_height": null,
            "max_width": null,
            "min_height": null,
            "min_width": null,
            "object_fit": null,
            "object_position": null,
            "order": null,
            "overflow": null,
            "overflow_x": null,
            "overflow_y": null,
            "padding": null,
            "right": null,
            "top": null,
            "visibility": null,
            "width": null
          }
        },
        "9b1ed977279241c59141c3d49e26e6d9": {
          "model_module": "@jupyter-widgets/controls",
          "model_name": "HBoxModel",
          "model_module_version": "1.5.0",
          "state": {
            "_dom_classes": [],
            "_model_module": "@jupyter-widgets/controls",
            "_model_module_version": "1.5.0",
            "_model_name": "HBoxModel",
            "_view_count": null,
            "_view_module": "@jupyter-widgets/controls",
            "_view_module_version": "1.5.0",
            "_view_name": "HBoxView",
            "box_style": "",
            "children": [
              "IPY_MODEL_38a5ce6b534e454c96223217fb58d5d4",
              "IPY_MODEL_c91bb09c46f242ffbade0a9cff816c6e",
              "IPY_MODEL_3d38f06e8e4c42dabdba447898ed2681"
            ],
            "layout": "IPY_MODEL_0d3f4d84a08d483089f84b8c3dda2e7a"
          }
        },
        "9600bc6b27a24f72a2e9f4f6f15c7a76": {
          "model_module": "@jupyter-widgets/base",
          "model_name": "LayoutModel",
          "model_module_version": "1.2.0",
          "state": {
            "_model_module": "@jupyter-widgets/base",
            "_model_module_version": "1.2.0",
            "_model_name": "LayoutModel",
            "_view_count": null,
            "_view_module": "@jupyter-widgets/base",
            "_view_module_version": "1.2.0",
            "_view_name": "LayoutView",
            "align_content": null,
            "align_items": null,
            "align_self": null,
            "border": null,
            "bottom": null,
            "display": null,
            "flex": null,
            "flex_flow": null,
            "grid_area": null,
            "grid_auto_columns": null,
            "grid_auto_flow": null,
            "grid_auto_rows": null,
            "grid_column": null,
            "grid_gap": null,
            "grid_row": null,
            "grid_template_areas": null,
            "grid_template_columns": null,
            "grid_template_rows": null,
            "height": null,
            "justify_content": null,
            "justify_items": null,
            "left": null,
            "margin": null,
            "max_height": null,
            "max_width": null,
            "min_height": null,
            "min_width": null,
            "object_fit": null,
            "object_position": null,
            "order": null,
            "overflow": null,
            "overflow_x": null,
            "overflow_y": null,
            "padding": null,
            "right": null,
            "top": null,
            "visibility": null,
            "width": null
          }
        },
        "db83fff7d2f14692ba832732b59d07f8": {
          "model_module": "@jupyter-widgets/controls",
          "model_name": "ProgressStyleModel",
          "model_module_version": "1.5.0",
          "state": {
            "_model_module": "@jupyter-widgets/controls",
            "_model_module_version": "1.5.0",
            "_model_name": "ProgressStyleModel",
            "_view_count": null,
            "_view_module": "@jupyter-widgets/base",
            "_view_module_version": "1.2.0",
            "_view_name": "StyleView",
            "bar_color": null,
            "description_width": ""
          }
        },
        "4ff0ebeff2c448d9a72b6ef08bc81844": {
          "model_module": "@jupyter-widgets/base",
          "model_name": "LayoutModel",
          "model_module_version": "1.2.0",
          "state": {
            "_model_module": "@jupyter-widgets/base",
            "_model_module_version": "1.2.0",
            "_model_name": "LayoutModel",
            "_view_count": null,
            "_view_module": "@jupyter-widgets/base",
            "_view_module_version": "1.2.0",
            "_view_name": "LayoutView",
            "align_content": null,
            "align_items": null,
            "align_self": null,
            "border": null,
            "bottom": null,
            "display": null,
            "flex": null,
            "flex_flow": null,
            "grid_area": null,
            "grid_auto_columns": null,
            "grid_auto_flow": null,
            "grid_auto_rows": null,
            "grid_column": null,
            "grid_gap": null,
            "grid_row": null,
            "grid_template_areas": null,
            "grid_template_columns": null,
            "grid_template_rows": null,
            "height": null,
            "justify_content": null,
            "justify_items": null,
            "left": null,
            "margin": null,
            "max_height": null,
            "max_width": null,
            "min_height": null,
            "min_width": null,
            "object_fit": null,
            "object_position": null,
            "order": null,
            "overflow": null,
            "overflow_x": null,
            "overflow_y": null,
            "padding": null,
            "right": null,
            "top": null,
            "visibility": null,
            "width": null
          }
        },
        "17afb00c138f4af48fce144e21a940dc": {
          "model_module": "@jupyter-widgets/controls",
          "model_name": "DescriptionStyleModel",
          "model_module_version": "1.5.0",
          "state": {
            "_model_module": "@jupyter-widgets/controls",
            "_model_module_version": "1.5.0",
            "_model_name": "DescriptionStyleModel",
            "_view_count": null,
            "_view_module": "@jupyter-widgets/base",
            "_view_module_version": "1.2.0",
            "_view_name": "StyleView",
            "description_width": ""
          }
        },
        "fbaca4f6257d4d02b31b5ec8f6ac71b3": {
          "model_module": "@jupyter-widgets/base",
          "model_name": "LayoutModel",
          "model_module_version": "1.2.0",
          "state": {
            "_model_module": "@jupyter-widgets/base",
            "_model_module_version": "1.2.0",
            "_model_name": "LayoutModel",
            "_view_count": null,
            "_view_module": "@jupyter-widgets/base",
            "_view_module_version": "1.2.0",
            "_view_name": "LayoutView",
            "align_content": null,
            "align_items": null,
            "align_self": null,
            "border": null,
            "bottom": null,
            "display": null,
            "flex": null,
            "flex_flow": null,
            "grid_area": null,
            "grid_auto_columns": null,
            "grid_auto_flow": null,
            "grid_auto_rows": null,
            "grid_column": null,
            "grid_gap": null,
            "grid_row": null,
            "grid_template_areas": null,
            "grid_template_columns": null,
            "grid_template_rows": null,
            "height": null,
            "justify_content": null,
            "justify_items": null,
            "left": null,
            "margin": null,
            "max_height": null,
            "max_width": null,
            "min_height": null,
            "min_width": null,
            "object_fit": null,
            "object_position": null,
            "order": null,
            "overflow": null,
            "overflow_x": null,
            "overflow_y": null,
            "padding": null,
            "right": null,
            "top": null,
            "visibility": null,
            "width": null
          }
        },
        "c0c0b65b354843f9bc15853733d9b634": {
          "model_module": "@jupyter-widgets/controls",
          "model_name": "DescriptionStyleModel",
          "model_module_version": "1.5.0",
          "state": {
            "_model_module": "@jupyter-widgets/controls",
            "_model_module_version": "1.5.0",
            "_model_name": "DescriptionStyleModel",
            "_view_count": null,
            "_view_module": "@jupyter-widgets/base",
            "_view_module_version": "1.2.0",
            "_view_name": "StyleView",
            "description_width": ""
          }
        },
        "378e36183e2c44ecbb4b1c875eb4573a": {
          "model_module": "@jupyter-widgets/controls",
          "model_name": "HTMLModel",
          "model_module_version": "1.5.0",
          "state": {
            "_dom_classes": [],
            "_model_module": "@jupyter-widgets/controls",
            "_model_module_version": "1.5.0",
            "_model_name": "HTMLModel",
            "_view_count": null,
            "_view_module": "@jupyter-widgets/controls",
            "_view_module_version": "1.5.0",
            "_view_name": "HTMLView",
            "description": "",
            "description_tooltip": null,
            "layout": "IPY_MODEL_4ff0ebeff2c448d9a72b6ef08bc81844",
            "placeholder": "​",
            "style": "IPY_MODEL_17afb00c138f4af48fce144e21a940dc",
            "value": "tokenizer.json: 100%"
          }
        },
        "0da5a1a5c8e542d0b0dccae097356463": {
          "model_module": "@jupyter-widgets/controls",
          "model_name": "FloatProgressModel",
          "model_module_version": "1.5.0",
          "state": {
            "_dom_classes": [],
            "_model_module": "@jupyter-widgets/controls",
            "_model_module_version": "1.5.0",
            "_model_name": "FloatProgressModel",
            "_view_count": null,
            "_view_module": "@jupyter-widgets/controls",
            "_view_module_version": "1.5.0",
            "_view_name": "ProgressView",
            "bar_style": "success",
            "description": "",
            "description_tooltip": null,
            "layout": "IPY_MODEL_9600bc6b27a24f72a2e9f4f6f15c7a76",
            "max": 466062,
            "min": 0,
            "orientation": "horizontal",
            "style": "IPY_MODEL_db83fff7d2f14692ba832732b59d07f8",
            "value": 466062
          }
        },
        "686a47473e2047e5af01b879f5ae28d8": {
          "model_module": "@jupyter-widgets/controls",
          "model_name": "HTMLModel",
          "model_module_version": "1.5.0",
          "state": {
            "_dom_classes": [],
            "_model_module": "@jupyter-widgets/controls",
            "_model_module_version": "1.5.0",
            "_model_name": "HTMLModel",
            "_view_count": null,
            "_view_module": "@jupyter-widgets/controls",
            "_view_module_version": "1.5.0",
            "_view_name": "HTMLView",
            "description": "",
            "description_tooltip": null,
            "layout": "IPY_MODEL_fbaca4f6257d4d02b31b5ec8f6ac71b3",
            "placeholder": "​",
            "style": "IPY_MODEL_c0c0b65b354843f9bc15853733d9b634",
            "value": " 466k/466k [00:00&lt;00:00, 11.3MB/s]"
          }
        },
        "46f2236515af4f50844b8be2bbf5a27a": {
          "model_module": "@jupyter-widgets/base",
          "model_name": "LayoutModel",
          "model_module_version": "1.2.0",
          "state": {
            "_model_module": "@jupyter-widgets/base",
            "_model_module_version": "1.2.0",
            "_model_name": "LayoutModel",
            "_view_count": null,
            "_view_module": "@jupyter-widgets/base",
            "_view_module_version": "1.2.0",
            "_view_name": "LayoutView",
            "align_content": null,
            "align_items": null,
            "align_self": null,
            "border": null,
            "bottom": null,
            "display": null,
            "flex": null,
            "flex_flow": null,
            "grid_area": null,
            "grid_auto_columns": null,
            "grid_auto_flow": null,
            "grid_auto_rows": null,
            "grid_column": null,
            "grid_gap": null,
            "grid_row": null,
            "grid_template_areas": null,
            "grid_template_columns": null,
            "grid_template_rows": null,
            "height": null,
            "justify_content": null,
            "justify_items": null,
            "left": null,
            "margin": null,
            "max_height": null,
            "max_width": null,
            "min_height": null,
            "min_width": null,
            "object_fit": null,
            "object_position": null,
            "order": null,
            "overflow": null,
            "overflow_x": null,
            "overflow_y": null,
            "padding": null,
            "right": null,
            "top": null,
            "visibility": null,
            "width": null
          }
        },
        "ff602c31504441959e5eed8d67d5c2c3": {
          "model_module": "@jupyter-widgets/controls",
          "model_name": "HBoxModel",
          "model_module_version": "1.5.0",
          "state": {
            "_dom_classes": [],
            "_model_module": "@jupyter-widgets/controls",
            "_model_module_version": "1.5.0",
            "_model_name": "HBoxModel",
            "_view_count": null,
            "_view_module": "@jupyter-widgets/controls",
            "_view_module_version": "1.5.0",
            "_view_name": "HBoxView",
            "box_style": "",
            "children": [
              "IPY_MODEL_378e36183e2c44ecbb4b1c875eb4573a",
              "IPY_MODEL_0da5a1a5c8e542d0b0dccae097356463",
              "IPY_MODEL_686a47473e2047e5af01b879f5ae28d8"
            ],
            "layout": "IPY_MODEL_46f2236515af4f50844b8be2bbf5a27a"
          }
        },
        "530a3ad4b6ba4c5392c836d59a45d7a6": {
          "model_module": "@jupyter-widgets/base",
          "model_name": "LayoutModel",
          "model_module_version": "1.2.0",
          "state": {
            "_model_module": "@jupyter-widgets/base",
            "_model_module_version": "1.2.0",
            "_model_name": "LayoutModel",
            "_view_count": null,
            "_view_module": "@jupyter-widgets/base",
            "_view_module_version": "1.2.0",
            "_view_name": "LayoutView",
            "align_content": null,
            "align_items": null,
            "align_self": null,
            "border": null,
            "bottom": null,
            "display": null,
            "flex": null,
            "flex_flow": null,
            "grid_area": null,
            "grid_auto_columns": null,
            "grid_auto_flow": null,
            "grid_auto_rows": null,
            "grid_column": null,
            "grid_gap": null,
            "grid_row": null,
            "grid_template_areas": null,
            "grid_template_columns": null,
            "grid_template_rows": null,
            "height": null,
            "justify_content": null,
            "justify_items": null,
            "left": null,
            "margin": null,
            "max_height": null,
            "max_width": null,
            "min_height": null,
            "min_width": null,
            "object_fit": null,
            "object_position": null,
            "order": null,
            "overflow": null,
            "overflow_x": null,
            "overflow_y": null,
            "padding": null,
            "right": null,
            "top": null,
            "visibility": null,
            "width": null
          }
        },
        "e823db657d864b47933a37b669528a29": {
          "model_module": "@jupyter-widgets/controls",
          "model_name": "ProgressStyleModel",
          "model_module_version": "1.5.0",
          "state": {
            "_model_module": "@jupyter-widgets/controls",
            "_model_module_version": "1.5.0",
            "_model_name": "ProgressStyleModel",
            "_view_count": null,
            "_view_module": "@jupyter-widgets/base",
            "_view_module_version": "1.2.0",
            "_view_name": "StyleView",
            "bar_color": null,
            "description_width": ""
          }
        },
        "b9de039dd8814f42a06f407de2c863e0": {
          "model_module": "@jupyter-widgets/base",
          "model_name": "LayoutModel",
          "model_module_version": "1.2.0",
          "state": {
            "_model_module": "@jupyter-widgets/base",
            "_model_module_version": "1.2.0",
            "_model_name": "LayoutModel",
            "_view_count": null,
            "_view_module": "@jupyter-widgets/base",
            "_view_module_version": "1.2.0",
            "_view_name": "LayoutView",
            "align_content": null,
            "align_items": null,
            "align_self": null,
            "border": null,
            "bottom": null,
            "display": null,
            "flex": null,
            "flex_flow": null,
            "grid_area": null,
            "grid_auto_columns": null,
            "grid_auto_flow": null,
            "grid_auto_rows": null,
            "grid_column": null,
            "grid_gap": null,
            "grid_row": null,
            "grid_template_areas": null,
            "grid_template_columns": null,
            "grid_template_rows": null,
            "height": null,
            "justify_content": null,
            "justify_items": null,
            "left": null,
            "margin": null,
            "max_height": null,
            "max_width": null,
            "min_height": null,
            "min_width": null,
            "object_fit": null,
            "object_position": null,
            "order": null,
            "overflow": null,
            "overflow_x": null,
            "overflow_y": null,
            "padding": null,
            "right": null,
            "top": null,
            "visibility": null,
            "width": null
          }
        },
        "2bf8a7300ef84dd08198b8b7773857f4": {
          "model_module": "@jupyter-widgets/controls",
          "model_name": "DescriptionStyleModel",
          "model_module_version": "1.5.0",
          "state": {
            "_model_module": "@jupyter-widgets/controls",
            "_model_module_version": "1.5.0",
            "_model_name": "DescriptionStyleModel",
            "_view_count": null,
            "_view_module": "@jupyter-widgets/base",
            "_view_module_version": "1.2.0",
            "_view_name": "StyleView",
            "description_width": ""
          }
        },
        "826ab2f51783414db6b28532390eb1d5": {
          "model_module": "@jupyter-widgets/base",
          "model_name": "LayoutModel",
          "model_module_version": "1.2.0",
          "state": {
            "_model_module": "@jupyter-widgets/base",
            "_model_module_version": "1.2.0",
            "_model_name": "LayoutModel",
            "_view_count": null,
            "_view_module": "@jupyter-widgets/base",
            "_view_module_version": "1.2.0",
            "_view_name": "LayoutView",
            "align_content": null,
            "align_items": null,
            "align_self": null,
            "border": null,
            "bottom": null,
            "display": null,
            "flex": null,
            "flex_flow": null,
            "grid_area": null,
            "grid_auto_columns": null,
            "grid_auto_flow": null,
            "grid_auto_rows": null,
            "grid_column": null,
            "grid_gap": null,
            "grid_row": null,
            "grid_template_areas": null,
            "grid_template_columns": null,
            "grid_template_rows": null,
            "height": null,
            "justify_content": null,
            "justify_items": null,
            "left": null,
            "margin": null,
            "max_height": null,
            "max_width": null,
            "min_height": null,
            "min_width": null,
            "object_fit": null,
            "object_position": null,
            "order": null,
            "overflow": null,
            "overflow_x": null,
            "overflow_y": null,
            "padding": null,
            "right": null,
            "top": null,
            "visibility": null,
            "width": null
          }
        },
        "ed9b58bb60e04416bcccccbf7ecc67ed": {
          "model_module": "@jupyter-widgets/controls",
          "model_name": "DescriptionStyleModel",
          "model_module_version": "1.5.0",
          "state": {
            "_model_module": "@jupyter-widgets/controls",
            "_model_module_version": "1.5.0",
            "_model_name": "DescriptionStyleModel",
            "_view_count": null,
            "_view_module": "@jupyter-widgets/base",
            "_view_module_version": "1.2.0",
            "_view_name": "StyleView",
            "description_width": ""
          }
        },
        "099f2cf5e27a42a5a181a7a07c56615c": {
          "model_module": "@jupyter-widgets/controls",
          "model_name": "HTMLModel",
          "model_module_version": "1.5.0",
          "state": {
            "_dom_classes": [],
            "_model_module": "@jupyter-widgets/controls",
            "_model_module_version": "1.5.0",
            "_model_name": "HTMLModel",
            "_view_count": null,
            "_view_module": "@jupyter-widgets/controls",
            "_view_module_version": "1.5.0",
            "_view_name": "HTMLView",
            "description": "",
            "description_tooltip": null,
            "layout": "IPY_MODEL_b9de039dd8814f42a06f407de2c863e0",
            "placeholder": "​",
            "style": "IPY_MODEL_2bf8a7300ef84dd08198b8b7773857f4",
            "value": "config.json: 100%"
          }
        },
        "cd30c843c7c54bbba74b82bada2df958": {
          "model_module": "@jupyter-widgets/controls",
          "model_name": "FloatProgressModel",
          "model_module_version": "1.5.0",
          "state": {
            "_dom_classes": [],
            "_model_module": "@jupyter-widgets/controls",
            "_model_module_version": "1.5.0",
            "_model_name": "FloatProgressModel",
            "_view_count": null,
            "_view_module": "@jupyter-widgets/controls",
            "_view_module_version": "1.5.0",
            "_view_name": "ProgressView",
            "bar_style": "success",
            "description": "",
            "description_tooltip": null,
            "layout": "IPY_MODEL_530a3ad4b6ba4c5392c836d59a45d7a6",
            "max": 570,
            "min": 0,
            "orientation": "horizontal",
            "style": "IPY_MODEL_e823db657d864b47933a37b669528a29",
            "value": 570
          }
        },
        "bcb79b09437f47dbace2510369380b56": {
          "model_module": "@jupyter-widgets/controls",
          "model_name": "HTMLModel",
          "model_module_version": "1.5.0",
          "state": {
            "_dom_classes": [],
            "_model_module": "@jupyter-widgets/controls",
            "_model_module_version": "1.5.0",
            "_model_name": "HTMLModel",
            "_view_count": null,
            "_view_module": "@jupyter-widgets/controls",
            "_view_module_version": "1.5.0",
            "_view_name": "HTMLView",
            "description": "",
            "description_tooltip": null,
            "layout": "IPY_MODEL_826ab2f51783414db6b28532390eb1d5",
            "placeholder": "​",
            "style": "IPY_MODEL_ed9b58bb60e04416bcccccbf7ecc67ed",
            "value": " 570/570 [00:00&lt;00:00, 31.6kB/s]"
          }
        },
        "b58183cd16f7489496d676293d2499f1": {
          "model_module": "@jupyter-widgets/base",
          "model_name": "LayoutModel",
          "model_module_version": "1.2.0",
          "state": {
            "_model_module": "@jupyter-widgets/base",
            "_model_module_version": "1.2.0",
            "_model_name": "LayoutModel",
            "_view_count": null,
            "_view_module": "@jupyter-widgets/base",
            "_view_module_version": "1.2.0",
            "_view_name": "LayoutView",
            "align_content": null,
            "align_items": null,
            "align_self": null,
            "border": null,
            "bottom": null,
            "display": null,
            "flex": null,
            "flex_flow": null,
            "grid_area": null,
            "grid_auto_columns": null,
            "grid_auto_flow": null,
            "grid_auto_rows": null,
            "grid_column": null,
            "grid_gap": null,
            "grid_row": null,
            "grid_template_areas": null,
            "grid_template_columns": null,
            "grid_template_rows": null,
            "height": null,
            "justify_content": null,
            "justify_items": null,
            "left": null,
            "margin": null,
            "max_height": null,
            "max_width": null,
            "min_height": null,
            "min_width": null,
            "object_fit": null,
            "object_position": null,
            "order": null,
            "overflow": null,
            "overflow_x": null,
            "overflow_y": null,
            "padding": null,
            "right": null,
            "top": null,
            "visibility": null,
            "width": null
          }
        },
        "eb5c617ea66e491b9600226b550644ea": {
          "model_module": "@jupyter-widgets/controls",
          "model_name": "HBoxModel",
          "model_module_version": "1.5.0",
          "state": {
            "_dom_classes": [],
            "_model_module": "@jupyter-widgets/controls",
            "_model_module_version": "1.5.0",
            "_model_name": "HBoxModel",
            "_view_count": null,
            "_view_module": "@jupyter-widgets/controls",
            "_view_module_version": "1.5.0",
            "_view_name": "HBoxView",
            "box_style": "",
            "children": [
              "IPY_MODEL_099f2cf5e27a42a5a181a7a07c56615c",
              "IPY_MODEL_cd30c843c7c54bbba74b82bada2df958",
              "IPY_MODEL_bcb79b09437f47dbace2510369380b56"
            ],
            "layout": "IPY_MODEL_b58183cd16f7489496d676293d2499f1"
          }
        },
        "ad81fc7c34b44be08ca93b0bea7b5f4e": {
          "model_module": "yfiles-jupyter-graphs",
          "model_name": "GraphModel",
          "model_module_version": "^1.10.3",
          "state": {
            "_context_pane_mapping": [
              {
                "id": "Neighborhood",
                "title": "Neighborhood"
              },
              {
                "id": "Data",
                "title": "Data"
              },
              {
                "id": "Search",
                "title": "Search"
              },
              {
                "id": "About",
                "title": "About"
              }
            ],
            "_data_importer": "networkx",
            "_directed": false,
            "_dom_classes": [],
            "_edges": [
              {
                "id": 0,
                "start": 0,
                "end": 1,
                "properties": {
                  "_src": {
                    "offset": 0,
                    "table": 0
                  },
                  "_dst": {
                    "offset": 1,
                    "table": 0
                  },
                  "_label": "Links",
                  "_id": {
                    "offset": 0,
                    "table": 1
                  }
                },
                "color": "#15AFAC",
                "thickness_factor": 1,
                "directed": false,
                "styles": {},
                "label": ""
              },
              {
                "id": 1,
                "start": 1,
                "end": 2,
                "properties": {
                  "_src": {
                    "offset": 1,
                    "table": 0
                  },
                  "_dst": {
                    "offset": 2,
                    "table": 0
                  },
                  "_label": "Links",
                  "_id": {
                    "offset": 1,
                    "table": 1
                  }
                },
                "color": "#15AFAC",
                "thickness_factor": 1,
                "directed": false,
                "styles": {},
                "label": ""
              },
              {
                "id": 2,
                "start": 2,
                "end": 3,
                "properties": {
                  "_src": {
                    "offset": 2,
                    "table": 0
                  },
                  "_dst": {
                    "offset": 45,
                    "table": 0
                  },
                  "_label": "Links",
                  "_id": {
                    "offset": 61,
                    "table": 1
                  }
                },
                "color": "#15AFAC",
                "thickness_factor": 1,
                "directed": false,
                "styles": {},
                "label": ""
              }
            ],
            "_graph_layout": {},
            "_highlight": [],
            "_license": {},
            "_model_module": "yfiles-jupyter-graphs",
            "_model_module_version": "^1.10.3",
            "_model_name": "GraphModel",
            "_neighborhood": {},
            "_nodes": [
              {
                "id": 0,
                "properties": {
                  "_id": {
                    "offset": 0,
                    "table": 0
                  },
                  "_label": "MenuItem",
                  "name": "Apps",
                  "description": "\"Apps\" is a menu providing access to your device's applications.  It allows you to manage installed apps, create folders to organize them, and potentially update or delete them.  You can also set default apps for various categories.  The \"Apps\" menu is a central hub for all your device's software.\n",
                  "MenuItem": true,
                  "label": "MenuItem_Apps"
                },
                "color": "#15AFAC",
                "styles": {},
                "label": "MenuItem_Apps",
                "scale_factor": 1,
                "type": "#15AFAC",
                "size": [
                  55,
                  55
                ],
                "position": [
                  0,
                  0
                ]
              },
              {
                "id": 1,
                "properties": {
                  "_id": {
                    "offset": 1,
                    "table": 0
                  },
                  "_label": "MenuItem",
                  "name": "Samsung apps",
                  "description": "Samsung apps is a collection of pre-installed applications on Samsung devices.  These apps offer various functionalities, from managing contacts and emails to taking photos and browsing the web.  They include tools like Samsung Notes, Samsung Internet, and Samsung Pay.  These apps provide a convenient and integrated user experience within the Samsung ecosystem.\n",
                  "MenuItem": true,
                  "label": "MenuItem_Samsung apps"
                },
                "color": "#15AFAC",
                "styles": {},
                "label": "MenuItem_Samsung apps",
                "scale_factor": 1,
                "type": "#15AFAC",
                "size": [
                  55,
                  55
                ],
                "position": [
                  0,
                  0
                ]
              },
              {
                "id": 2,
                "properties": {
                  "_id": {
                    "offset": 2,
                    "table": 0
                  },
                  "_label": "MenuItem",
                  "name": "Camera",
                  "description": "The Camera feature lets you take photos and videos.  Access advanced settings through the main camera screen's icons and a dedicated settings menu.  Customize video recording with options like HEVC and HDR10+ for enhanced quality and efficiency.  Additional settings control storage location and shutter sound.\n",
                  "MenuItem": true,
                  "label": "MenuItem_Camera"
                },
                "color": "#15AFAC",
                "styles": {},
                "label": "MenuItem_Camera",
                "scale_factor": 1,
                "type": "#15AFAC",
                "size": [
                  55,
                  55
                ],
                "position": [
                  0,
                  0
                ]
              },
              {
                "id": 3,
                "properties": {
                  "_id": {
                    "offset": 45,
                    "table": 0
                  },
                  "_label": "MenuItem",
                  "name": "Super steady",
                  "description": "Super steady is a video stabilization feature that smooths out shaky footage.  It uses advanced algorithms to create professional-looking video, even when recording with significant movement.  However, it's incompatible with certain other features like Zoom-in mic and Slow motion.  For best results, use Super steady when recording with the rear camera and without Live focus video.\n",
                  "MenuItem": true,
                  "label": "MenuItem_Super steady"
                },
                "color": "#15AFAC",
                "styles": {},
                "label": "MenuItem_Super steady",
                "scale_factor": 1,
                "type": "#15AFAC",
                "size": [
                  55,
                  55
                ],
                "position": [
                  0,
                  0
                ]
              }
            ],
            "_overview": {
              "enabled": null,
              "overview_set": false
            },
            "_selected_graph": [
              [],
              []
            ],
            "_sidebar": {
              "enabled": false,
              "start_with": ""
            },
            "_view_count": null,
            "_view_module": "yfiles-jupyter-graphs",
            "_view_module_version": "^1.10.3",
            "_view_name": "GraphView",
            "layout": "IPY_MODEL_db457e4c46414a1ba11d5ba8bb688ce3"
          }
        },
        "db457e4c46414a1ba11d5ba8bb688ce3": {
          "model_module": "@jupyter-widgets/base",
          "model_name": "LayoutModel",
          "model_module_version": "1.2.0",
          "state": {
            "_model_module": "@jupyter-widgets/base",
            "_model_module_version": "1.2.0",
            "_model_name": "LayoutModel",
            "_view_count": null,
            "_view_module": "@jupyter-widgets/base",
            "_view_module_version": "1.2.0",
            "_view_name": "LayoutView",
            "align_content": null,
            "align_items": null,
            "align_self": null,
            "border": null,
            "bottom": null,
            "display": null,
            "flex": null,
            "flex_flow": null,
            "grid_area": null,
            "grid_auto_columns": null,
            "grid_auto_flow": null,
            "grid_auto_rows": null,
            "grid_column": null,
            "grid_gap": null,
            "grid_row": null,
            "grid_template_areas": null,
            "grid_template_columns": null,
            "grid_template_rows": null,
            "height": "500px",
            "justify_content": null,
            "justify_items": null,
            "left": null,
            "margin": null,
            "max_height": null,
            "max_width": null,
            "min_height": null,
            "min_width": null,
            "object_fit": null,
            "object_position": null,
            "order": null,
            "overflow": null,
            "overflow_x": null,
            "overflow_y": null,
            "padding": null,
            "right": null,
            "top": null,
            "visibility": null,
            "width": "100%"
          }
        }
      }
    }
  },
  "nbformat": 4,
  "nbformat_minor": 0
}